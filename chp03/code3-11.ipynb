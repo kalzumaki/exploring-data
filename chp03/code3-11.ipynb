{
 "cells": [
  {
   "cell_type": "code",
   "execution_count": null,
   "id": "dcec84ab",
   "metadata": {},
   "outputs": [
    {
     "data": {
      "application/vnd.microsoft.datawrangler.viewer.v0+json": {
       "columns": [
        {
         "name": "index",
         "rawType": "object",
         "type": "string"
        },
        {
         "name": "0",
         "rawType": "int64",
         "type": "integer"
        }
       ],
       "ref": "05effdd1-08b2-46f0-bb61-f001af31fa3a",
       "rows": [
        [
         "KOR",
         "95"
        ],
        [
         "ENG",
         "75"
        ],
        [
         "MATH",
         "90"
        ]
       ],
       "shape": {
        "columns": 1,
        "rows": 3
       }
      },
      "text/plain": [
       "KOR     95\n",
       "ENG     75\n",
       "MATH    90\n",
       "dtype: int64"
      ]
     },
     "execution_count": 9,
     "metadata": {},
     "output_type": "execute_result"
    }
   ],
   "source": [
    "import pandas as pd\n",
    "\n",
    "score_1 = pd.Series([80, 75, 90], \n",
    "                    index=['KOR', 'ENG', 'MATH'])\n",
    "score_2 = score_1\n",
    "score_2.loc['KOR'] = 95\n",
    "score_2\n",
    "score_1\n",
    "score_3 = score_1.copy()\n",
    "score_3.loc['KOR'] = 70\n",
    "score_3\n",
    "score_1"
   ]
  }
 ],
 "metadata": {
  "kernelspec": {
   "display_name": "Python 3",
   "language": "python",
   "name": "python3"
  },
  "language_info": {
   "codemirror_mode": {
    "name": "ipython",
    "version": 3
   },
   "file_extension": ".py",
   "mimetype": "text/x-python",
   "name": "python",
   "nbconvert_exporter": "python",
   "pygments_lexer": "ipython3",
   "version": "3.13.5"
  }
 },
 "nbformat": 4,
 "nbformat_minor": 5
}
