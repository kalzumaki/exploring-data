{
 "cells": [
  {
   "cell_type": "code",
   "execution_count": 22,
   "id": "d49c9d3d",
   "metadata": {},
   "outputs": [
    {
     "data": {
      "application/vnd.microsoft.datawrangler.viewer.v0+json": {
       "columns": [
        {
         "name": "index",
         "rawType": "object",
         "type": "string"
        },
        {
         "name": "0",
         "rawType": "int64",
         "type": "integer"
        }
       ],
       "ref": "dd8039d9-48db-478c-8b82-b9fd54d83b02",
       "rows": [
        [
         "KOR",
         "85"
        ],
        [
         "ENG",
         "70"
        ],
        [
         "MATH",
         "80"
        ],
        [
         "SCI",
         "95"
        ],
        [
         "PHY",
         "50"
        ]
       ],
       "shape": {
        "columns": 1,
        "rows": 5
       }
      },
      "text/plain": [
       "KOR     85\n",
       "ENG     70\n",
       "MATH    80\n",
       "SCI     95\n",
       "PHY     50\n",
       "dtype: int64"
      ]
     },
     "execution_count": 22,
     "metadata": {},
     "output_type": "execute_result"
    }
   ],
   "source": [
    "import pandas as pd\n",
    "\n",
    "salary = pd.Series([20, 15, 18, 30])\n",
    "score = pd.Series([80, 90, 85, 95], index = ['KOR', 'ENG', 'MATH', 'SCI'])\n",
    "salary\n",
    "score\n",
    "\n",
    "score.iloc[0] = 85\n",
    "score\n",
    "score.loc[['ENG', 'MATH']] = [70, 80]\n",
    "score\n",
    "\n",
    "score.loc['PHY'] = 50 # adding but it will not read with iloc\n",
    "score"
   ]
  },
  {
   "cell_type": "code",
   "execution_count": 27,
   "id": "574675c2",
   "metadata": {},
   "outputs": [
    {
     "data": {
      "application/vnd.microsoft.datawrangler.viewer.v0+json": {
       "columns": [
        {
         "name": "index",
         "rawType": "object",
         "type": "string"
        },
        {
         "name": "0",
         "rawType": "int64",
         "type": "integer"
        }
       ],
       "ref": "b4e45ddf-087b-47fa-93d7-45898bff10f3",
       "rows": [
        [
         "KOR",
         "85"
        ],
        [
         "ENG",
         "70"
        ],
        [
         "MATH",
         "80"
        ],
        [
         "SCI",
         "95"
        ],
        [
         "PHY",
         "50"
        ],
        [
         "MUSIC",
         "95"
        ]
       ],
       "shape": {
        "columns": 1,
        "rows": 6
       }
      },
      "text/plain": [
       "KOR      85\n",
       "ENG      70\n",
       "MATH     80\n",
       "SCI      95\n",
       "PHY      50\n",
       "MUSIC    95\n",
       "dtype: int64"
      ]
     },
     "execution_count": 27,
     "metadata": {},
     "output_type": "execute_result"
    }
   ],
   "source": [
    "new = pd.Series({'MUSIC' : 95})\n",
    "score._append(new)"
   ]
  },
  {
   "cell_type": "code",
   "execution_count": null,
   "id": "cf469167",
   "metadata": {},
   "outputs": [
    {
     "data": {
      "application/vnd.microsoft.datawrangler.viewer.v0+json": {
       "columns": [
        {
         "name": "index",
         "rawType": "int64",
         "type": "integer"
        },
        {
         "name": "0",
         "rawType": "int64",
         "type": "integer"
        }
       ],
       "ref": "6ed60dfb-85d1-4a84-be8f-fe9688a40aa9",
       "rows": [
        [
         "0",
         "20"
        ],
        [
         "1",
         "15"
        ],
        [
         "2",
         "18"
        ],
        [
         "3",
         "30"
        ],
        [
         "4",
         "66"
        ]
       ],
       "shape": {
        "columns": 1,
        "rows": 5
       }
      },
      "text/plain": [
       "0    20\n",
       "1    15\n",
       "2    18\n",
       "3    30\n",
       "4    66\n",
       "dtype: int64"
      ]
     },
     "execution_count": 30,
     "metadata": {},
     "output_type": "execute_result"
    }
   ],
   "source": [
    "salary._append(pd.Series([66]), ignore_index = True)"
   ]
  }
 ],
 "metadata": {
  "kernelspec": {
   "display_name": "Python 3",
   "language": "python",
   "name": "python3"
  },
  "language_info": {
   "codemirror_mode": {
    "name": "ipython",
    "version": 3
   },
   "file_extension": ".py",
   "mimetype": "text/x-python",
   "name": "python",
   "nbconvert_exporter": "python",
   "pygments_lexer": "ipython3",
   "version": "3.13.5"
  }
 },
 "nbformat": 4,
 "nbformat_minor": 5
}
