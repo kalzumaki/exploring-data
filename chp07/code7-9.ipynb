{
 "cells": [
  {
   "cell_type": "markdown",
   "id": "c4b69b78",
   "metadata": {},
   "source": [
    "# CODE 7-9\n"
   ]
  },
  {
   "cell_type": "code",
   "execution_count": 1,
   "id": "c5710364",
   "metadata": {},
   "outputs": [
    {
     "data": {
      "application/vnd.microsoft.datawrangler.viewer.v0+json": {
       "columns": [
        {
         "name": "('cyl', 'vs')",
         "rawType": "object",
         "type": "unknown"
        },
        {
         "name": "model",
         "rawType": "object",
         "type": "string"
        },
        {
         "name": "mpg",
         "rawType": "float64",
         "type": "float"
        },
        {
         "name": "disp",
         "rawType": "float64",
         "type": "float"
        },
        {
         "name": "hp",
         "rawType": "int64",
         "type": "integer"
        },
        {
         "name": "drat",
         "rawType": "float64",
         "type": "float"
        },
        {
         "name": "wt",
         "rawType": "float64",
         "type": "float"
        },
        {
         "name": "qsec",
         "rawType": "float64",
         "type": "float"
        },
        {
         "name": "am",
         "rawType": "int64",
         "type": "integer"
        },
        {
         "name": "gear",
         "rawType": "int64",
         "type": "integer"
        },
        {
         "name": "carb",
         "rawType": "int64",
         "type": "integer"
        }
       ],
       "ref": "e0ea3da1-b384-414e-b429-4547b18d9c97",
       "rows": [
        [
         "(np.int64(4), np.int64(0))",
         "Porsche 914-2",
         "26.0",
         "120.3",
         "91",
         "4.43",
         "2.14",
         "16.7",
         "1",
         "5",
         "2"
        ],
        [
         "(np.int64(4), np.int64(1))",
         "Volvo 142E",
         "33.9",
         "146.7",
         "113",
         "4.93",
         "3.19",
         "22.9",
         "1",
         "5",
         "2"
        ],
        [
         "(np.int64(6), np.int64(0))",
         "Mazda RX4 Wag",
         "21.0",
         "160.0",
         "175",
         "3.9",
         "2.875",
         "17.02",
         "1",
         "5",
         "6"
        ],
        [
         "(np.int64(6), np.int64(1))",
         "Valiant",
         "21.4",
         "258.0",
         "123",
         "3.92",
         "3.46",
         "20.22",
         "0",
         "4",
         "4"
        ],
        [
         "(np.int64(8), np.int64(0))",
         "Pontiac Firebird",
         "19.2",
         "472.0",
         "335",
         "4.22",
         "5.424",
         "18.0",
         "1",
         "5",
         "8"
        ]
       ],
       "shape": {
        "columns": 10,
        "rows": 5
       }
      },
      "text/html": [
       "<div>\n",
       "<style scoped>\n",
       "    .dataframe tbody tr th:only-of-type {\n",
       "        vertical-align: middle;\n",
       "    }\n",
       "\n",
       "    .dataframe tbody tr th {\n",
       "        vertical-align: top;\n",
       "    }\n",
       "\n",
       "    .dataframe thead th {\n",
       "        text-align: right;\n",
       "    }\n",
       "</style>\n",
       "<table border=\"1\" class=\"dataframe\">\n",
       "  <thead>\n",
       "    <tr style=\"text-align: right;\">\n",
       "      <th></th>\n",
       "      <th></th>\n",
       "      <th>model</th>\n",
       "      <th>mpg</th>\n",
       "      <th>disp</th>\n",
       "      <th>hp</th>\n",
       "      <th>drat</th>\n",
       "      <th>wt</th>\n",
       "      <th>qsec</th>\n",
       "      <th>am</th>\n",
       "      <th>gear</th>\n",
       "      <th>carb</th>\n",
       "    </tr>\n",
       "    <tr>\n",
       "      <th>cyl</th>\n",
       "      <th>vs</th>\n",
       "      <th></th>\n",
       "      <th></th>\n",
       "      <th></th>\n",
       "      <th></th>\n",
       "      <th></th>\n",
       "      <th></th>\n",
       "      <th></th>\n",
       "      <th></th>\n",
       "      <th></th>\n",
       "      <th></th>\n",
       "    </tr>\n",
       "  </thead>\n",
       "  <tbody>\n",
       "    <tr>\n",
       "      <th rowspan=\"2\" valign=\"top\">4</th>\n",
       "      <th>0</th>\n",
       "      <td>Porsche 914-2</td>\n",
       "      <td>26.0</td>\n",
       "      <td>120.3</td>\n",
       "      <td>91</td>\n",
       "      <td>4.43</td>\n",
       "      <td>2.140</td>\n",
       "      <td>16.70</td>\n",
       "      <td>1</td>\n",
       "      <td>5</td>\n",
       "      <td>2</td>\n",
       "    </tr>\n",
       "    <tr>\n",
       "      <th>1</th>\n",
       "      <td>Volvo 142E</td>\n",
       "      <td>33.9</td>\n",
       "      <td>146.7</td>\n",
       "      <td>113</td>\n",
       "      <td>4.93</td>\n",
       "      <td>3.190</td>\n",
       "      <td>22.90</td>\n",
       "      <td>1</td>\n",
       "      <td>5</td>\n",
       "      <td>2</td>\n",
       "    </tr>\n",
       "    <tr>\n",
       "      <th rowspan=\"2\" valign=\"top\">6</th>\n",
       "      <th>0</th>\n",
       "      <td>Mazda RX4 Wag</td>\n",
       "      <td>21.0</td>\n",
       "      <td>160.0</td>\n",
       "      <td>175</td>\n",
       "      <td>3.90</td>\n",
       "      <td>2.875</td>\n",
       "      <td>17.02</td>\n",
       "      <td>1</td>\n",
       "      <td>5</td>\n",
       "      <td>6</td>\n",
       "    </tr>\n",
       "    <tr>\n",
       "      <th>1</th>\n",
       "      <td>Valiant</td>\n",
       "      <td>21.4</td>\n",
       "      <td>258.0</td>\n",
       "      <td>123</td>\n",
       "      <td>3.92</td>\n",
       "      <td>3.460</td>\n",
       "      <td>20.22</td>\n",
       "      <td>0</td>\n",
       "      <td>4</td>\n",
       "      <td>4</td>\n",
       "    </tr>\n",
       "    <tr>\n",
       "      <th>8</th>\n",
       "      <th>0</th>\n",
       "      <td>Pontiac Firebird</td>\n",
       "      <td>19.2</td>\n",
       "      <td>472.0</td>\n",
       "      <td>335</td>\n",
       "      <td>4.22</td>\n",
       "      <td>5.424</td>\n",
       "      <td>18.00</td>\n",
       "      <td>1</td>\n",
       "      <td>5</td>\n",
       "      <td>8</td>\n",
       "    </tr>\n",
       "  </tbody>\n",
       "</table>\n",
       "</div>"
      ],
      "text/plain": [
       "                   model   mpg   disp   hp  drat     wt   qsec  am  gear  carb\n",
       "cyl vs                                                                        \n",
       "4   0      Porsche 914-2  26.0  120.3   91  4.43  2.140  16.70   1     5     2\n",
       "    1         Volvo 142E  33.9  146.7  113  4.93  3.190  22.90   1     5     2\n",
       "6   0      Mazda RX4 Wag  21.0  160.0  175  3.90  2.875  17.02   1     5     6\n",
       "    1            Valiant  21.4  258.0  123  3.92  3.460  20.22   0     4     4\n",
       "8   0   Pontiac Firebird  19.2  472.0  335  4.22  5.424  18.00   1     5     8"
      ]
     },
     "execution_count": 1,
     "metadata": {},
     "output_type": "execute_result"
    }
   ],
   "source": [
    "import pandas as pd\n",
    "\n",
    "df = pd.read_csv('../data/mtcars.csv')\n",
    "\n",
    "df_agg = df.groupby(['cyl', 'vs']).max()\n",
    "df_agg\n"
   ]
  }
 ],
 "metadata": {
  "kernelspec": {
   "display_name": "Python 3",
   "language": "python",
   "name": "python3"
  },
  "language_info": {
   "codemirror_mode": {
    "name": "ipython",
    "version": 3
   },
   "file_extension": ".py",
   "mimetype": "text/x-python",
   "name": "python",
   "nbconvert_exporter": "python",
   "pygments_lexer": "ipython3",
   "version": "3.13.5"
  }
 },
 "nbformat": 4,
 "nbformat_minor": 5
}
