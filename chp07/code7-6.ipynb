{
 "cells": [
  {
   "cell_type": "markdown",
   "id": "49ac4f5b",
   "metadata": {},
   "source": [
    "# CODE 7-6\n",
    "## RANKING"
   ]
  },
  {
   "cell_type": "code",
   "execution_count": 1,
   "id": "aca41846",
   "metadata": {},
   "outputs": [
    {
     "data": {
      "application/vnd.microsoft.datawrangler.viewer.v0+json": {
       "columns": [
        {
         "name": "index",
         "rawType": "int64",
         "type": "integer"
        },
        {
         "name": "Petal_Length",
         "rawType": "int64",
         "type": "integer"
        }
       ],
       "ref": "0d1439be-8960-4edc-87b1-3b8d2542895c",
       "rows": [
        [
         "0",
         "133"
        ],
        [
         "1",
         "133"
        ],
        [
         "2",
         "143"
        ],
        [
         "3",
         "120"
        ],
        [
         "4",
         "133"
        ],
        [
         "5",
         "104"
        ],
        [
         "6",
         "133"
        ],
        [
         "7",
         "120"
        ],
        [
         "8",
         "133"
        ],
        [
         "9",
         "120"
        ],
        [
         "10",
         "120"
        ],
        [
         "11",
         "110"
        ],
        [
         "12",
         "133"
        ],
        [
         "13",
         "149"
        ],
        [
         "14",
         "147"
        ],
        [
         "15",
         "120"
        ],
        [
         "16",
         "143"
        ],
        [
         "17",
         "133"
        ],
        [
         "18",
         "104"
        ],
        [
         "19",
         "120"
        ],
        [
         "20",
         "104"
        ],
        [
         "21",
         "120"
        ],
        [
         "22",
         "150"
        ],
        [
         "23",
         "104"
        ],
        [
         "24",
         "101"
        ],
        [
         "25",
         "110"
        ],
        [
         "26",
         "110"
        ],
        [
         "27",
         "120"
        ],
        [
         "28",
         "133"
        ],
        [
         "29",
         "110"
        ],
        [
         "30",
         "110"
        ],
        [
         "31",
         "120"
        ],
        [
         "32",
         "120"
        ],
        [
         "33",
         "133"
        ],
        [
         "34",
         "120"
        ],
        [
         "35",
         "147"
        ],
        [
         "36",
         "143"
        ],
        [
         "37",
         "133"
        ],
        [
         "38",
         "143"
        ],
        [
         "39",
         "120"
        ],
        [
         "40",
         "143"
        ],
        [
         "41",
         "143"
        ],
        [
         "42",
         "143"
        ],
        [
         "43",
         "110"
        ],
        [
         "44",
         "101"
        ],
        [
         "45",
         "133"
        ],
        [
         "46",
         "110"
        ],
        [
         "47",
         "133"
        ],
        [
         "48",
         "120"
        ],
        [
         "49",
         "133"
        ]
       ],
       "shape": {
        "columns": 1,
        "rows": 150
       }
      },
      "text/plain": [
       "0      133\n",
       "1      133\n",
       "2      143\n",
       "3      120\n",
       "4      133\n",
       "      ... \n",
       "145     33\n",
       "146     44\n",
       "147     33\n",
       "148     29\n",
       "149     38\n",
       "Name: Petal_Length, Length: 150, dtype: int64"
      ]
     },
     "execution_count": 1,
     "metadata": {},
     "output_type": "execute_result"
    }
   ],
   "source": [
    "import pandas as pd\n",
    "\n",
    "df = pd.read_csv('../data/iris.csv')\n",
    "\n",
    "\n",
    "df['Petal_Length'].rank().astype(int)\n",
    "df['Petal_Length'].rank(ascending=False).astype(int)"
   ]
  }
 ],
 "metadata": {
  "kernelspec": {
   "display_name": "Python 3",
   "language": "python",
   "name": "python3"
  },
  "language_info": {
   "codemirror_mode": {
    "name": "ipython",
    "version": 3
   },
   "file_extension": ".py",
   "mimetype": "text/x-python",
   "name": "python",
   "nbconvert_exporter": "python",
   "pygments_lexer": "ipython3",
   "version": "3.13.5"
  }
 },
 "nbformat": 4,
 "nbformat_minor": 5
}
