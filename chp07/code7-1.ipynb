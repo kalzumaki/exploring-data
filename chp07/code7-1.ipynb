{
 "cells": [
  {
   "cell_type": "markdown",
   "id": "f10a3287",
   "metadata": {},
   "source": [
    "# CODE 7-1\n",
    "## Handling missing values in a series"
   ]
  }
 ],
 "metadata": {
  "language_info": {
   "name": "python"
  }
 },
 "nbformat": 4,
 "nbformat_minor": 5
}
