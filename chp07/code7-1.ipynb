{
 "cells": [
  {
   "cell_type": "markdown",
   "id": "f10a3287",
   "metadata": {},
   "source": [
    "# CODE 7-1\n",
    "## Handling missing values in a series"
   ]
  },
  {
   "cell_type": "code",
   "execution_count": 30,
   "id": "d76f46d0",
   "metadata": {},
   "outputs": [
    {
     "data": {
      "application/vnd.microsoft.datawrangler.viewer.v0+json": {
       "columns": [
        {
         "name": "index",
         "rawType": "int64",
         "type": "integer"
        },
        {
         "name": "0",
         "rawType": "object",
         "type": "unknown"
        }
       ],
       "ref": "38f72185-1170-478a-9a05-e83a284f161d",
       "rows": [
        [
         "0",
         "30"
        ],
        [
         "1",
         "20"
        ],
        [
         "2",
         "40"
        ],
        [
         "3",
         null
        ],
        [
         "4",
         "30"
        ],
        [
         "5",
         null
        ]
       ],
       "shape": {
        "columns": 1,
        "rows": 6
       }
      },
      "text/plain": [
       "0      30\n",
       "1      20\n",
       "2      40\n",
       "3    <NA>\n",
       "4      30\n",
       "5    <NA>\n",
       "dtype: object"
      ]
     },
     "execution_count": 30,
     "metadata": {},
     "output_type": "execute_result"
    }
   ],
   "source": [
    "import pandas as pd\n",
    "\n",
    "score = pd.Series([30,20,40, pd.NA, 30, pd.NA])\n",
    "score"
   ]
  },
  {
   "cell_type": "code",
   "execution_count": 31,
   "id": "56032b2c",
   "metadata": {},
   "outputs": [
    {
     "data": {
      "text/plain": [
       "120"
      ]
     },
     "execution_count": 31,
     "metadata": {},
     "output_type": "execute_result"
    }
   ],
   "source": [
    "score.sum()"
   ]
  },
  {
   "cell_type": "code",
   "execution_count": 32,
   "id": "5f0d735e",
   "metadata": {},
   "outputs": [
    {
     "data": {
      "text/plain": [
       "np.float64(30.0)"
      ]
     },
     "execution_count": 32,
     "metadata": {},
     "output_type": "execute_result"
    }
   ],
   "source": [
    "score.mean()"
   ]
  },
  {
   "cell_type": "code",
   "execution_count": 33,
   "id": "a4984a05",
   "metadata": {},
   "outputs": [
    {
     "data": {
      "application/vnd.microsoft.datawrangler.viewer.v0+json": {
       "columns": [
        {
         "name": "index",
         "rawType": "int64",
         "type": "integer"
        },
        {
         "name": "0",
         "rawType": "object",
         "type": "unknown"
        }
       ],
       "ref": "7a2b5c16-7bed-4a03-af3c-4fa4df73255e",
       "rows": [
        [
         "0",
         "35"
        ],
        [
         "1",
         "25"
        ],
        [
         "2",
         "45"
        ],
        [
         "3",
         null
        ],
        [
         "4",
         "35"
        ],
        [
         "5",
         null
        ]
       ],
       "shape": {
        "columns": 1,
        "rows": 6
       }
      },
      "text/plain": [
       "0      35\n",
       "1      25\n",
       "2      45\n",
       "3    <NA>\n",
       "4      35\n",
       "5    <NA>\n",
       "dtype: object"
      ]
     },
     "execution_count": 33,
     "metadata": {},
     "output_type": "execute_result"
    }
   ],
   "source": [
    "score + 5"
   ]
  },
  {
   "cell_type": "code",
   "execution_count": 34,
   "id": "99a9c2c4",
   "metadata": {},
   "outputs": [
    {
     "data": {
      "application/vnd.microsoft.datawrangler.viewer.v0+json": {
       "columns": [
        {
         "name": "index",
         "rawType": "int64",
         "type": "integer"
        },
        {
         "name": "0",
         "rawType": "bool",
         "type": "boolean"
        }
       ],
       "ref": "fb2077db-9b44-4a0f-86e6-a237e99c33cc",
       "rows": [
        [
         "0",
         "False"
        ],
        [
         "1",
         "False"
        ],
        [
         "2",
         "False"
        ],
        [
         "3",
         "True"
        ],
        [
         "4",
         "False"
        ],
        [
         "5",
         "True"
        ]
       ],
       "shape": {
        "columns": 1,
        "rows": 6
       }
      },
      "text/plain": [
       "0    False\n",
       "1    False\n",
       "2    False\n",
       "3     True\n",
       "4    False\n",
       "5     True\n",
       "dtype: bool"
      ]
     },
     "execution_count": 34,
     "metadata": {},
     "output_type": "execute_result"
    }
   ],
   "source": [
    "pd.isna(score)"
   ]
  },
  {
   "cell_type": "code",
   "execution_count": 35,
   "id": "c3e9f673",
   "metadata": {},
   "outputs": [
    {
     "data": {
      "text/plain": [
       "np.int64(2)"
      ]
     },
     "execution_count": 35,
     "metadata": {},
     "output_type": "execute_result"
    }
   ],
   "source": [
    "pd.isna(score).sum()"
   ]
  },
  {
   "cell_type": "code",
   "execution_count": 36,
   "id": "f8afa951",
   "metadata": {},
   "outputs": [
    {
     "data": {
      "text/plain": [
       "6"
      ]
     },
     "execution_count": 36,
     "metadata": {},
     "output_type": "execute_result"
    }
   ],
   "source": [
    "score.size"
   ]
  },
  {
   "cell_type": "code",
   "execution_count": 37,
   "id": "55aa3962",
   "metadata": {},
   "outputs": [
    {
     "data": {
      "text/plain": [
       "np.int64(4)"
      ]
     },
     "execution_count": 37,
     "metadata": {},
     "output_type": "execute_result"
    }
   ],
   "source": [
    "score.count()"
   ]
  },
  {
   "cell_type": "code",
   "execution_count": 38,
   "id": "c8a4d949",
   "metadata": {},
   "outputs": [
    {
     "data": {
      "application/vnd.microsoft.datawrangler.viewer.v0+json": {
       "columns": [
        {
         "name": "index",
         "rawType": "int64",
         "type": "integer"
        },
        {
         "name": "0",
         "rawType": "bool",
         "type": "boolean"
        }
       ],
       "ref": "87221935-3dd3-4ce0-a2d6-3a68ffac501a",
       "rows": [
        [
         "0",
         "True"
        ],
        [
         "1",
         "True"
        ],
        [
         "2",
         "True"
        ],
        [
         "3",
         "False"
        ],
        [
         "4",
         "True"
        ],
        [
         "5",
         "False"
        ]
       ],
       "shape": {
        "columns": 1,
        "rows": 6
       }
      },
      "text/plain": [
       "0     True\n",
       "1     True\n",
       "2     True\n",
       "3    False\n",
       "4     True\n",
       "5    False\n",
       "dtype: bool"
      ]
     },
     "execution_count": 38,
     "metadata": {},
     "output_type": "execute_result"
    }
   ],
   "source": [
    "pd.notna(score)"
   ]
  },
  {
   "cell_type": "code",
   "execution_count": 39,
   "id": "dfe71cd3",
   "metadata": {},
   "outputs": [
    {
     "data": {
      "text/plain": [
       "np.int64(4)"
      ]
     },
     "execution_count": 39,
     "metadata": {},
     "output_type": "execute_result"
    }
   ],
   "source": [
    "pd.notna(score).sum()"
   ]
  },
  {
   "cell_type": "code",
   "execution_count": 40,
   "id": "a45c89f9",
   "metadata": {},
   "outputs": [
    {
     "data": {
      "application/vnd.microsoft.datawrangler.viewer.v0+json": {
       "columns": [
        {
         "name": "index",
         "rawType": "int64",
         "type": "integer"
        },
        {
         "name": "0",
         "rawType": "object",
         "type": "unknown"
        }
       ],
       "ref": "91cdc8a3-e383-4b1e-af45-b0c0b3a88494",
       "rows": [
        [
         "0",
         "30"
        ],
        [
         "1",
         "20"
        ],
        [
         "2",
         "40"
        ],
        [
         "4",
         "30"
        ]
       ],
       "shape": {
        "columns": 1,
        "rows": 4
       }
      },
      "text/plain": [
       "0    30\n",
       "1    20\n",
       "2    40\n",
       "4    30\n",
       "dtype: object"
      ]
     },
     "execution_count": 40,
     "metadata": {},
     "output_type": "execute_result"
    }
   ],
   "source": [
    "score = score.dropna()\n",
    "score\n"
   ]
  },
  {
   "cell_type": "code",
   "execution_count": 41,
   "id": "20cd6a93",
   "metadata": {},
   "outputs": [
    {
     "data": {
      "application/vnd.microsoft.datawrangler.viewer.v0+json": {
       "columns": [
        {
         "name": "index",
         "rawType": "int64",
         "type": "integer"
        },
        {
         "name": "0",
         "rawType": "object",
         "type": "unknown"
        }
       ],
       "ref": "17fda75c-531c-4113-af51-8f225a90c039",
       "rows": [
        [
         "0",
         "30"
        ],
        [
         "1",
         "20"
        ],
        [
         "2",
         "40"
        ],
        [
         "3",
         "30"
        ]
       ],
       "shape": {
        "columns": 1,
        "rows": 4
       }
      },
      "text/plain": [
       "0    30\n",
       "1    20\n",
       "2    40\n",
       "3    30\n",
       "dtype: object"
      ]
     },
     "execution_count": 41,
     "metadata": {},
     "output_type": "execute_result"
    }
   ],
   "source": [
    "score = score.reset_index(drop=True)\n",
    "score\n"
   ]
  },
  {
   "cell_type": "code",
   "execution_count": null,
   "id": "0fdb0a83",
   "metadata": {},
   "outputs": [],
   "source": []
  }
 ],
 "metadata": {
  "kernelspec": {
   "display_name": "Python 3",
   "language": "python",
   "name": "python3"
  },
  "language_info": {
   "codemirror_mode": {
    "name": "ipython",
    "version": 3
   },
   "file_extension": ".py",
   "mimetype": "text/x-python",
   "name": "python",
   "nbconvert_exporter": "python",
   "pygments_lexer": "ipython3",
   "version": "3.13.5"
  }
 },
 "nbformat": 4,
 "nbformat_minor": 5
}
