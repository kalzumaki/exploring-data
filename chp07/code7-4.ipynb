{
 "cells": [
  {
   "cell_type": "markdown",
   "id": "dbd0b114",
   "metadata": {},
   "source": [
    "# CODE 7-4"
   ]
  },
  {
   "cell_type": "code",
   "execution_count": 12,
   "id": "b4b25988",
   "metadata": {},
   "outputs": [
    {
     "data": {
      "text/plain": [
       "array([1.01900435, 0.13197948, 0.32841405, 0.09821729, 1.24920112,\n",
       "       1.93979142, 0.78880759, 0.78880759, 0.36217625, 0.09821729,\n",
       "       1.47939788, 0.78880759, 0.13197948, 0.13197948, 2.16998818,\n",
       "       3.09077525, 1.93979142, 1.01900435, 1.70959465, 1.70959465,\n",
       "       0.78880759, 1.47939788, 1.24920112, 0.55861082, 0.78880759,\n",
       "       0.13197948, 0.78880759, 1.01900435, 0.78880759, 0.32841405,\n",
       "       0.09821729, 0.78880759, 2.40018495, 2.63038172, 0.09821729,\n",
       "       0.32841405, 1.01900435, 1.24920112, 0.13197948, 0.78880759,\n",
       "       1.01900435, 1.74335684, 0.32841405, 1.01900435, 1.70959465,\n",
       "       0.13197948, 1.70959465, 0.32841405, 1.47939788, 0.55861082,\n",
       "       0.32841405, 0.32841405, 0.09821729, 1.74335684, 0.59237301,\n",
       "       0.59237301, 0.55861082, 1.51316008, 0.36217625, 0.82256978,\n",
       "       2.43394714, 0.13197948, 1.97355361, 0.36217625, 0.36217625,\n",
       "       0.09821729, 0.13197948, 0.82256978, 1.97355361, 1.28296331,\n",
       "       0.32841405, 0.59237301, 1.28296331, 0.59237301, 0.36217625,\n",
       "       0.13197948, 0.59237301, 0.13197948, 0.36217625, 1.05276654,\n",
       "       1.51316008, 1.51316008, 0.82256978, 0.82256978, 0.13197948,\n",
       "       0.78880759, 0.09821729, 1.74335684, 0.13197948, 1.28296331,\n",
       "       1.05276654, 0.13197948, 1.05276654, 1.74335684, 0.82256978,\n",
       "       0.13197948, 0.36217625, 0.36217625, 1.28296331, 0.59237301,\n",
       "       0.55861082, 0.82256978, 0.13197948, 0.36217625, 0.13197948,\n",
       "       0.13197948, 1.28296331, 0.36217625, 1.28296331, 1.24920112,\n",
       "       0.32841405, 0.82256978, 0.13197948, 1.28296331, 0.59237301,\n",
       "       0.32841405, 0.13197948, 1.70959465, 1.05276654, 1.97355361,\n",
       "       0.32841405, 0.59237301, 0.59237301, 0.82256978, 0.55861082,\n",
       "       0.32841405, 0.59237301, 0.13197948, 0.59237301, 0.13197948,\n",
       "       0.59237301, 1.70959465, 0.59237301, 0.59237301, 1.05276654,\n",
       "       0.13197948, 0.78880759, 0.09821729, 0.13197948, 0.09821729,\n",
       "       0.09821729, 0.09821729, 0.82256978, 0.32841405, 0.55861082,\n",
       "       0.13197948, 1.28296331, 0.13197948, 0.78880759, 0.13197948])"
      ]
     },
     "execution_count": 12,
     "metadata": {},
     "output_type": "execute_result"
    }
   ],
   "source": [
    "import pandas as pd\n",
    "import numpy as np\n",
    "from scipy import stats\n",
    "\n",
    "df = pd.read_csv('../data/iris.csv')\n",
    "\n",
    "sw = df.Sepal_Width\n",
    "\n",
    "# using Z score\n",
    "z = np.abs(stats.zscore(sw))\n",
    "z\n"
   ]
  },
  {
   "cell_type": "code",
   "execution_count": 13,
   "id": "70641014",
   "metadata": {},
   "outputs": [
    {
     "data": {
      "application/vnd.microsoft.datawrangler.viewer.v0+json": {
       "columns": [
        {
         "name": "index",
         "rawType": "int64",
         "type": "integer"
        },
        {
         "name": "Sepal_Width",
         "rawType": "float64",
         "type": "float"
        }
       ],
       "ref": "88d8155d-86e8-4f21-9213-db8957314d45",
       "rows": [
        [
         "14",
         "4.0"
        ],
        [
         "15",
         "4.4"
        ],
        [
         "32",
         "4.1"
        ],
        [
         "33",
         "4.2"
        ],
        [
         "60",
         "2.0"
        ]
       ],
       "shape": {
        "columns": 1,
        "rows": 5
       }
      },
      "text/plain": [
       "14    4.0\n",
       "15    4.4\n",
       "32    4.1\n",
       "33    4.2\n",
       "60    2.0\n",
       "Name: Sepal_Width, dtype: float64"
      ]
     },
     "execution_count": 13,
     "metadata": {},
     "output_type": "execute_result"
    }
   ],
   "source": [
    "outliers = sw[z > 2]\n",
    "outliers"
   ]
  },
  {
   "cell_type": "code",
   "execution_count": null,
   "id": "93a600ae",
   "metadata": {},
   "outputs": [
    {
     "data": {
      "application/vnd.microsoft.datawrangler.viewer.v0+json": {
       "columns": [
        {
         "name": "index",
         "rawType": "int64",
         "type": "integer"
        },
        {
         "name": "Sepal_Width",
         "rawType": "float64",
         "type": "float"
        }
       ],
       "ref": "eada51e6-7c3d-4107-b75e-cc3b9a8b864e",
       "rows": [
        [
         "15",
         "4.4"
        ],
        [
         "32",
         "4.1"
        ],
        [
         "33",
         "4.2"
        ],
        [
         "60",
         "2.0"
        ]
       ],
       "shape": {
        "columns": 1,
        "rows": 4
       }
      },
      "text/plain": [
       "15    4.4\n",
       "32    4.1\n",
       "33    4.2\n",
       "60    2.0\n",
       "Name: Sepal_Width, dtype: float64"
      ]
     },
     "execution_count": 14,
     "metadata": {},
     "output_type": "execute_result"
    }
   ],
   "source": [
    "q1 = sw.quantile(0.25)\n",
    "q3 = sw.quantile(0.75)\n",
    "iqr = q3 - q1\n",
    "# iqr = 0.5\n",
    "outliers = sw[(sw < q1 - iqr * 1.5) | (sw > q3 + iqr * 1.5)]\n",
    "outliers"
   ]
  },
  {
   "cell_type": "code",
   "execution_count": 15,
   "id": "bd4deab4",
   "metadata": {},
   "outputs": [
    {
     "data": {
      "text/plain": [
       "146"
      ]
     },
     "execution_count": 15,
     "metadata": {},
     "output_type": "execute_result"
    }
   ],
   "source": [
    "clean = sw.loc[~sw.isin(outliers)]\n",
    "len(clean)"
   ]
  }
 ],
 "metadata": {
  "kernelspec": {
   "display_name": "Python 3",
   "language": "python",
   "name": "python3"
  },
  "language_info": {
   "codemirror_mode": {
    "name": "ipython",
    "version": 3
   },
   "file_extension": ".py",
   "mimetype": "text/x-python",
   "name": "python",
   "nbconvert_exporter": "python",
   "pygments_lexer": "ipython3",
   "version": "3.13.5"
  }
 },
 "nbformat": 4,
 "nbformat_minor": 5
}
