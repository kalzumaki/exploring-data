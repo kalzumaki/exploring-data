{
 "cells": [
  {
   "cell_type": "markdown",
   "id": "8e3fa63c",
   "metadata": {},
   "source": [
    "# CODE 7-2\n",
    "## Handling values in data frames"
   ]
  },
  {
   "cell_type": "code",
   "execution_count": 2,
   "id": "4436b17c",
   "metadata": {},
   "outputs": [
    {
     "data": {
      "application/vnd.microsoft.datawrangler.viewer.v0+json": {
       "columns": [
        {
         "name": "index",
         "rawType": "int64",
         "type": "integer"
        },
        {
         "name": "Sepal_Length",
         "rawType": "float64",
         "type": "float"
        },
        {
         "name": "Sepal_Width",
         "rawType": "float64",
         "type": "float"
        },
        {
         "name": "Petal_Length",
         "rawType": "float64",
         "type": "float"
        },
        {
         "name": "Petal_Width",
         "rawType": "float64",
         "type": "float"
        },
        {
         "name": "Species",
         "rawType": "object",
         "type": "string"
        }
       ],
       "ref": "35c19e99-c3c4-445a-8cc9-86f2fa83eae1",
       "rows": [
        [
         "0",
         "5.1",
         null,
         null,
         "0.2",
         "setosa"
        ],
        [
         "1",
         "4.9",
         "3.0",
         null,
         "0.2",
         "setosa"
        ],
        [
         "2",
         "4.7",
         "3.2",
         "1.3",
         null,
         "setosa"
        ],
        [
         "3",
         "4.6",
         "3.1",
         "1.5",
         "0.2",
         "setosa"
        ],
        [
         "4",
         "5.0",
         "3.6",
         "1.4",
         "0.2",
         "setosa"
        ]
       ],
       "shape": {
        "columns": 5,
        "rows": 5
       }
      },
      "text/html": [
       "<div>\n",
       "<style scoped>\n",
       "    .dataframe tbody tr th:only-of-type {\n",
       "        vertical-align: middle;\n",
       "    }\n",
       "\n",
       "    .dataframe tbody tr th {\n",
       "        vertical-align: top;\n",
       "    }\n",
       "\n",
       "    .dataframe thead th {\n",
       "        text-align: right;\n",
       "    }\n",
       "</style>\n",
       "<table border=\"1\" class=\"dataframe\">\n",
       "  <thead>\n",
       "    <tr style=\"text-align: right;\">\n",
       "      <th></th>\n",
       "      <th>Sepal_Length</th>\n",
       "      <th>Sepal_Width</th>\n",
       "      <th>Petal_Length</th>\n",
       "      <th>Petal_Width</th>\n",
       "      <th>Species</th>\n",
       "    </tr>\n",
       "  </thead>\n",
       "  <tbody>\n",
       "    <tr>\n",
       "      <th>0</th>\n",
       "      <td>5.1</td>\n",
       "      <td>NaN</td>\n",
       "      <td>NaN</td>\n",
       "      <td>0.2</td>\n",
       "      <td>setosa</td>\n",
       "    </tr>\n",
       "    <tr>\n",
       "      <th>1</th>\n",
       "      <td>4.9</td>\n",
       "      <td>3.0</td>\n",
       "      <td>NaN</td>\n",
       "      <td>0.2</td>\n",
       "      <td>setosa</td>\n",
       "    </tr>\n",
       "    <tr>\n",
       "      <th>2</th>\n",
       "      <td>4.7</td>\n",
       "      <td>3.2</td>\n",
       "      <td>1.3</td>\n",
       "      <td>NaN</td>\n",
       "      <td>setosa</td>\n",
       "    </tr>\n",
       "    <tr>\n",
       "      <th>3</th>\n",
       "      <td>4.6</td>\n",
       "      <td>3.1</td>\n",
       "      <td>1.5</td>\n",
       "      <td>0.2</td>\n",
       "      <td>setosa</td>\n",
       "    </tr>\n",
       "    <tr>\n",
       "      <th>4</th>\n",
       "      <td>5.0</td>\n",
       "      <td>3.6</td>\n",
       "      <td>1.4</td>\n",
       "      <td>0.2</td>\n",
       "      <td>setosa</td>\n",
       "    </tr>\n",
       "  </tbody>\n",
       "</table>\n",
       "</div>"
      ],
      "text/plain": [
       "   Sepal_Length  Sepal_Width  Petal_Length  Petal_Width Species\n",
       "0           5.1          NaN           NaN          0.2  setosa\n",
       "1           4.9          3.0           NaN          0.2  setosa\n",
       "2           4.7          3.2           1.3          NaN  setosa\n",
       "3           4.6          3.1           1.5          0.2  setosa\n",
       "4           5.0          3.6           1.4          0.2  setosa"
      ]
     },
     "execution_count": 2,
     "metadata": {},
     "output_type": "execute_result"
    }
   ],
   "source": [
    "import pandas as pd\n",
    "import numpy as np\n",
    "\n",
    "df = pd.read_csv('../data/iris.csv')\n",
    "df.iloc[0,1] = pd.NA ; df.iloc[0,2] = pd.NA\n",
    "df.iloc[1,2] = np.nan ; df.iloc[2,3] = None\n",
    "\n",
    "df.head()"
   ]
  },
  {
   "cell_type": "markdown",
   "id": "4c73dd18",
   "metadata": {},
   "source": [
    "## Check missing values\n"
   ]
  },
  {
   "cell_type": "code",
   "execution_count": 4,
   "id": "fb9dd66b",
   "metadata": {},
   "outputs": [
    {
     "data": {
      "application/vnd.microsoft.datawrangler.viewer.v0+json": {
       "columns": [
        {
         "name": "index",
         "rawType": "int64",
         "type": "integer"
        },
        {
         "name": "Sepal_Length",
         "rawType": "float64",
         "type": "float"
        },
        {
         "name": "Sepal_Width",
         "rawType": "float64",
         "type": "float"
        },
        {
         "name": "Petal_Length",
         "rawType": "float64",
         "type": "float"
        },
        {
         "name": "Petal_Width",
         "rawType": "float64",
         "type": "float"
        },
        {
         "name": "Species",
         "rawType": "object",
         "type": "string"
        }
       ],
       "ref": "824018e6-4c80-456c-b7dc-1ada4b702845",
       "rows": [
        [
         "0",
         "5.1",
         null,
         null,
         "0.2",
         "setosa"
        ],
        [
         "1",
         "4.9",
         "3.0",
         null,
         "0.2",
         "setosa"
        ],
        [
         "2",
         "4.7",
         "3.2",
         "1.3",
         null,
         "setosa"
        ]
       ],
       "shape": {
        "columns": 5,
        "rows": 3
       }
      },
      "text/html": [
       "<div>\n",
       "<style scoped>\n",
       "    .dataframe tbody tr th:only-of-type {\n",
       "        vertical-align: middle;\n",
       "    }\n",
       "\n",
       "    .dataframe tbody tr th {\n",
       "        vertical-align: top;\n",
       "    }\n",
       "\n",
       "    .dataframe thead th {\n",
       "        text-align: right;\n",
       "    }\n",
       "</style>\n",
       "<table border=\"1\" class=\"dataframe\">\n",
       "  <thead>\n",
       "    <tr style=\"text-align: right;\">\n",
       "      <th></th>\n",
       "      <th>Sepal_Length</th>\n",
       "      <th>Sepal_Width</th>\n",
       "      <th>Petal_Length</th>\n",
       "      <th>Petal_Width</th>\n",
       "      <th>Species</th>\n",
       "    </tr>\n",
       "  </thead>\n",
       "  <tbody>\n",
       "    <tr>\n",
       "      <th>0</th>\n",
       "      <td>5.1</td>\n",
       "      <td>NaN</td>\n",
       "      <td>NaN</td>\n",
       "      <td>0.2</td>\n",
       "      <td>setosa</td>\n",
       "    </tr>\n",
       "    <tr>\n",
       "      <th>1</th>\n",
       "      <td>4.9</td>\n",
       "      <td>3.0</td>\n",
       "      <td>NaN</td>\n",
       "      <td>0.2</td>\n",
       "      <td>setosa</td>\n",
       "    </tr>\n",
       "    <tr>\n",
       "      <th>2</th>\n",
       "      <td>4.7</td>\n",
       "      <td>3.2</td>\n",
       "      <td>1.3</td>\n",
       "      <td>NaN</td>\n",
       "      <td>setosa</td>\n",
       "    </tr>\n",
       "  </tbody>\n",
       "</table>\n",
       "</div>"
      ],
      "text/plain": [
       "   Sepal_Length  Sepal_Width  Petal_Length  Petal_Width Species\n",
       "0           5.1          NaN           NaN          0.2  setosa\n",
       "1           4.9          3.0           NaN          0.2  setosa\n",
       "2           4.7          3.2           1.3          NaN  setosa"
      ]
     },
     "execution_count": 4,
     "metadata": {},
     "output_type": "execute_result"
    }
   ],
   "source": [
    "df.isnull().sum()\n",
    "df.isnull().sum(axis=1)\n",
    "df.loc[df.isnull().any(axis=1)>0, :]\n"
   ]
  },
  {
   "cell_type": "markdown",
   "id": "cf65a4ca",
   "metadata": {},
   "source": [
    "## Removing missing values\n"
   ]
  },
  {
   "cell_type": "code",
   "execution_count": null,
   "id": "301f3691",
   "metadata": {},
   "outputs": [
    {
     "data": {
      "application/vnd.microsoft.datawrangler.viewer.v0+json": {
       "columns": [
        {
         "name": "index",
         "rawType": "int64",
         "type": "integer"
        },
        {
         "name": "Sepal_Length",
         "rawType": "float64",
         "type": "float"
        },
        {
         "name": "Sepal_Width",
         "rawType": "float64",
         "type": "float"
        },
        {
         "name": "Petal_Length",
         "rawType": "float64",
         "type": "float"
        },
        {
         "name": "Petal_Width",
         "rawType": "float64",
         "type": "float"
        },
        {
         "name": "Species",
         "rawType": "object",
         "type": "string"
        }
       ],
       "ref": "8f43e871-2dde-4879-a767-e650c0ddc3c6",
       "rows": [
        [
         "0",
         "4.6",
         "3.1",
         "1.5",
         "0.2",
         "setosa"
        ],
        [
         "1",
         "5.0",
         "3.6",
         "1.4",
         "0.2",
         "setosa"
        ],
        [
         "2",
         "5.4",
         "3.9",
         "1.7",
         "0.4",
         "setosa"
        ],
        [
         "3",
         "4.6",
         "3.4",
         "1.4",
         "0.3",
         "setosa"
        ],
        [
         "4",
         "5.0",
         "3.4",
         "1.5",
         "0.2",
         "setosa"
        ]
       ],
       "shape": {
        "columns": 5,
        "rows": 5
       }
      },
      "text/html": [
       "<div>\n",
       "<style scoped>\n",
       "    .dataframe tbody tr th:only-of-type {\n",
       "        vertical-align: middle;\n",
       "    }\n",
       "\n",
       "    .dataframe tbody tr th {\n",
       "        vertical-align: top;\n",
       "    }\n",
       "\n",
       "    .dataframe thead th {\n",
       "        text-align: right;\n",
       "    }\n",
       "</style>\n",
       "<table border=\"1\" class=\"dataframe\">\n",
       "  <thead>\n",
       "    <tr style=\"text-align: right;\">\n",
       "      <th></th>\n",
       "      <th>Sepal_Length</th>\n",
       "      <th>Sepal_Width</th>\n",
       "      <th>Petal_Length</th>\n",
       "      <th>Petal_Width</th>\n",
       "      <th>Species</th>\n",
       "    </tr>\n",
       "  </thead>\n",
       "  <tbody>\n",
       "    <tr>\n",
       "      <th>0</th>\n",
       "      <td>4.6</td>\n",
       "      <td>3.1</td>\n",
       "      <td>1.5</td>\n",
       "      <td>0.2</td>\n",
       "      <td>setosa</td>\n",
       "    </tr>\n",
       "    <tr>\n",
       "      <th>1</th>\n",
       "      <td>5.0</td>\n",
       "      <td>3.6</td>\n",
       "      <td>1.4</td>\n",
       "      <td>0.2</td>\n",
       "      <td>setosa</td>\n",
       "    </tr>\n",
       "    <tr>\n",
       "      <th>2</th>\n",
       "      <td>5.4</td>\n",
       "      <td>3.9</td>\n",
       "      <td>1.7</td>\n",
       "      <td>0.4</td>\n",
       "      <td>setosa</td>\n",
       "    </tr>\n",
       "    <tr>\n",
       "      <th>3</th>\n",
       "      <td>4.6</td>\n",
       "      <td>3.4</td>\n",
       "      <td>1.4</td>\n",
       "      <td>0.3</td>\n",
       "      <td>setosa</td>\n",
       "    </tr>\n",
       "    <tr>\n",
       "      <th>4</th>\n",
       "      <td>5.0</td>\n",
       "      <td>3.4</td>\n",
       "      <td>1.5</td>\n",
       "      <td>0.2</td>\n",
       "      <td>setosa</td>\n",
       "    </tr>\n",
       "  </tbody>\n",
       "</table>\n",
       "</div>"
      ],
      "text/plain": [
       "   Sepal_Length  Sepal_Width  Petal_Length  Petal_Width Species\n",
       "0           4.6          3.1           1.5          0.2  setosa\n",
       "1           5.0          3.6           1.4          0.2  setosa\n",
       "2           5.4          3.9           1.7          0.4  setosa\n",
       "3           4.6          3.4           1.4          0.3  setosa\n",
       "4           5.0          3.4           1.5          0.2  setosa"
      ]
     },
     "execution_count": 6,
     "metadata": {},
     "output_type": "execute_result"
    }
   ],
   "source": [
    "df = df.dropna() # Eliminates rows with missing values\n",
    "df = df.reset_index(drop=True) # initialize index\n",
    "df.head()"
   ]
  }
 ],
 "metadata": {
  "kernelspec": {
   "display_name": "Python 3",
   "language": "python",
   "name": "python3"
  },
  "language_info": {
   "codemirror_mode": {
    "name": "ipython",
    "version": 3
   },
   "file_extension": ".py",
   "mimetype": "text/x-python",
   "name": "python",
   "nbconvert_exporter": "python",
   "pygments_lexer": "ipython3",
   "version": "3.13.5"
  }
 },
 "nbformat": 4,
 "nbformat_minor": 5
}
