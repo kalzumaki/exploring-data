{
 "cells": [
  {
   "cell_type": "code",
   "execution_count": 2,
   "id": "ed317219",
   "metadata": {},
   "outputs": [
    {
     "name": "stdout",
     "output_type": "stream",
     "text": [
      "[50, 50, 47, 34, 34, 24, 34, 34, 34, 34, 50, 50, 47, 34, 34, 24, 34, 34, 34, 34]\n"
     ]
    }
   ],
   "source": [
    "data = [50,50,47,34,34,24,34,34,34,34]\n",
    "print(data * 2)"
   ]
  },
  {
   "cell_type": "code",
   "execution_count": 3,
   "id": "7e121360",
   "metadata": {},
   "outputs": [
    {
     "name": "stdout",
     "output_type": "stream",
     "text": [
      "[100 100  94  68  68  48  68  68  68  68]\n"
     ]
    }
   ],
   "source": [
    "import numpy as np\n",
    "\n",
    "grades = np.array(data)\n",
    "print(grades * 2)"
   ]
  },
  {
   "cell_type": "code",
   "execution_count": 4,
   "id": "a61b1961",
   "metadata": {},
   "outputs": [
    {
     "data": {
      "text/plain": [
       "(10,)"
      ]
     },
     "execution_count": 4,
     "metadata": {},
     "output_type": "execute_result"
    }
   ],
   "source": [
    "grades.shape"
   ]
  },
  {
   "cell_type": "code",
   "execution_count": 5,
   "id": "e4cf03e4",
   "metadata": {},
   "outputs": [
    {
     "data": {
      "text/plain": [
       "np.float64(37.5)"
      ]
     },
     "execution_count": 5,
     "metadata": {},
     "output_type": "execute_result"
    }
   ],
   "source": [
    "grades.mean()"
   ]
  },
  {
   "cell_type": "code",
   "execution_count": 7,
   "id": "9988e39a",
   "metadata": {},
   "outputs": [
    {
     "name": "stdout",
     "output_type": "stream",
     "text": [
      "[[10.  12.   8.  15.   9.  11.  14.   6.5  6.6  2.4]\n",
      " [50.  50.  47.  34.  34.  24.  34.  34.  34.  34. ]]\n"
     ]
    }
   ],
   "source": [
    "study_hours = [10, 12, 8, 15, 9, 11, 14, 6.5, 6.6, 2.4]\n",
    "\n",
    "studentData = np.array([study_hours, grades])\n",
    "print(studentData)"
   ]
  },
  {
   "cell_type": "code",
   "execution_count": 20,
   "id": "7015db6b",
   "metadata": {},
   "outputs": [
    {
     "data": {
      "text/plain": [
       "np.float64(11.0)"
      ]
     },
     "execution_count": 20,
     "metadata": {},
     "output_type": "execute_result"
    }
   ],
   "source": [
    "studentData[0, 5]"
   ]
  },
  {
   "cell_type": "markdown",
   "id": "535e0267",
   "metadata": {},
   "source": [
    "# Student DATA\n",
    "this notebook analyzes pass/fail data for a class"
   ]
  }
 ],
 "metadata": {
  "kernelspec": {
   "display_name": "Python 3",
   "language": "python",
   "name": "python3"
  },
  "language_info": {
   "codemirror_mode": {
    "name": "ipython",
    "version": 3
   },
   "file_extension": ".py",
   "mimetype": "text/x-python",
   "name": "python",
   "nbconvert_exporter": "python",
   "pygments_lexer": "ipython3",
   "version": "3.13.5"
  }
 },
 "nbformat": 4,
 "nbformat_minor": 5
}
