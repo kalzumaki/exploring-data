{
 "cells": [
  {
   "cell_type": "markdown",
   "id": "6beafc36",
   "metadata": {},
   "source": [
    "# CODE 8-6\n",
    "## HEATMAP\n",
    "\n"
   ]
  },
  {
   "cell_type": "code",
   "execution_count": 2,
   "id": "78e38706",
   "metadata": {},
   "outputs": [
    {
     "data": {
      "application/vnd.microsoft.datawrangler.viewer.v0+json": {
       "columns": [
        {
         "name": "index",
         "rawType": "int64",
         "type": "integer"
        },
        {
         "name": "year",
         "rawType": "int64",
         "type": "integer"
        },
        {
         "name": "month",
         "rawType": "category",
         "type": "unknown"
        },
        {
         "name": "passengers",
         "rawType": "int64",
         "type": "integer"
        }
       ],
       "ref": "40288896-4ef1-4439-9ee8-bb165aa8eb6f",
       "rows": [
        [
         "0",
         "1949",
         "Jan",
         "112"
        ],
        [
         "1",
         "1949",
         "Feb",
         "118"
        ],
        [
         "2",
         "1949",
         "Mar",
         "132"
        ],
        [
         "3",
         "1949",
         "Apr",
         "129"
        ],
        [
         "4",
         "1949",
         "May",
         "121"
        ]
       ],
       "shape": {
        "columns": 3,
        "rows": 5
       }
      },
      "text/html": [
       "<div>\n",
       "<style scoped>\n",
       "    .dataframe tbody tr th:only-of-type {\n",
       "        vertical-align: middle;\n",
       "    }\n",
       "\n",
       "    .dataframe tbody tr th {\n",
       "        vertical-align: top;\n",
       "    }\n",
       "\n",
       "    .dataframe thead th {\n",
       "        text-align: right;\n",
       "    }\n",
       "</style>\n",
       "<table border=\"1\" class=\"dataframe\">\n",
       "  <thead>\n",
       "    <tr style=\"text-align: right;\">\n",
       "      <th></th>\n",
       "      <th>year</th>\n",
       "      <th>month</th>\n",
       "      <th>passengers</th>\n",
       "    </tr>\n",
       "  </thead>\n",
       "  <tbody>\n",
       "    <tr>\n",
       "      <th>0</th>\n",
       "      <td>1949</td>\n",
       "      <td>Jan</td>\n",
       "      <td>112</td>\n",
       "    </tr>\n",
       "    <tr>\n",
       "      <th>1</th>\n",
       "      <td>1949</td>\n",
       "      <td>Feb</td>\n",
       "      <td>118</td>\n",
       "    </tr>\n",
       "    <tr>\n",
       "      <th>2</th>\n",
       "      <td>1949</td>\n",
       "      <td>Mar</td>\n",
       "      <td>132</td>\n",
       "    </tr>\n",
       "    <tr>\n",
       "      <th>3</th>\n",
       "      <td>1949</td>\n",
       "      <td>Apr</td>\n",
       "      <td>129</td>\n",
       "    </tr>\n",
       "    <tr>\n",
       "      <th>4</th>\n",
       "      <td>1949</td>\n",
       "      <td>May</td>\n",
       "      <td>121</td>\n",
       "    </tr>\n",
       "  </tbody>\n",
       "</table>\n",
       "</div>"
      ],
      "text/plain": [
       "   year month  passengers\n",
       "0  1949   Jan         112\n",
       "1  1949   Feb         118\n",
       "2  1949   Mar         132\n",
       "3  1949   Apr         129\n",
       "4  1949   May         121"
      ]
     },
     "execution_count": 2,
     "metadata": {},
     "output_type": "execute_result"
    }
   ],
   "source": [
    "import seaborn as sns\n",
    "import matplotlib.pyplot as plt\n",
    "flights = sns.load_dataset(\"flights\")\n",
    "flights.head()"
   ]
  },
  {
   "cell_type": "code",
   "execution_count": 5,
   "id": "0a1ac87a",
   "metadata": {},
   "outputs": [
    {
     "data": {
      "application/vnd.microsoft.datawrangler.viewer.v0+json": {
       "columns": [
        {
         "name": "month",
         "rawType": "category",
         "type": "unknown"
        },
        {
         "name": "1949",
         "rawType": "float64",
         "type": "float"
        },
        {
         "name": "1950",
         "rawType": "float64",
         "type": "float"
        },
        {
         "name": "1951",
         "rawType": "float64",
         "type": "float"
        },
        {
         "name": "1952",
         "rawType": "float64",
         "type": "float"
        },
        {
         "name": "1953",
         "rawType": "float64",
         "type": "float"
        },
        {
         "name": "1954",
         "rawType": "float64",
         "type": "float"
        },
        {
         "name": "1955",
         "rawType": "float64",
         "type": "float"
        },
        {
         "name": "1956",
         "rawType": "float64",
         "type": "float"
        },
        {
         "name": "1957",
         "rawType": "float64",
         "type": "float"
        },
        {
         "name": "1958",
         "rawType": "float64",
         "type": "float"
        },
        {
         "name": "1959",
         "rawType": "float64",
         "type": "float"
        },
        {
         "name": "1960",
         "rawType": "float64",
         "type": "float"
        }
       ],
       "ref": "fc94a96b-488c-46f8-aa12-4daf82829fd5",
       "rows": [
        [
         "Jan",
         "112.0",
         "115.0",
         "145.0",
         "171.0",
         "196.0",
         "204.0",
         "242.0",
         "284.0",
         "315.0",
         "340.0",
         "360.0",
         "417.0"
        ],
        [
         "Feb",
         "118.0",
         "126.0",
         "150.0",
         "180.0",
         "196.0",
         "188.0",
         "233.0",
         "277.0",
         "301.0",
         "318.0",
         "342.0",
         "391.0"
        ],
        [
         "Mar",
         "132.0",
         "141.0",
         "178.0",
         "193.0",
         "236.0",
         "235.0",
         "267.0",
         "317.0",
         "356.0",
         "362.0",
         "406.0",
         "419.0"
        ],
        [
         "Apr",
         "129.0",
         "135.0",
         "163.0",
         "181.0",
         "235.0",
         "227.0",
         "269.0",
         "313.0",
         "348.0",
         "348.0",
         "396.0",
         "461.0"
        ],
        [
         "May",
         "121.0",
         "125.0",
         "172.0",
         "183.0",
         "229.0",
         "234.0",
         "270.0",
         "318.0",
         "355.0",
         "363.0",
         "420.0",
         "472.0"
        ]
       ],
       "shape": {
        "columns": 12,
        "rows": 5
       }
      },
      "text/html": [
       "<div>\n",
       "<style scoped>\n",
       "    .dataframe tbody tr th:only-of-type {\n",
       "        vertical-align: middle;\n",
       "    }\n",
       "\n",
       "    .dataframe tbody tr th {\n",
       "        vertical-align: top;\n",
       "    }\n",
       "\n",
       "    .dataframe thead th {\n",
       "        text-align: right;\n",
       "    }\n",
       "</style>\n",
       "<table border=\"1\" class=\"dataframe\">\n",
       "  <thead>\n",
       "    <tr style=\"text-align: right;\">\n",
       "      <th>year</th>\n",
       "      <th>1949</th>\n",
       "      <th>1950</th>\n",
       "      <th>1951</th>\n",
       "      <th>1952</th>\n",
       "      <th>1953</th>\n",
       "      <th>1954</th>\n",
       "      <th>1955</th>\n",
       "      <th>1956</th>\n",
       "      <th>1957</th>\n",
       "      <th>1958</th>\n",
       "      <th>1959</th>\n",
       "      <th>1960</th>\n",
       "    </tr>\n",
       "    <tr>\n",
       "      <th>month</th>\n",
       "      <th></th>\n",
       "      <th></th>\n",
       "      <th></th>\n",
       "      <th></th>\n",
       "      <th></th>\n",
       "      <th></th>\n",
       "      <th></th>\n",
       "      <th></th>\n",
       "      <th></th>\n",
       "      <th></th>\n",
       "      <th></th>\n",
       "      <th></th>\n",
       "    </tr>\n",
       "  </thead>\n",
       "  <tbody>\n",
       "    <tr>\n",
       "      <th>Jan</th>\n",
       "      <td>112.0</td>\n",
       "      <td>115.0</td>\n",
       "      <td>145.0</td>\n",
       "      <td>171.0</td>\n",
       "      <td>196.0</td>\n",
       "      <td>204.0</td>\n",
       "      <td>242.0</td>\n",
       "      <td>284.0</td>\n",
       "      <td>315.0</td>\n",
       "      <td>340.0</td>\n",
       "      <td>360.0</td>\n",
       "      <td>417.0</td>\n",
       "    </tr>\n",
       "    <tr>\n",
       "      <th>Feb</th>\n",
       "      <td>118.0</td>\n",
       "      <td>126.0</td>\n",
       "      <td>150.0</td>\n",
       "      <td>180.0</td>\n",
       "      <td>196.0</td>\n",
       "      <td>188.0</td>\n",
       "      <td>233.0</td>\n",
       "      <td>277.0</td>\n",
       "      <td>301.0</td>\n",
       "      <td>318.0</td>\n",
       "      <td>342.0</td>\n",
       "      <td>391.0</td>\n",
       "    </tr>\n",
       "    <tr>\n",
       "      <th>Mar</th>\n",
       "      <td>132.0</td>\n",
       "      <td>141.0</td>\n",
       "      <td>178.0</td>\n",
       "      <td>193.0</td>\n",
       "      <td>236.0</td>\n",
       "      <td>235.0</td>\n",
       "      <td>267.0</td>\n",
       "      <td>317.0</td>\n",
       "      <td>356.0</td>\n",
       "      <td>362.0</td>\n",
       "      <td>406.0</td>\n",
       "      <td>419.0</td>\n",
       "    </tr>\n",
       "    <tr>\n",
       "      <th>Apr</th>\n",
       "      <td>129.0</td>\n",
       "      <td>135.0</td>\n",
       "      <td>163.0</td>\n",
       "      <td>181.0</td>\n",
       "      <td>235.0</td>\n",
       "      <td>227.0</td>\n",
       "      <td>269.0</td>\n",
       "      <td>313.0</td>\n",
       "      <td>348.0</td>\n",
       "      <td>348.0</td>\n",
       "      <td>396.0</td>\n",
       "      <td>461.0</td>\n",
       "    </tr>\n",
       "    <tr>\n",
       "      <th>May</th>\n",
       "      <td>121.0</td>\n",
       "      <td>125.0</td>\n",
       "      <td>172.0</td>\n",
       "      <td>183.0</td>\n",
       "      <td>229.0</td>\n",
       "      <td>234.0</td>\n",
       "      <td>270.0</td>\n",
       "      <td>318.0</td>\n",
       "      <td>355.0</td>\n",
       "      <td>363.0</td>\n",
       "      <td>420.0</td>\n",
       "      <td>472.0</td>\n",
       "    </tr>\n",
       "  </tbody>\n",
       "</table>\n",
       "</div>"
      ],
      "text/plain": [
       "year    1949   1950   1951   1952   1953   1954   1955   1956   1957   1958  \\\n",
       "month                                                                         \n",
       "Jan    112.0  115.0  145.0  171.0  196.0  204.0  242.0  284.0  315.0  340.0   \n",
       "Feb    118.0  126.0  150.0  180.0  196.0  188.0  233.0  277.0  301.0  318.0   \n",
       "Mar    132.0  141.0  178.0  193.0  236.0  235.0  267.0  317.0  356.0  362.0   \n",
       "Apr    129.0  135.0  163.0  181.0  235.0  227.0  269.0  313.0  348.0  348.0   \n",
       "May    121.0  125.0  172.0  183.0  229.0  234.0  270.0  318.0  355.0  363.0   \n",
       "\n",
       "year    1959   1960  \n",
       "month                \n",
       "Jan    360.0  417.0  \n",
       "Feb    342.0  391.0  \n",
       "Mar    406.0  419.0  \n",
       "Apr    396.0  461.0  \n",
       "May    420.0  472.0  "
      ]
     },
     "execution_count": 5,
     "metadata": {},
     "output_type": "execute_result"
    }
   ],
   "source": [
    "df = flights.pivot_table(index='month', columns='year', values = 'passengers', aggfunc='mean', observed=True)\n",
    "df.head()"
   ]
  },
  {
   "cell_type": "code",
   "execution_count": 6,
   "id": "b1a3a42b",
   "metadata": {},
   "outputs": [
    {
     "data": {
      "image/png": "[encoded data removed]",
      "text/plain": [
       "<Figure size 800x700 with 2 Axes>"
      ]
     },
     "metadata": {},
     "output_type": "display_data"
    }
   ],
   "source": [
    "sns.set_theme(rc={'figure.figsize':(8,7)})\n",
    "sns.heatmap(df)\n",
    "plt.title('Heatmap of Flight', fontsize=20)\n",
    "plt.show()"
   ]
  }
 ],
 "metadata": {
  "kernelspec": {
   "display_name": "Python 3",
   "language": "python",
   "name": "python3"
  },
  "language_info": {
   "codemirror_mode": {
    "name": "ipython",
    "version": 3
   },
   "file_extension": ".py",
   "mimetype": "text/x-python",
   "name": "python",
   "nbconvert_exporter": "python",
   "pygments_lexer": "ipython3",
   "version": "3.13.3"
  }
 },
 "nbformat": 4,
 "nbformat_minor": 5
}
