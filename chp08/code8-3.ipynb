{
 "cells": [
  {
   "cell_type": "markdown",
   "id": "3c6f6a0a",
   "metadata": {},
   "source": [
    "# CODE 8-3\n",
    "## BOX PLOT"
   ]
  },
  {
   "cell_type": "code",
   "execution_count": 22,
   "id": "93c42ea9",
   "metadata": {},
   "outputs": [
    {
     "data": {
      "application/vnd.microsoft.datawrangler.viewer.v0+json": {
       "columns": [
        {
         "name": "index",
         "rawType": "int64",
         "type": "integer"
        },
        {
         "name": "Date",
         "rawType": "int64",
         "type": "integer"
        },
        {
         "name": "AvTemp",
         "rawType": "float64",
         "type": "float"
        },
        {
         "name": "AvPreci",
         "rawType": "float64",
         "type": "float"
        },
        {
         "name": "AvSunshine",
         "rawType": "float64",
         "type": "float"
        },
        {
         "name": "AvHumid",
         "rawType": "float64",
         "type": "float"
        },
        {
         "name": "AvWind",
         "rawType": "float64",
         "type": "float"
        }
       ],
       "ref": "30f3cb82-6b5b-40b5-ba2d-6e2ae88a9846",
       "rows": [
        [
         "0",
         "20231231",
         "2.1",
         "4.7",
         "0.6",
         "95.5",
         "8.3"
        ],
        [
         "1",
         "20231230",
         "0.6",
         "13.1",
         "0.0",
         "92.0",
         "6.9"
        ],
        [
         "2",
         "20231229",
         "1.3",
         "0.0",
         "1.8",
         "71.0",
         "5.7"
        ],
        [
         "3",
         "20231228",
         "1.2",
         "0.0",
         "8.1",
         "69.5",
         "8.0"
        ],
        [
         "4",
         "20231227",
         "1.5",
         "0.0",
         "8.2",
         "76.6",
         "4.7"
        ]
       ],
       "shape": {
        "columns": 6,
        "rows": 5
       }
      },
      "text/html": [
       "<div>\n",
       "<style scoped>\n",
       "    .dataframe tbody tr th:only-of-type {\n",
       "        vertical-align: middle;\n",
       "    }\n",
       "\n",
       "    .dataframe tbody tr th {\n",
       "        vertical-align: top;\n",
       "    }\n",
       "\n",
       "    .dataframe thead th {\n",
       "        text-align: right;\n",
       "    }\n",
       "</style>\n",
       "<table border=\"1\" class=\"dataframe\">\n",
       "  <thead>\n",
       "    <tr style=\"text-align: right;\">\n",
       "      <th></th>\n",
       "      <th>Date</th>\n",
       "      <th>AvTemp</th>\n",
       "      <th>AvPreci</th>\n",
       "      <th>AvSunshine</th>\n",
       "      <th>AvHumid</th>\n",
       "      <th>AvWind</th>\n",
       "    </tr>\n",
       "  </thead>\n",
       "  <tbody>\n",
       "    <tr>\n",
       "      <th>0</th>\n",
       "      <td>20231231</td>\n",
       "      <td>2.1</td>\n",
       "      <td>4.7</td>\n",
       "      <td>0.6</td>\n",
       "      <td>95.5</td>\n",
       "      <td>8.3</td>\n",
       "    </tr>\n",
       "    <tr>\n",
       "      <th>1</th>\n",
       "      <td>20231230</td>\n",
       "      <td>0.6</td>\n",
       "      <td>13.1</td>\n",
       "      <td>0.0</td>\n",
       "      <td>92.0</td>\n",
       "      <td>6.9</td>\n",
       "    </tr>\n",
       "    <tr>\n",
       "      <th>2</th>\n",
       "      <td>20231229</td>\n",
       "      <td>1.3</td>\n",
       "      <td>0.0</td>\n",
       "      <td>1.8</td>\n",
       "      <td>71.0</td>\n",
       "      <td>5.7</td>\n",
       "    </tr>\n",
       "    <tr>\n",
       "      <th>3</th>\n",
       "      <td>20231228</td>\n",
       "      <td>1.2</td>\n",
       "      <td>0.0</td>\n",
       "      <td>8.1</td>\n",
       "      <td>69.5</td>\n",
       "      <td>8.0</td>\n",
       "    </tr>\n",
       "    <tr>\n",
       "      <th>4</th>\n",
       "      <td>20231227</td>\n",
       "      <td>1.5</td>\n",
       "      <td>0.0</td>\n",
       "      <td>8.2</td>\n",
       "      <td>76.6</td>\n",
       "      <td>4.7</td>\n",
       "    </tr>\n",
       "  </tbody>\n",
       "</table>\n",
       "</div>"
      ],
      "text/plain": [
       "       Date  AvTemp  AvPreci  AvSunshine  AvHumid  AvWind\n",
       "0  20231231     2.1      4.7         0.6     95.5     8.3\n",
       "1  20231230     0.6     13.1         0.0     92.0     6.9\n",
       "2  20231229     1.3      0.0         1.8     71.0     5.7\n",
       "3  20231228     1.2      0.0         8.1     69.5     8.0\n",
       "4  20231227     1.5      0.0         8.2     76.6     4.7"
      ]
     },
     "execution_count": 22,
     "metadata": {},
     "output_type": "execute_result"
    }
   ],
   "source": [
    "import pandas as pd\n",
    "import seaborn as sns\n",
    "import matplotlib.pyplot as plt\n",
    "\n",
    "df = pd.read_csv('../data/seoul_temp.csv')\n",
    "\n",
    "df.head()"
   ]
  },
  {
   "cell_type": "code",
   "execution_count": 23,
   "id": "ee5c9081",
   "metadata": {},
   "outputs": [
    {
     "data": {
      "application/vnd.microsoft.datawrangler.viewer.v0+json": {
       "columns": [
        {
         "name": "index",
         "rawType": "int64",
         "type": "integer"
        },
        {
         "name": "Date",
         "rawType": "int64",
         "type": "integer"
        },
        {
         "name": "AvTemp",
         "rawType": "float64",
         "type": "float"
        },
        {
         "name": "AvPreci",
         "rawType": "float64",
         "type": "float"
        },
        {
         "name": "AvSunshine",
         "rawType": "float64",
         "type": "float"
        },
        {
         "name": "AvHumid",
         "rawType": "float64",
         "type": "float"
        },
        {
         "name": "AvWind",
         "rawType": "float64",
         "type": "float"
        },
        {
         "name": "month",
         "rawType": "int64",
         "type": "integer"
        }
       ],
       "ref": "306b65e9-411a-4e8e-88e8-b049def4c998",
       "rows": [
        [
         "0",
         "20231231",
         "2.1",
         "4.7",
         "0.6",
         "95.5",
         "8.3",
         "12"
        ],
        [
         "1",
         "20231230",
         "0.6",
         "13.1",
         "0.0",
         "92.0",
         "6.9",
         "12"
        ],
        [
         "2",
         "20231229",
         "1.3",
         "0.0",
         "1.8",
         "71.0",
         "5.7",
         "12"
        ],
        [
         "3",
         "20231228",
         "1.2",
         "0.0",
         "8.1",
         "69.5",
         "8.0",
         "12"
        ],
        [
         "4",
         "20231227",
         "1.5",
         "0.0",
         "8.2",
         "76.6",
         "4.7",
         "12"
        ]
       ],
       "shape": {
        "columns": 7,
        "rows": 5
       }
      },
      "text/html": [
       "<div>\n",
       "<style scoped>\n",
       "    .dataframe tbody tr th:only-of-type {\n",
       "        vertical-align: middle;\n",
       "    }\n",
       "\n",
       "    .dataframe tbody tr th {\n",
       "        vertical-align: top;\n",
       "    }\n",
       "\n",
       "    .dataframe thead th {\n",
       "        text-align: right;\n",
       "    }\n",
       "</style>\n",
       "<table border=\"1\" class=\"dataframe\">\n",
       "  <thead>\n",
       "    <tr style=\"text-align: right;\">\n",
       "      <th></th>\n",
       "      <th>Date</th>\n",
       "      <th>AvTemp</th>\n",
       "      <th>AvPreci</th>\n",
       "      <th>AvSunshine</th>\n",
       "      <th>AvHumid</th>\n",
       "      <th>AvWind</th>\n",
       "      <th>month</th>\n",
       "    </tr>\n",
       "  </thead>\n",
       "  <tbody>\n",
       "    <tr>\n",
       "      <th>0</th>\n",
       "      <td>20231231</td>\n",
       "      <td>2.1</td>\n",
       "      <td>4.7</td>\n",
       "      <td>0.6</td>\n",
       "      <td>95.5</td>\n",
       "      <td>8.3</td>\n",
       "      <td>12</td>\n",
       "    </tr>\n",
       "    <tr>\n",
       "      <th>1</th>\n",
       "      <td>20231230</td>\n",
       "      <td>0.6</td>\n",
       "      <td>13.1</td>\n",
       "      <td>0.0</td>\n",
       "      <td>92.0</td>\n",
       "      <td>6.9</td>\n",
       "      <td>12</td>\n",
       "    </tr>\n",
       "    <tr>\n",
       "      <th>2</th>\n",
       "      <td>20231229</td>\n",
       "      <td>1.3</td>\n",
       "      <td>0.0</td>\n",
       "      <td>1.8</td>\n",
       "      <td>71.0</td>\n",
       "      <td>5.7</td>\n",
       "      <td>12</td>\n",
       "    </tr>\n",
       "    <tr>\n",
       "      <th>3</th>\n",
       "      <td>20231228</td>\n",
       "      <td>1.2</td>\n",
       "      <td>0.0</td>\n",
       "      <td>8.1</td>\n",
       "      <td>69.5</td>\n",
       "      <td>8.0</td>\n",
       "      <td>12</td>\n",
       "    </tr>\n",
       "    <tr>\n",
       "      <th>4</th>\n",
       "      <td>20231227</td>\n",
       "      <td>1.5</td>\n",
       "      <td>0.0</td>\n",
       "      <td>8.2</td>\n",
       "      <td>76.6</td>\n",
       "      <td>4.7</td>\n",
       "      <td>12</td>\n",
       "    </tr>\n",
       "  </tbody>\n",
       "</table>\n",
       "</div>"
      ],
      "text/plain": [
       "       Date  AvTemp  AvPreci  AvSunshine  AvHumid  AvWind  month\n",
       "0  20231231     2.1      4.7         0.6     95.5     8.3     12\n",
       "1  20231230     0.6     13.1         0.0     92.0     6.9     12\n",
       "2  20231229     1.3      0.0         1.8     71.0     5.7     12\n",
       "3  20231228     1.2      0.0         8.1     69.5     8.0     12\n",
       "4  20231227     1.5      0.0         8.2     76.6     4.7     12"
      ]
     },
     "execution_count": 23,
     "metadata": {},
     "output_type": "execute_result"
    }
   ],
   "source": [
    "\n",
    "df['month'] = (df.Date - 20230000) // 100\n",
    "df.head()"
   ]
  },
  {
   "cell_type": "code",
   "execution_count": 24,
   "id": "f67a2ce9",
   "metadata": {},
   "outputs": [
    {
     "data": {
      "text/plain": [
       "[0, 2, 4, 5, 7, 8, 10, 11, 9, 6, 3, 1]"
      ]
     },
     "execution_count": 24,
     "metadata": {},
     "output_type": "execute_result"
    }
   ],
   "source": [
    "sns.set_theme(style=\"white\", rc = {\"figure.figsize\": (7, 4)})\n",
    "# ranking by monthly avg. temp\n",
    "tmp = df.groupby('month').mean()\n",
    "rank = tmp['AvTemp'].rank() -1\n",
    "rank = rank.astype(int).to_list()\n",
    "\n",
    "rank\n"
   ]
  },
  {
   "cell_type": "code",
   "execution_count": 25,
   "id": "3c1d82f9",
   "metadata": {},
   "outputs": [
    {
     "data": {
      "image/png": "[encoded data removed]",
      "text/plain": [
       "<Figure size 1200x100 with 1 Axes>"
      ]
     },
     "metadata": {},
     "output_type": "display_data"
    }
   ],
   "source": [
    "mycolor = sns.color_palette(\"bwr\", 12)\n",
    "sns.palplot(mycolor)\n",
    "plt.show()"
   ]
  },
  {
   "cell_type": "code",
   "execution_count": 26,
   "id": "88ca3e56",
   "metadata": {},
   "outputs": [
    {
     "data": {
      "image/png": "[encoded data removed]",
      "text/plain": [
       "<Figure size 1200x100 with 1 Axes>"
      ]
     },
     "metadata": {},
     "output_type": "display_data"
    }
   ],
   "source": [
    "mycolor = pd.Series(mycolor)[rank].to_list()\n",
    "sns.palplot(mycolor)\n",
    "plt.show()"
   ]
  },
  {
   "cell_type": "code",
   "execution_count": 27,
   "id": "f20a6277",
   "metadata": {},
   "outputs": [
    {
     "data": {
      "image/png": "[encoded data removed]",
      "text/plain": [
       "<Figure size 700x400 with 1 Axes>"
      ]
     },
     "metadata": {},
     "output_type": "display_data"
    }
   ],
   "source": [
    "\n",
    "sns.boxplot(data=df, x='month', y='AvTemp', palette=mycolor, hue='month' , legend=None).set(title= 'Temp by Month')\n",
    "\n",
    "plt.ylabel('Temperature')\n",
    "plt.subplots_adjust(bottom=0.2)\n",
    "plt.show()"
   ]
  }
 ],
 "metadata": {
  "kernelspec": {
   "display_name": "Python 3",
   "language": "python",
   "name": "python3"
  },
  "language_info": {
   "codemirror_mode": {
    "name": "ipython",
    "version": 3
   },
   "file_extension": ".py",
   "mimetype": "text/x-python",
   "name": "python",
   "nbconvert_exporter": "python",
   "pygments_lexer": "ipython3",
   "version": "3.13.5"
  }
 },
 "nbformat": 4,
 "nbformat_minor": 5
}
