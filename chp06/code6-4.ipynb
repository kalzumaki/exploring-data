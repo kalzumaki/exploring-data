{
 "cells": [
  {
   "cell_type": "markdown",
   "id": "6ea63da8",
   "metadata": {},
   "source": [
    "# CODE 6-4\n",
    "\n",
    "## CORRELATION ANALYSIS"
   ]
  },
  {
   "cell_type": "code",
   "execution_count": null,
   "id": "0a6c726d",
   "metadata": {},
   "outputs": [
    {
     "data": {
      "image/png": "[encoded data removed]",
      "text/plain": [
       "<Figure size 640x480 with 1 Axes>"
      ]
     },
     "metadata": {},
     "output_type": "display_data"
    },
    {
     "data": {
      "application/vnd.microsoft.datawrangler.viewer.v0+json": {
       "columns": [
        {
         "name": "index",
         "rawType": "object",
         "type": "string"
        },
        {
         "name": "Sepal_Length",
         "rawType": "float64",
         "type": "float"
        },
        {
         "name": "Sepal_Width",
         "rawType": "float64",
         "type": "float"
        },
        {
         "name": "Petal_Length",
         "rawType": "float64",
         "type": "float"
        },
        {
         "name": "Petal_Width",
         "rawType": "float64",
         "type": "float"
        }
       ],
       "ref": "0111ee2c-6fee-41bd-b7c3-16091793ad2a",
       "rows": [
        [
         "Sepal_Length",
         "1.0",
         "-0.11756978413300088",
         "0.8717537758865838",
         "0.8179411262715758"
        ],
        [
         "Sepal_Width",
         "-0.11756978413300088",
         "1.0",
         "-0.42844010433053864",
         "-0.3661259325364377"
        ],
        [
         "Petal_Length",
         "0.8717537758865838",
         "-0.42844010433053864",
         "1.0",
         "0.962865431402796"
        ],
        [
         "Petal_Width",
         "0.8179411262715758",
         "-0.3661259325364377",
         "0.962865431402796",
         "1.0"
        ]
       ],
       "shape": {
        "columns": 4,
        "rows": 4
       }
      },
      "text/html": [
       "<div>\n",
       "<style scoped>\n",
       "    .dataframe tbody tr th:only-of-type {\n",
       "        vertical-align: middle;\n",
       "    }\n",
       "\n",
       "    .dataframe tbody tr th {\n",
       "        vertical-align: top;\n",
       "    }\n",
       "\n",
       "    .dataframe thead th {\n",
       "        text-align: right;\n",
       "    }\n",
       "</style>\n",
       "<table border=\"1\" class=\"dataframe\">\n",
       "  <thead>\n",
       "    <tr style=\"text-align: right;\">\n",
       "      <th></th>\n",
       "      <th>Sepal_Length</th>\n",
       "      <th>Sepal_Width</th>\n",
       "      <th>Petal_Length</th>\n",
       "      <th>Petal_Width</th>\n",
       "    </tr>\n",
       "  </thead>\n",
       "  <tbody>\n",
       "    <tr>\n",
       "      <th>Sepal_Length</th>\n",
       "      <td>1.000000</td>\n",
       "      <td>-0.117570</td>\n",
       "      <td>0.871754</td>\n",
       "      <td>0.817941</td>\n",
       "    </tr>\n",
       "    <tr>\n",
       "      <th>Sepal_Width</th>\n",
       "      <td>-0.117570</td>\n",
       "      <td>1.000000</td>\n",
       "      <td>-0.428440</td>\n",
       "      <td>-0.366126</td>\n",
       "    </tr>\n",
       "    <tr>\n",
       "      <th>Petal_Length</th>\n",
       "      <td>0.871754</td>\n",
       "      <td>-0.428440</td>\n",
       "      <td>1.000000</td>\n",
       "      <td>0.962865</td>\n",
       "    </tr>\n",
       "    <tr>\n",
       "      <th>Petal_Width</th>\n",
       "      <td>0.817941</td>\n",
       "      <td>-0.366126</td>\n",
       "      <td>0.962865</td>\n",
       "      <td>1.000000</td>\n",
       "    </tr>\n",
       "  </tbody>\n",
       "</table>\n",
       "</div>"
      ],
      "text/plain": [
       "              Sepal_Length  Sepal_Width  Petal_Length  Petal_Width\n",
       "Sepal_Length      1.000000    -0.117570      0.871754     0.817941\n",
       "Sepal_Width      -0.117570     1.000000     -0.428440    -0.366126\n",
       "Petal_Length      0.871754    -0.428440      1.000000     0.962865\n",
       "Petal_Width       0.817941    -0.366126      0.962865     1.000000"
      ]
     },
     "execution_count": 22,
     "metadata": {},
     "output_type": "execute_result"
    }
   ],
   "source": [
    "import pandas as pd\n",
    "import numpy as np\n",
    "import matplotlib.pyplot as plt\n",
    "\n",
    "beers = [5,2,9,8,3,7,3,5,3,5]\n",
    "bal = [0.1,0.03,0.19,0.12,0.04,0.0095,0.07,0.06,0.02,0.05]\n",
    "\n",
    "dict = {'beers':beers, 'bal': bal}\n",
    "df = pd.DataFrame(dict)\n",
    "df\n",
    "\n",
    "df.plot.scatter(x='beers', y='bal', title='Beers~Blood Alcohol Level')\n",
    "\n",
    "m, b = np.polyfit(beers, bal, 1)\n",
    "\n",
    "plt.plot(beers, m * np.array(beers) + b)\n",
    "plt.show()\n",
    "\n",
    "# correlation coefficient\n",
    "df['beers'].corr(df['bal'])\n",
    "\n",
    "df2 = pd.read_csv('../data/iris.csv')\n",
    "df2.columns\n",
    "\n",
    "df2 = df2.loc[:, ~df2.columns.isin(['Species'])]\n",
    "df2.columns\n",
    "df2.corr() # pearson correlation by default"
   ]
  },
  {
   "cell_type": "code",
   "execution_count": null,
   "id": "7611463e",
   "metadata": {},
   "outputs": [
    {
     "data": {
      "application/vnd.microsoft.datawrangler.viewer.v0+json": {
       "columns": [
        {
         "name": "index",
         "rawType": "object",
         "type": "string"
        },
        {
         "name": "Sepal_Length",
         "rawType": "float64",
         "type": "float"
        },
        {
         "name": "Sepal_Width",
         "rawType": "float64",
         "type": "float"
        },
        {
         "name": "Petal_Length",
         "rawType": "float64",
         "type": "float"
        },
        {
         "name": "Petal_Width",
         "rawType": "float64",
         "type": "float"
        }
       ],
       "ref": "05977aaf-c009-47cd-91e9-5796421165fe",
       "rows": [
        [
         "Sepal_Length",
         "1.0",
         "-0.0769967881165167",
         "0.7185159275387326",
         "0.6553085576776535"
        ],
        [
         "Sepal_Width",
         "-0.0769967881165167",
         "1.0",
         "-0.1859944227944418",
         "-0.15712566386901783"
        ],
        [
         "Petal_Length",
         "0.7185159275387326",
         "-0.1859944227944418",
         "1.0",
         "0.8068906859884751"
        ],
        [
         "Petal_Width",
         "0.6553085576776535",
         "-0.15712566386901783",
         "0.8068906859884751",
         "1.0"
        ]
       ],
       "shape": {
        "columns": 4,
        "rows": 4
       }
      },
      "text/html": [
       "<div>\n",
       "<style scoped>\n",
       "    .dataframe tbody tr th:only-of-type {\n",
       "        vertical-align: middle;\n",
       "    }\n",
       "\n",
       "    .dataframe tbody tr th {\n",
       "        vertical-align: top;\n",
       "    }\n",
       "\n",
       "    .dataframe thead th {\n",
       "        text-align: right;\n",
       "    }\n",
       "</style>\n",
       "<table border=\"1\" class=\"dataframe\">\n",
       "  <thead>\n",
       "    <tr style=\"text-align: right;\">\n",
       "      <th></th>\n",
       "      <th>Sepal_Length</th>\n",
       "      <th>Sepal_Width</th>\n",
       "      <th>Petal_Length</th>\n",
       "      <th>Petal_Width</th>\n",
       "    </tr>\n",
       "  </thead>\n",
       "  <tbody>\n",
       "    <tr>\n",
       "      <th>Sepal_Length</th>\n",
       "      <td>1.000000</td>\n",
       "      <td>-0.076997</td>\n",
       "      <td>0.718516</td>\n",
       "      <td>0.655309</td>\n",
       "    </tr>\n",
       "    <tr>\n",
       "      <th>Sepal_Width</th>\n",
       "      <td>-0.076997</td>\n",
       "      <td>1.000000</td>\n",
       "      <td>-0.185994</td>\n",
       "      <td>-0.157126</td>\n",
       "    </tr>\n",
       "    <tr>\n",
       "      <th>Petal_Length</th>\n",
       "      <td>0.718516</td>\n",
       "      <td>-0.185994</td>\n",
       "      <td>1.000000</td>\n",
       "      <td>0.806891</td>\n",
       "    </tr>\n",
       "    <tr>\n",
       "      <th>Petal_Width</th>\n",
       "      <td>0.655309</td>\n",
       "      <td>-0.157126</td>\n",
       "      <td>0.806891</td>\n",
       "      <td>1.000000</td>\n",
       "    </tr>\n",
       "  </tbody>\n",
       "</table>\n",
       "</div>"
      ],
      "text/plain": [
       "              Sepal_Length  Sepal_Width  Petal_Length  Petal_Width\n",
       "Sepal_Length      1.000000    -0.076997      0.718516     0.655309\n",
       "Sepal_Width      -0.076997     1.000000     -0.185994    -0.157126\n",
       "Petal_Length      0.718516    -0.185994      1.000000     0.806891\n",
       "Petal_Width       0.655309    -0.157126      0.806891     1.000000"
      ]
     },
     "execution_count": 24,
     "metadata": {},
     "output_type": "execute_result"
    }
   ],
   "source": [
    "df2.corr(method='kendall') # kendall"
   ]
  },
  {
   "cell_type": "code",
   "execution_count": null,
   "id": "c3525c76",
   "metadata": {},
   "outputs": [
    {
     "data": {
      "application/vnd.microsoft.datawrangler.viewer.v0+json": {
       "columns": [
        {
         "name": "index",
         "rawType": "object",
         "type": "string"
        },
        {
         "name": "beers",
         "rawType": "float64",
         "type": "float"
        },
        {
         "name": "bal",
         "rawType": "float64",
         "type": "float"
        }
       ],
       "ref": "aff17876-6f60-4df6-b039-6069fb1d65f6",
       "rows": [
        [
         "beers",
         "1.0",
         "0.5281133273711227"
        ],
        [
         "bal",
         "0.5281133273711227",
         "1.0"
        ]
       ],
       "shape": {
        "columns": 2,
        "rows": 2
       }
      },
      "text/html": [
       "<div>\n",
       "<style scoped>\n",
       "    .dataframe tbody tr th:only-of-type {\n",
       "        vertical-align: middle;\n",
       "    }\n",
       "\n",
       "    .dataframe tbody tr th {\n",
       "        vertical-align: top;\n",
       "    }\n",
       "\n",
       "    .dataframe thead th {\n",
       "        text-align: right;\n",
       "    }\n",
       "</style>\n",
       "<table border=\"1\" class=\"dataframe\">\n",
       "  <thead>\n",
       "    <tr style=\"text-align: right;\">\n",
       "      <th></th>\n",
       "      <th>beers</th>\n",
       "      <th>bal</th>\n",
       "    </tr>\n",
       "  </thead>\n",
       "  <tbody>\n",
       "    <tr>\n",
       "      <th>beers</th>\n",
       "      <td>1.000000</td>\n",
       "      <td>0.528113</td>\n",
       "    </tr>\n",
       "    <tr>\n",
       "      <th>bal</th>\n",
       "      <td>0.528113</td>\n",
       "      <td>1.000000</td>\n",
       "    </tr>\n",
       "  </tbody>\n",
       "</table>\n",
       "</div>"
      ],
      "text/plain": [
       "          beers       bal\n",
       "beers  1.000000  0.528113\n",
       "bal    0.528113  1.000000"
      ]
     },
     "execution_count": 25,
     "metadata": {},
     "output_type": "execute_result"
    }
   ],
   "source": [
    "df.corr(method='spearman') # spearman"
   ]
  }
 ],
 "metadata": {
  "kernelspec": {
   "display_name": "Python 3",
   "language": "python",
   "name": "python3"
  },
  "language_info": {
   "codemirror_mode": {
    "name": "ipython",
    "version": 3
   },
   "file_extension": ".py",
   "mimetype": "text/x-python",
   "name": "python",
   "nbconvert_exporter": "python",
   "pygments_lexer": "ipython3",
   "version": "3.13.5"
  }
 },
 "nbformat": 4,
 "nbformat_minor": 5
}
