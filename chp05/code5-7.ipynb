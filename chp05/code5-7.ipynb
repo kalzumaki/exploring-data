{
 "cells": [
  {
   "cell_type": "markdown",
   "id": "2899fe71",
   "metadata": {},
   "source": [
    "# CODE 5-7"
   ]
  },
  {
   "cell_type": "code",
   "execution_count": 8,
   "id": "bcaf03c6",
   "metadata": {},
   "outputs": [
    {
     "data": {
      "application/vnd.microsoft.datawrangler.viewer.v0+json": {
       "columns": [
        {
         "name": "index",
         "rawType": "int64",
         "type": "integer"
        },
        {
         "name": "0",
         "rawType": "int64",
         "type": "integer"
        }
       ],
       "ref": "5fa71372-585b-4469-9207-8569a1b461b1",
       "rows": [
        [
         "0",
         "60"
        ],
        [
         "1",
         "62"
        ],
        [
         "2",
         "64"
        ],
        [
         "3",
         "65"
        ],
        [
         "4",
         "68"
        ],
        [
         "5",
         "69"
        ],
        [
         "6",
         "72"
        ]
       ],
       "shape": {
        "columns": 1,
        "rows": 7
       }
      },
      "text/plain": [
       "0    60\n",
       "1    62\n",
       "2    64\n",
       "3    65\n",
       "4    68\n",
       "5    69\n",
       "6    72\n",
       "dtype: int64"
      ]
     },
     "execution_count": 8,
     "metadata": {},
     "output_type": "execute_result"
    }
   ],
   "source": [
    "import pandas as pd\n",
    "import numpy as np\n",
    "\n",
    "mydata = pd.Series([60,62,64,65,68,69,72])\n",
    "mydata"
   ]
  },
  {
   "cell_type": "code",
   "execution_count": 9,
   "id": "6329374d",
   "metadata": {},
   "outputs": [
    {
     "data": {
      "text/plain": [
       "np.float64(17.57142857142857)"
      ]
     },
     "execution_count": 9,
     "metadata": {},
     "output_type": "execute_result"
    }
   ],
   "source": [
    "mydata.var()"
   ]
  },
  {
   "cell_type": "code",
   "execution_count": 10,
   "id": "caaaa7aa",
   "metadata": {},
   "outputs": [
    {
     "data": {
      "text/plain": [
       "np.float64(4.191828786034631)"
      ]
     },
     "execution_count": 10,
     "metadata": {},
     "output_type": "execute_result"
    }
   ],
   "source": [
    "mydata.std()"
   ]
  }
 ],
 "metadata": {
  "kernelspec": {
   "display_name": "Python 3",
   "language": "python",
   "name": "python3"
  },
  "language_info": {
   "codemirror_mode": {
    "name": "ipython",
    "version": 3
   },
   "file_extension": ".py",
   "mimetype": "text/x-python",
   "name": "python",
   "nbconvert_exporter": "python",
   "pygments_lexer": "ipython3",
   "version": "3.13.5"
  }
 },
 "nbformat": 4,
 "nbformat_minor": 5
}
