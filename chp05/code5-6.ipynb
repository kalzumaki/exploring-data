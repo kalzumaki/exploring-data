{
 "cells": [
  {
   "cell_type": "code",
   "execution_count": 2,
   "id": "a6506768",
   "metadata": {},
   "outputs": [
    {
     "data": {
      "text/plain": [
       "np.float64(63.0)"
      ]
     },
     "execution_count": 2,
     "metadata": {},
     "output_type": "execute_result"
    }
   ],
   "source": [
    "import pandas as pd\n",
    "import numpy as np\n",
    "\n",
    "mydata = [60,62,64,65,68,69,120]\n",
    "mydata = pd.Series(mydata)\n",
    "mydata.quantile(0.25)"
   ]
  },
  {
   "cell_type": "code",
   "execution_count": 3,
   "id": "74762ad8",
   "metadata": {},
   "outputs": [
    {
     "data": {
      "text/plain": [
       "np.float64(65.0)"
      ]
     },
     "execution_count": 3,
     "metadata": {},
     "output_type": "execute_result"
    }
   ],
   "source": [
    "mydata.quantile(0.5)"
   ]
  },
  {
   "cell_type": "code",
   "execution_count": 4,
   "id": "62dc05c1",
   "metadata": {},
   "outputs": [
    {
     "data": {
      "text/plain": [
       "np.float64(68.5)"
      ]
     },
     "execution_count": 4,
     "metadata": {},
     "output_type": "execute_result"
    }
   ],
   "source": [
    "mydata.quantile(0.75)"
   ]
  },
  {
   "cell_type": "code",
   "execution_count": 5,
   "id": "f0862f45",
   "metadata": {},
   "outputs": [
    {
     "data": {
      "application/vnd.microsoft.datawrangler.viewer.v0+json": {
       "columns": [
        {
         "name": "index",
         "rawType": "float64",
         "type": "float"
        },
        {
         "name": "0",
         "rawType": "float64",
         "type": "float"
        }
       ],
       "ref": "d06c61f3-0869-4b54-b3a0-2d715d5b4057",
       "rows": [
        [
         "0.25",
         "63.0"
        ],
        [
         "0.5",
         "65.0"
        ],
        [
         "0.75",
         "68.5"
        ]
       ],
       "shape": {
        "columns": 1,
        "rows": 3
       }
      },
      "text/plain": [
       "0.25    63.0\n",
       "0.50    65.0\n",
       "0.75    68.5\n",
       "dtype: float64"
      ]
     },
     "execution_count": 5,
     "metadata": {},
     "output_type": "execute_result"
    }
   ],
   "source": [
    "mydata.quantile([0.25,0.5,0.75])"
   ]
  },
  {
   "cell_type": "code",
   "execution_count": 6,
   "id": "f6daebee",
   "metadata": {},
   "outputs": [
    {
     "data": {
      "application/vnd.microsoft.datawrangler.viewer.v0+json": {
       "columns": [
        {
         "name": "index",
         "rawType": "float64",
         "type": "float"
        },
        {
         "name": "0",
         "rawType": "float64",
         "type": "float"
        }
       ],
       "ref": "039de6f3-2900-4d6e-964e-d1e9d513d3fa",
       "rows": [
        [
         "0.0",
         "60.0"
        ],
        [
         "0.1",
         "61.2"
        ],
        [
         "0.2",
         "62.4"
        ],
        [
         "0.30000000000000004",
         "63.6"
        ],
        [
         "0.4",
         "64.4"
        ],
        [
         "0.5",
         "65.0"
        ],
        [
         "0.6000000000000001",
         "66.8"
        ],
        [
         "0.7000000000000001",
         "68.2"
        ],
        [
         "0.8",
         "68.8"
        ],
        [
         "0.9",
         "89.40000000000002"
        ]
       ],
       "shape": {
        "columns": 1,
        "rows": 10
       }
      },
      "text/plain": [
       "0.0    60.0\n",
       "0.1    61.2\n",
       "0.2    62.4\n",
       "0.3    63.6\n",
       "0.4    64.4\n",
       "0.5    65.0\n",
       "0.6    66.8\n",
       "0.7    68.2\n",
       "0.8    68.8\n",
       "0.9    89.4\n",
       "dtype: float64"
      ]
     },
     "execution_count": 6,
     "metadata": {},
     "output_type": "execute_result"
    }
   ],
   "source": [
    "mydata.quantile(np.arange(0,1,0.1))"
   ]
  },
  {
   "cell_type": "code",
   "execution_count": 7,
   "id": "de6a1242",
   "metadata": {},
   "outputs": [
    {
     "data": {
      "application/vnd.microsoft.datawrangler.viewer.v0+json": {
       "columns": [
        {
         "name": "index",
         "rawType": "object",
         "type": "string"
        },
        {
         "name": "0",
         "rawType": "float64",
         "type": "float"
        }
       ],
       "ref": "b4f2e8f0-1dcc-4c36-a0d0-9b1c5acd22f1",
       "rows": [
        [
         "count",
         "7.0"
        ],
        [
         "mean",
         "72.57142857142857"
        ],
        [
         "std",
         "21.149130343484913"
        ],
        [
         "min",
         "60.0"
        ],
        [
         "25%",
         "63.0"
        ],
        [
         "50%",
         "65.0"
        ],
        [
         "75%",
         "68.5"
        ],
        [
         "max",
         "120.0"
        ]
       ],
       "shape": {
        "columns": 1,
        "rows": 8
       }
      },
      "text/plain": [
       "count      7.000000\n",
       "mean      72.571429\n",
       "std       21.149130\n",
       "min       60.000000\n",
       "25%       63.000000\n",
       "50%       65.000000\n",
       "75%       68.500000\n",
       "max      120.000000\n",
       "dtype: float64"
      ]
     },
     "execution_count": 7,
     "metadata": {},
     "output_type": "execute_result"
    }
   ],
   "source": [
    "mydata.describe()"
   ]
  }
 ],
 "metadata": {
  "kernelspec": {
   "display_name": "Python 3",
   "language": "python",
   "name": "python3"
  },
  "language_info": {
   "codemirror_mode": {
    "name": "ipython",
    "version": 3
   },
   "file_extension": ".py",
   "mimetype": "text/x-python",
   "name": "python",
   "nbconvert_exporter": "python",
   "pygments_lexer": "ipython3",
   "version": "3.13.5"
  }
 },
 "nbformat": 4,
 "nbformat_minor": 5
}
