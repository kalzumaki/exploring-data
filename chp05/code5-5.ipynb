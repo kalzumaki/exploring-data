{
 "cells": [
  {
   "cell_type": "code",
   "execution_count": 2,
   "id": "0cbc4e2e",
   "metadata": {},
   "outputs": [
    {
     "data": {
      "application/vnd.microsoft.datawrangler.viewer.v0+json": {
       "columns": [
        {
         "name": "index",
         "rawType": "int64",
         "type": "integer"
        },
        {
         "name": "0",
         "rawType": "int64",
         "type": "integer"
        }
       ],
       "ref": "c9663869-9bb1-4c5f-8e2d-cfcc9d1c516a",
       "rows": [
        [
         "0",
         "60"
        ],
        [
         "1",
         "62"
        ],
        [
         "2",
         "64"
        ],
        [
         "3",
         "65"
        ],
        [
         "4",
         "68"
        ],
        [
         "5",
         "69"
        ]
       ],
       "shape": {
        "columns": 1,
        "rows": 6
       }
      },
      "text/plain": [
       "0    60\n",
       "1    62\n",
       "2    64\n",
       "3    65\n",
       "4    68\n",
       "5    69\n",
       "dtype: int64"
      ]
     },
     "execution_count": 2,
     "metadata": {},
     "output_type": "execute_result"
    }
   ],
   "source": [
    "import pandas  as pd\n",
    "from scipy import stats\n",
    "\n",
    "ds = [60,62, 64, 65, 68, 69]\n",
    "\n",
    "weight = pd.Series(ds)\n",
    "\n",
    "weight"
   ]
  },
  {
   "cell_type": "code",
   "execution_count": 16,
   "id": "664d730c",
   "metadata": {},
   "outputs": [
    {
     "data": {
      "application/vnd.microsoft.datawrangler.viewer.v0+json": {
       "columns": [
        {
         "name": "index",
         "rawType": "int64",
         "type": "integer"
        },
        {
         "name": "0",
         "rawType": "int64",
         "type": "integer"
        }
       ],
       "ref": "7607c5b4-9f6e-4256-8a7c-e9f36cfd73bf",
       "rows": [
        [
         "0",
         "60"
        ],
        [
         "1",
         "62"
        ],
        [
         "2",
         "64"
        ],
        [
         "3",
         "65"
        ],
        [
         "4",
         "68"
        ],
        [
         "5",
         "69"
        ],
        [
         "6",
         "120"
        ],
        [
         "7",
         "120"
        ],
        [
         "8",
         "120"
        ],
        [
         "9",
         "120"
        ],
        [
         "10",
         "120"
        ],
        [
         "11",
         "120"
        ],
        [
         "12",
         "120"
        ],
        [
         "13",
         "120"
        ],
        [
         "14",
         "120"
        ],
        [
         "15",
         "120"
        ]
       ],
       "shape": {
        "columns": 1,
        "rows": 16
       }
      },
      "text/plain": [
       "0      60\n",
       "1      62\n",
       "2      64\n",
       "3      65\n",
       "4      68\n",
       "5      69\n",
       "6     120\n",
       "7     120\n",
       "8     120\n",
       "9     120\n",
       "10    120\n",
       "11    120\n",
       "12    120\n",
       "13    120\n",
       "14    120\n",
       "15    120\n",
       "dtype: int64"
      ]
     },
     "execution_count": 16,
     "metadata": {},
     "output_type": "execute_result"
    }
   ],
   "source": [
    "ds.append(120)\n",
    "hw = pd.Series(ds)\n",
    "weight\n",
    "hw"
   ]
  },
  {
   "cell_type": "code",
   "execution_count": 17,
   "id": "3a9b085b",
   "metadata": {},
   "outputs": [
    {
     "data": {
      "text/plain": [
       "np.float64(64.66666666666667)"
      ]
     },
     "execution_count": 17,
     "metadata": {},
     "output_type": "execute_result"
    }
   ],
   "source": [
    "weight.mean()"
   ]
  },
  {
   "cell_type": "code",
   "execution_count": 18,
   "id": "ef5d190a",
   "metadata": {},
   "outputs": [
    {
     "data": {
      "text/plain": [
       "np.float64(99.25)"
      ]
     },
     "execution_count": 18,
     "metadata": {},
     "output_type": "execute_result"
    }
   ],
   "source": [
    "hw.mean()"
   ]
  },
  {
   "cell_type": "code",
   "execution_count": 19,
   "id": "3c45a170",
   "metadata": {},
   "outputs": [
    {
     "data": {
      "text/plain": [
       "np.float64(64.5)"
      ]
     },
     "execution_count": 19,
     "metadata": {},
     "output_type": "execute_result"
    }
   ],
   "source": [
    "weight.median()"
   ]
  },
  {
   "cell_type": "code",
   "execution_count": 20,
   "id": "57ca40b3",
   "metadata": {},
   "outputs": [
    {
     "data": {
      "text/plain": [
       "np.float64(120.0)"
      ]
     },
     "execution_count": 20,
     "metadata": {},
     "output_type": "execute_result"
    }
   ],
   "source": [
    "hw.median()"
   ]
  },
  {
   "cell_type": "code",
   "execution_count": 21,
   "id": "8952d1ed",
   "metadata": {},
   "outputs": [
    {
     "data": {
      "text/plain": [
       "np.float64(64.75)"
      ]
     },
     "execution_count": 21,
     "metadata": {},
     "output_type": "execute_result"
    }
   ],
   "source": [
    "stats.trim_mean(weight, 0.2)"
   ]
  },
  {
   "cell_type": "code",
   "execution_count": 22,
   "id": "cb3417bd",
   "metadata": {},
   "outputs": [
    {
     "data": {
      "text/plain": [
       "np.float64(104.2)"
      ]
     },
     "execution_count": 22,
     "metadata": {},
     "output_type": "execute_result"
    }
   ],
   "source": [
    "stats.trim_mean(hw, 0.2)"
   ]
  }
 ],
 "metadata": {
  "kernelspec": {
   "display_name": "Python 3",
   "language": "python",
   "name": "python3"
  },
  "language_info": {
   "codemirror_mode": {
    "name": "ipython",
    "version": 3
   },
   "file_extension": ".py",
   "mimetype": "text/x-python",
   "name": "python",
   "nbconvert_exporter": "python",
   "pygments_lexer": "ipython3",
   "version": "3.13.5"
  }
 },
 "nbformat": 4,
 "nbformat_minor": 5
}
