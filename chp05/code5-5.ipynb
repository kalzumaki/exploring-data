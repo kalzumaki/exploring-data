{
 "cells": [
  {
   "cell_type": "code",
   "execution_count": 31,
   "id": "0cbc4e2e",
   "metadata": {},
   "outputs": [
    {
     "data": {
      "application/vnd.microsoft.datawrangler.viewer.v0+json": {
       "columns": [
        {
         "name": "index",
         "rawType": "int64",
         "type": "integer"
        },
        {
         "name": "0",
         "rawType": "int64",
         "type": "integer"
        }
       ],
       "ref": "3cd4bc2a-e584-4125-81e9-114cdfd25930",
       "rows": [
        [
         "0",
         "60"
        ],
        [
         "1",
         "62"
        ],
        [
         "2",
         "64"
        ],
        [
         "3",
         "65"
        ],
        [
         "4",
         "68"
        ],
        [
         "5",
         "69"
        ]
       ],
       "shape": {
        "columns": 1,
        "rows": 6
       }
      },
      "text/plain": [
       "0    60\n",
       "1    62\n",
       "2    64\n",
       "3    65\n",
       "4    68\n",
       "5    69\n",
       "dtype: int64"
      ]
     },
     "execution_count": 31,
     "metadata": {},
     "output_type": "execute_result"
    }
   ],
   "source": [
    "import pandas  as pd\n",
    "from scipy import stats\n",
    "\n",
    "ds = [60,62, 64, 65, 68, 69]\n",
    "\n",
    "weight = pd.Series(ds)\n",
    "\n",
    "weight"
   ]
  },
  {
   "cell_type": "code",
   "execution_count": 32,
   "id": "664d730c",
   "metadata": {},
   "outputs": [
    {
     "data": {
      "application/vnd.microsoft.datawrangler.viewer.v0+json": {
       "columns": [
        {
         "name": "index",
         "rawType": "int64",
         "type": "integer"
        },
        {
         "name": "0",
         "rawType": "int64",
         "type": "integer"
        }
       ],
       "ref": "2cbc695d-7d53-4dbc-9425-47f635026100",
       "rows": [
        [
         "0",
         "60"
        ],
        [
         "1",
         "62"
        ],
        [
         "2",
         "64"
        ],
        [
         "3",
         "65"
        ],
        [
         "4",
         "68"
        ],
        [
         "5",
         "69"
        ],
        [
         "6",
         "120"
        ]
       ],
       "shape": {
        "columns": 1,
        "rows": 7
       }
      },
      "text/plain": [
       "0     60\n",
       "1     62\n",
       "2     64\n",
       "3     65\n",
       "4     68\n",
       "5     69\n",
       "6    120\n",
       "dtype: int64"
      ]
     },
     "execution_count": 32,
     "metadata": {},
     "output_type": "execute_result"
    }
   ],
   "source": [
    "ds.append(120)\n",
    "hw = pd.Series(ds)\n",
    "weight\n",
    "hw"
   ]
  },
  {
   "cell_type": "code",
   "execution_count": 33,
   "id": "3a9b085b",
   "metadata": {},
   "outputs": [
    {
     "data": {
      "text/plain": [
       "np.float64(64.66666666666667)"
      ]
     },
     "execution_count": 33,
     "metadata": {},
     "output_type": "execute_result"
    }
   ],
   "source": [
    "weight.mean()"
   ]
  },
  {
   "cell_type": "code",
   "execution_count": 34,
   "id": "ef5d190a",
   "metadata": {},
   "outputs": [
    {
     "data": {
      "text/plain": [
       "np.float64(72.57142857142857)"
      ]
     },
     "execution_count": 34,
     "metadata": {},
     "output_type": "execute_result"
    }
   ],
   "source": [
    "hw.mean()"
   ]
  },
  {
   "cell_type": "code",
   "execution_count": 35,
   "id": "3c45a170",
   "metadata": {},
   "outputs": [
    {
     "data": {
      "text/plain": [
       "np.float64(64.5)"
      ]
     },
     "execution_count": 35,
     "metadata": {},
     "output_type": "execute_result"
    }
   ],
   "source": [
    "weight.median()"
   ]
  },
  {
   "cell_type": "code",
   "execution_count": 36,
   "id": "57ca40b3",
   "metadata": {},
   "outputs": [
    {
     "data": {
      "text/plain": [
       "np.float64(65.0)"
      ]
     },
     "execution_count": 36,
     "metadata": {},
     "output_type": "execute_result"
    }
   ],
   "source": [
    "hw.median()"
   ]
  },
  {
   "cell_type": "code",
   "execution_count": 37,
   "id": "8952d1ed",
   "metadata": {},
   "outputs": [
    {
     "data": {
      "text/plain": [
       "np.float64(64.75)"
      ]
     },
     "execution_count": 37,
     "metadata": {},
     "output_type": "execute_result"
    }
   ],
   "source": [
    "stats.trim_mean(weight, 0.2)"
   ]
  },
  {
   "cell_type": "code",
   "execution_count": 38,
   "id": "cb3417bd",
   "metadata": {},
   "outputs": [
    {
     "data": {
      "text/plain": [
       "np.float64(65.6)"
      ]
     },
     "execution_count": 38,
     "metadata": {},
     "output_type": "execute_result"
    }
   ],
   "source": [
    "stats.trim_mean(hw, 0.2)"
   ]
  }
 ],
 "metadata": {
  "kernelspec": {
   "display_name": "Python 3",
   "language": "python",
   "name": "python3"
  },
  "language_info": {
   "codemirror_mode": {
    "name": "ipython",
    "version": 3
   },
   "file_extension": ".py",
   "mimetype": "text/x-python",
   "name": "python",
   "nbconvert_exporter": "python",
   "pygments_lexer": "ipython3",
   "version": "3.13.5"
  }
 },
 "nbformat": 4,
 "nbformat_minor": 5
}
