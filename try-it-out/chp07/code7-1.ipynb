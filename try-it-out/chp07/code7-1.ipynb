{
 "cells": [
  {
   "cell_type": "markdown",
   "id": "1cfa0673",
   "metadata": {},
   "source": [
    "# 1st Activity\n",
    "\n",
    "### The 'airquality' dataset contains measurements of ozone concentration (Ozone) radiation (Solar.R), wind speed (Wind), and air temperature (Temp) from May to September. Let's analyze the data by following steps below"
   ]
  },
  {
   "cell_type": "code",
   "execution_count": null,
   "id": "018bc15c",
   "metadata": {},
   "outputs": [],
   "source": [
    "# read the airquality dataset, save it to a data frame df, and check the contents\n",
    "\n",
    "import "
   ]
  }
 ],
 "metadata": {
  "kernelspec": {
   "display_name": "Python 3",
   "language": "python",
   "name": "python3"
  },
  "language_info": {
   "name": "python",
   "version": "3.13.3"
  }
 },
 "nbformat": 4,
 "nbformat_minor": 5
}
