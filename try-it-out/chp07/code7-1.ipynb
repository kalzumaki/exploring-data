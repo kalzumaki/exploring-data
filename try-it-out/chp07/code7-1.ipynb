{
 "cells": [
  {
   "cell_type": "markdown",
   "id": "1cfa0673",
   "metadata": {},
   "source": [
    "# 1st Activity\n",
    "\n",
    "### The 'airquality' dataset contains measurements of ozone concentration (Ozone) radiation (Solar.R), wind speed (Wind), and air temperature (Temp) from May to September. Let's analyze the data by following steps below"
   ]
  },
  {
   "cell_type": "code",
   "execution_count": 62,
   "id": "018bc15c",
   "metadata": {},
   "outputs": [
    {
     "data": {
      "application/vnd.microsoft.datawrangler.viewer.v0+json": {
       "columns": [
        {
         "name": "index",
         "rawType": "int64",
         "type": "integer"
        },
        {
         "name": "Ozone",
         "rawType": "float64",
         "type": "float"
        },
        {
         "name": "Solar.R",
         "rawType": "float64",
         "type": "float"
        },
        {
         "name": "Wind",
         "rawType": "float64",
         "type": "float"
        },
        {
         "name": "Temp",
         "rawType": "int64",
         "type": "integer"
        },
        {
         "name": "Month",
         "rawType": "int64",
         "type": "integer"
        },
        {
         "name": "Day",
         "rawType": "int64",
         "type": "integer"
        }
       ],
       "ref": "ee38487c-0fa8-40a4-b5c3-2ffb27ae7eca",
       "rows": [
        [
         "0",
         "41.0",
         "190.0",
         "7.4",
         "67",
         "5",
         "1"
        ],
        [
         "1",
         "36.0",
         "118.0",
         "8.0",
         "72",
         "5",
         "2"
        ],
        [
         "2",
         "12.0",
         "149.0",
         "12.6",
         "74",
         "5",
         "3"
        ],
        [
         "3",
         "18.0",
         "313.0",
         "11.5",
         "62",
         "5",
         "4"
        ],
        [
         "4",
         null,
         null,
         "14.3",
         "56",
         "5",
         "5"
        ],
        [
         "5",
         "28.0",
         null,
         "14.9",
         "66",
         "5",
         "6"
        ],
        [
         "6",
         "23.0",
         "299.0",
         "8.6",
         "65",
         "5",
         "7"
        ],
        [
         "7",
         "19.0",
         "99.0",
         "13.8",
         "59",
         "5",
         "8"
        ],
        [
         "8",
         "8.0",
         "19.0",
         "20.1",
         "61",
         "5",
         "9"
        ],
        [
         "9",
         null,
         "194.0",
         "8.6",
         "69",
         "5",
         "10"
        ],
        [
         "10",
         "7.0",
         null,
         "6.9",
         "74",
         "5",
         "11"
        ],
        [
         "11",
         "16.0",
         "256.0",
         "9.7",
         "69",
         "5",
         "12"
        ],
        [
         "12",
         "11.0",
         "290.0",
         "9.2",
         "66",
         "5",
         "13"
        ],
        [
         "13",
         "14.0",
         "274.0",
         "10.9",
         "68",
         "5",
         "14"
        ],
        [
         "14",
         "18.0",
         "65.0",
         "13.2",
         "58",
         "5",
         "15"
        ],
        [
         "15",
         "14.0",
         "334.0",
         "11.5",
         "64",
         "5",
         "16"
        ],
        [
         "16",
         "34.0",
         "307.0",
         "12.0",
         "66",
         "5",
         "17"
        ],
        [
         "17",
         "6.0",
         "78.0",
         "18.4",
         "57",
         "5",
         "18"
        ],
        [
         "18",
         "30.0",
         "322.0",
         "11.5",
         "68",
         "5",
         "19"
        ],
        [
         "19",
         "11.0",
         "44.0",
         "9.7",
         "62",
         "5",
         "20"
        ],
        [
         "20",
         "1.0",
         "8.0",
         "9.7",
         "59",
         "5",
         "21"
        ],
        [
         "21",
         "11.0",
         "320.0",
         "16.6",
         "73",
         "5",
         "22"
        ],
        [
         "22",
         "4.0",
         "25.0",
         "9.7",
         "61",
         "5",
         "23"
        ],
        [
         "23",
         "32.0",
         "92.0",
         "12.0",
         "61",
         "5",
         "24"
        ],
        [
         "24",
         null,
         "66.0",
         "16.6",
         "57",
         "5",
         "25"
        ],
        [
         "25",
         null,
         "266.0",
         "14.9",
         "58",
         "5",
         "26"
        ],
        [
         "26",
         null,
         null,
         "8.0",
         "57",
         "5",
         "27"
        ],
        [
         "27",
         "23.0",
         "13.0",
         "12.0",
         "67",
         "5",
         "28"
        ],
        [
         "28",
         "45.0",
         "252.0",
         "14.9",
         "81",
         "5",
         "29"
        ],
        [
         "29",
         "115.0",
         "223.0",
         "5.7",
         "79",
         "5",
         "30"
        ],
        [
         "30",
         "37.0",
         "279.0",
         "7.4",
         "76",
         "5",
         "31"
        ],
        [
         "31",
         null,
         "286.0",
         "8.6",
         "78",
         "6",
         "1"
        ],
        [
         "32",
         null,
         "287.0",
         "9.7",
         "74",
         "6",
         "2"
        ],
        [
         "33",
         null,
         "242.0",
         "16.1",
         "67",
         "6",
         "3"
        ],
        [
         "34",
         null,
         "186.0",
         "9.2",
         "84",
         "6",
         "4"
        ],
        [
         "35",
         null,
         "220.0",
         "8.6",
         "85",
         "6",
         "5"
        ],
        [
         "36",
         null,
         "264.0",
         "14.3",
         "79",
         "6",
         "6"
        ],
        [
         "37",
         "29.0",
         "127.0",
         "9.7",
         "82",
         "6",
         "7"
        ],
        [
         "38",
         null,
         "273.0",
         "6.9",
         "87",
         "6",
         "8"
        ],
        [
         "39",
         "71.0",
         "291.0",
         "13.8",
         "90",
         "6",
         "9"
        ],
        [
         "40",
         "39.0",
         "323.0",
         "11.5",
         "87",
         "6",
         "10"
        ],
        [
         "41",
         null,
         "259.0",
         "10.9",
         "93",
         "6",
         "11"
        ],
        [
         "42",
         null,
         "250.0",
         "9.2",
         "92",
         "6",
         "12"
        ],
        [
         "43",
         "23.0",
         "148.0",
         "8.0",
         "82",
         "6",
         "13"
        ],
        [
         "44",
         null,
         "332.0",
         "13.8",
         "80",
         "6",
         "14"
        ],
        [
         "45",
         null,
         "322.0",
         "11.5",
         "79",
         "6",
         "15"
        ],
        [
         "46",
         "21.0",
         "191.0",
         "14.9",
         "77",
         "6",
         "16"
        ],
        [
         "47",
         "37.0",
         "284.0",
         "20.7",
         "72",
         "6",
         "17"
        ],
        [
         "48",
         "20.0",
         "37.0",
         "9.2",
         "65",
         "6",
         "18"
        ],
        [
         "49",
         "12.0",
         "120.0",
         "11.5",
         "73",
         "6",
         "19"
        ]
       ],
       "shape": {
        "columns": 6,
        "rows": 153
       }
      },
      "text/html": [
       "<div>\n",
       "<style scoped>\n",
       "    .dataframe tbody tr th:only-of-type {\n",
       "        vertical-align: middle;\n",
       "    }\n",
       "\n",
       "    .dataframe tbody tr th {\n",
       "        vertical-align: top;\n",
       "    }\n",
       "\n",
       "    .dataframe thead th {\n",
       "        text-align: right;\n",
       "    }\n",
       "</style>\n",
       "<table border=\"1\" class=\"dataframe\">\n",
       "  <thead>\n",
       "    <tr style=\"text-align: right;\">\n",
       "      <th></th>\n",
       "      <th>Ozone</th>\n",
       "      <th>Solar.R</th>\n",
       "      <th>Wind</th>\n",
       "      <th>Temp</th>\n",
       "      <th>Month</th>\n",
       "      <th>Day</th>\n",
       "    </tr>\n",
       "  </thead>\n",
       "  <tbody>\n",
       "    <tr>\n",
       "      <th>0</th>\n",
       "      <td>41.0</td>\n",
       "      <td>190.0</td>\n",
       "      <td>7.4</td>\n",
       "      <td>67</td>\n",
       "      <td>5</td>\n",
       "      <td>1</td>\n",
       "    </tr>\n",
       "    <tr>\n",
       "      <th>1</th>\n",
       "      <td>36.0</td>\n",
       "      <td>118.0</td>\n",
       "      <td>8.0</td>\n",
       "      <td>72</td>\n",
       "      <td>5</td>\n",
       "      <td>2</td>\n",
       "    </tr>\n",
       "    <tr>\n",
       "      <th>2</th>\n",
       "      <td>12.0</td>\n",
       "      <td>149.0</td>\n",
       "      <td>12.6</td>\n",
       "      <td>74</td>\n",
       "      <td>5</td>\n",
       "      <td>3</td>\n",
       "    </tr>\n",
       "    <tr>\n",
       "      <th>3</th>\n",
       "      <td>18.0</td>\n",
       "      <td>313.0</td>\n",
       "      <td>11.5</td>\n",
       "      <td>62</td>\n",
       "      <td>5</td>\n",
       "      <td>4</td>\n",
       "    </tr>\n",
       "    <tr>\n",
       "      <th>4</th>\n",
       "      <td>NaN</td>\n",
       "      <td>NaN</td>\n",
       "      <td>14.3</td>\n",
       "      <td>56</td>\n",
       "      <td>5</td>\n",
       "      <td>5</td>\n",
       "    </tr>\n",
       "    <tr>\n",
       "      <th>...</th>\n",
       "      <td>...</td>\n",
       "      <td>...</td>\n",
       "      <td>...</td>\n",
       "      <td>...</td>\n",
       "      <td>...</td>\n",
       "      <td>...</td>\n",
       "    </tr>\n",
       "    <tr>\n",
       "      <th>148</th>\n",
       "      <td>30.0</td>\n",
       "      <td>193.0</td>\n",
       "      <td>6.9</td>\n",
       "      <td>70</td>\n",
       "      <td>9</td>\n",
       "      <td>26</td>\n",
       "    </tr>\n",
       "    <tr>\n",
       "      <th>149</th>\n",
       "      <td>NaN</td>\n",
       "      <td>145.0</td>\n",
       "      <td>13.2</td>\n",
       "      <td>77</td>\n",
       "      <td>9</td>\n",
       "      <td>27</td>\n",
       "    </tr>\n",
       "    <tr>\n",
       "      <th>150</th>\n",
       "      <td>14.0</td>\n",
       "      <td>191.0</td>\n",
       "      <td>14.3</td>\n",
       "      <td>75</td>\n",
       "      <td>9</td>\n",
       "      <td>28</td>\n",
       "    </tr>\n",
       "    <tr>\n",
       "      <th>151</th>\n",
       "      <td>18.0</td>\n",
       "      <td>131.0</td>\n",
       "      <td>8.0</td>\n",
       "      <td>76</td>\n",
       "      <td>9</td>\n",
       "      <td>29</td>\n",
       "    </tr>\n",
       "    <tr>\n",
       "      <th>152</th>\n",
       "      <td>20.0</td>\n",
       "      <td>223.0</td>\n",
       "      <td>11.5</td>\n",
       "      <td>68</td>\n",
       "      <td>9</td>\n",
       "      <td>30</td>\n",
       "    </tr>\n",
       "  </tbody>\n",
       "</table>\n",
       "<p>153 rows × 6 columns</p>\n",
       "</div>"
      ],
      "text/plain": [
       "     Ozone  Solar.R  Wind  Temp  Month  Day\n",
       "0     41.0    190.0   7.4    67      5    1\n",
       "1     36.0    118.0   8.0    72      5    2\n",
       "2     12.0    149.0  12.6    74      5    3\n",
       "3     18.0    313.0  11.5    62      5    4\n",
       "4      NaN      NaN  14.3    56      5    5\n",
       "..     ...      ...   ...   ...    ...  ...\n",
       "148   30.0    193.0   6.9    70      9   26\n",
       "149    NaN    145.0  13.2    77      9   27\n",
       "150   14.0    191.0  14.3    75      9   28\n",
       "151   18.0    131.0   8.0    76      9   29\n",
       "152   20.0    223.0  11.5    68      9   30\n",
       "\n",
       "[153 rows x 6 columns]"
      ]
     },
     "execution_count": 62,
     "metadata": {},
     "output_type": "execute_result"
    }
   ],
   "source": [
    "# read the airquality dataset, save it to a data frame df, and check the contents\n",
    "\n",
    "import pandas as pd\n",
    "\n",
    "df = pd.read_csv(\"../../data/airquality.csv\")\n",
    "\n",
    "df"
   ]
  },
  {
   "cell_type": "code",
   "execution_count": null,
   "id": "87f326d2",
   "metadata": {},
   "outputs": [
    {
     "data": {
      "text/plain": [
       "(Ozone      37\n",
       " Solar.R     7\n",
       " Wind        0\n",
       " Temp        0\n",
       " Month       0\n",
       " Day         0\n",
       " dtype: int64,\n",
       " np.int64(42))"
      ]
     },
     "execution_count": 67,
     "metadata": {},
     "output_type": "execute_result"
    }
   ],
   "source": [
    "# check the number of missing values in each column and the number of rows containing missing values\n",
    "df.isnull().sum(),  df.isnull().any(axis=1).sum() # total missing values"
   ]
  },
  {
   "cell_type": "code",
   "execution_count": 64,
   "id": "c1bd417c",
   "metadata": {},
   "outputs": [
    {
     "data": {
      "application/vnd.microsoft.datawrangler.viewer.v0+json": {
       "columns": [
        {
         "name": "index",
         "rawType": "int64",
         "type": "integer"
        },
        {
         "name": "Ozone",
         "rawType": "float64",
         "type": "float"
        },
        {
         "name": "Solar.R",
         "rawType": "float64",
         "type": "float"
        },
        {
         "name": "Wind",
         "rawType": "float64",
         "type": "float"
        },
        {
         "name": "Temp",
         "rawType": "int64",
         "type": "integer"
        },
        {
         "name": "Month",
         "rawType": "int64",
         "type": "integer"
        },
        {
         "name": "Day",
         "rawType": "int64",
         "type": "integer"
        }
       ],
       "ref": "68fdf3a9-e640-43ec-96be-ef6b0d9db184",
       "rows": [
        [
         "0",
         "41.0",
         "190.0",
         "7.4",
         "67",
         "5",
         "1"
        ],
        [
         "1",
         "36.0",
         "118.0",
         "8.0",
         "72",
         "5",
         "2"
        ],
        [
         "2",
         "12.0",
         "149.0",
         "12.6",
         "74",
         "5",
         "3"
        ],
        [
         "3",
         "18.0",
         "313.0",
         "11.5",
         "62",
         "5",
         "4"
        ],
        [
         "6",
         "23.0",
         "299.0",
         "8.6",
         "65",
         "5",
         "7"
        ],
        [
         "7",
         "19.0",
         "99.0",
         "13.8",
         "59",
         "5",
         "8"
        ],
        [
         "8",
         "8.0",
         "19.0",
         "20.1",
         "61",
         "5",
         "9"
        ],
        [
         "11",
         "16.0",
         "256.0",
         "9.7",
         "69",
         "5",
         "12"
        ],
        [
         "12",
         "11.0",
         "290.0",
         "9.2",
         "66",
         "5",
         "13"
        ],
        [
         "13",
         "14.0",
         "274.0",
         "10.9",
         "68",
         "5",
         "14"
        ],
        [
         "14",
         "18.0",
         "65.0",
         "13.2",
         "58",
         "5",
         "15"
        ],
        [
         "15",
         "14.0",
         "334.0",
         "11.5",
         "64",
         "5",
         "16"
        ],
        [
         "16",
         "34.0",
         "307.0",
         "12.0",
         "66",
         "5",
         "17"
        ],
        [
         "17",
         "6.0",
         "78.0",
         "18.4",
         "57",
         "5",
         "18"
        ],
        [
         "18",
         "30.0",
         "322.0",
         "11.5",
         "68",
         "5",
         "19"
        ],
        [
         "19",
         "11.0",
         "44.0",
         "9.7",
         "62",
         "5",
         "20"
        ],
        [
         "20",
         "1.0",
         "8.0",
         "9.7",
         "59",
         "5",
         "21"
        ],
        [
         "21",
         "11.0",
         "320.0",
         "16.6",
         "73",
         "5",
         "22"
        ],
        [
         "22",
         "4.0",
         "25.0",
         "9.7",
         "61",
         "5",
         "23"
        ],
        [
         "23",
         "32.0",
         "92.0",
         "12.0",
         "61",
         "5",
         "24"
        ],
        [
         "27",
         "23.0",
         "13.0",
         "12.0",
         "67",
         "5",
         "28"
        ],
        [
         "28",
         "45.0",
         "252.0",
         "14.9",
         "81",
         "5",
         "29"
        ],
        [
         "29",
         "115.0",
         "223.0",
         "5.7",
         "79",
         "5",
         "30"
        ],
        [
         "30",
         "37.0",
         "279.0",
         "7.4",
         "76",
         "5",
         "31"
        ],
        [
         "37",
         "29.0",
         "127.0",
         "9.7",
         "82",
         "6",
         "7"
        ],
        [
         "39",
         "71.0",
         "291.0",
         "13.8",
         "90",
         "6",
         "9"
        ],
        [
         "40",
         "39.0",
         "323.0",
         "11.5",
         "87",
         "6",
         "10"
        ],
        [
         "43",
         "23.0",
         "148.0",
         "8.0",
         "82",
         "6",
         "13"
        ],
        [
         "46",
         "21.0",
         "191.0",
         "14.9",
         "77",
         "6",
         "16"
        ],
        [
         "47",
         "37.0",
         "284.0",
         "20.7",
         "72",
         "6",
         "17"
        ],
        [
         "48",
         "20.0",
         "37.0",
         "9.2",
         "65",
         "6",
         "18"
        ],
        [
         "49",
         "12.0",
         "120.0",
         "11.5",
         "73",
         "6",
         "19"
        ],
        [
         "50",
         "13.0",
         "137.0",
         "10.3",
         "76",
         "6",
         "20"
        ],
        [
         "61",
         "135.0",
         "269.0",
         "4.1",
         "84",
         "7",
         "1"
        ],
        [
         "62",
         "49.0",
         "248.0",
         "9.2",
         "85",
         "7",
         "2"
        ],
        [
         "63",
         "32.0",
         "236.0",
         "9.2",
         "81",
         "7",
         "3"
        ],
        [
         "65",
         "64.0",
         "175.0",
         "4.6",
         "83",
         "7",
         "5"
        ],
        [
         "66",
         "40.0",
         "314.0",
         "10.9",
         "83",
         "7",
         "6"
        ],
        [
         "67",
         "77.0",
         "276.0",
         "5.1",
         "88",
         "7",
         "7"
        ],
        [
         "68",
         "97.0",
         "267.0",
         "6.3",
         "92",
         "7",
         "8"
        ],
        [
         "69",
         "97.0",
         "272.0",
         "5.7",
         "92",
         "7",
         "9"
        ],
        [
         "70",
         "85.0",
         "175.0",
         "7.4",
         "89",
         "7",
         "10"
        ],
        [
         "72",
         "10.0",
         "264.0",
         "14.3",
         "73",
         "7",
         "12"
        ],
        [
         "73",
         "27.0",
         "175.0",
         "14.9",
         "81",
         "7",
         "13"
        ],
        [
         "75",
         "7.0",
         "48.0",
         "14.3",
         "80",
         "7",
         "15"
        ],
        [
         "76",
         "48.0",
         "260.0",
         "6.9",
         "81",
         "7",
         "16"
        ],
        [
         "77",
         "35.0",
         "274.0",
         "10.3",
         "82",
         "7",
         "17"
        ],
        [
         "78",
         "61.0",
         "285.0",
         "6.3",
         "84",
         "7",
         "18"
        ],
        [
         "79",
         "79.0",
         "187.0",
         "5.1",
         "87",
         "7",
         "19"
        ],
        [
         "80",
         "63.0",
         "220.0",
         "11.5",
         "85",
         "7",
         "20"
        ]
       ],
       "shape": {
        "columns": 6,
        "rows": 111
       }
      },
      "text/html": [
       "<div>\n",
       "<style scoped>\n",
       "    .dataframe tbody tr th:only-of-type {\n",
       "        vertical-align: middle;\n",
       "    }\n",
       "\n",
       "    .dataframe tbody tr th {\n",
       "        vertical-align: top;\n",
       "    }\n",
       "\n",
       "    .dataframe thead th {\n",
       "        text-align: right;\n",
       "    }\n",
       "</style>\n",
       "<table border=\"1\" class=\"dataframe\">\n",
       "  <thead>\n",
       "    <tr style=\"text-align: right;\">\n",
       "      <th></th>\n",
       "      <th>Ozone</th>\n",
       "      <th>Solar.R</th>\n",
       "      <th>Wind</th>\n",
       "      <th>Temp</th>\n",
       "      <th>Month</th>\n",
       "      <th>Day</th>\n",
       "    </tr>\n",
       "  </thead>\n",
       "  <tbody>\n",
       "    <tr>\n",
       "      <th>0</th>\n",
       "      <td>41.0</td>\n",
       "      <td>190.0</td>\n",
       "      <td>7.4</td>\n",
       "      <td>67</td>\n",
       "      <td>5</td>\n",
       "      <td>1</td>\n",
       "    </tr>\n",
       "    <tr>\n",
       "      <th>1</th>\n",
       "      <td>36.0</td>\n",
       "      <td>118.0</td>\n",
       "      <td>8.0</td>\n",
       "      <td>72</td>\n",
       "      <td>5</td>\n",
       "      <td>2</td>\n",
       "    </tr>\n",
       "    <tr>\n",
       "      <th>2</th>\n",
       "      <td>12.0</td>\n",
       "      <td>149.0</td>\n",
       "      <td>12.6</td>\n",
       "      <td>74</td>\n",
       "      <td>5</td>\n",
       "      <td>3</td>\n",
       "    </tr>\n",
       "    <tr>\n",
       "      <th>3</th>\n",
       "      <td>18.0</td>\n",
       "      <td>313.0</td>\n",
       "      <td>11.5</td>\n",
       "      <td>62</td>\n",
       "      <td>5</td>\n",
       "      <td>4</td>\n",
       "    </tr>\n",
       "    <tr>\n",
       "      <th>6</th>\n",
       "      <td>23.0</td>\n",
       "      <td>299.0</td>\n",
       "      <td>8.6</td>\n",
       "      <td>65</td>\n",
       "      <td>5</td>\n",
       "      <td>7</td>\n",
       "    </tr>\n",
       "    <tr>\n",
       "      <th>...</th>\n",
       "      <td>...</td>\n",
       "      <td>...</td>\n",
       "      <td>...</td>\n",
       "      <td>...</td>\n",
       "      <td>...</td>\n",
       "      <td>...</td>\n",
       "    </tr>\n",
       "    <tr>\n",
       "      <th>147</th>\n",
       "      <td>14.0</td>\n",
       "      <td>20.0</td>\n",
       "      <td>16.6</td>\n",
       "      <td>63</td>\n",
       "      <td>9</td>\n",
       "      <td>25</td>\n",
       "    </tr>\n",
       "    <tr>\n",
       "      <th>148</th>\n",
       "      <td>30.0</td>\n",
       "      <td>193.0</td>\n",
       "      <td>6.9</td>\n",
       "      <td>70</td>\n",
       "      <td>9</td>\n",
       "      <td>26</td>\n",
       "    </tr>\n",
       "    <tr>\n",
       "      <th>150</th>\n",
       "      <td>14.0</td>\n",
       "      <td>191.0</td>\n",
       "      <td>14.3</td>\n",
       "      <td>75</td>\n",
       "      <td>9</td>\n",
       "      <td>28</td>\n",
       "    </tr>\n",
       "    <tr>\n",
       "      <th>151</th>\n",
       "      <td>18.0</td>\n",
       "      <td>131.0</td>\n",
       "      <td>8.0</td>\n",
       "      <td>76</td>\n",
       "      <td>9</td>\n",
       "      <td>29</td>\n",
       "    </tr>\n",
       "    <tr>\n",
       "      <th>152</th>\n",
       "      <td>20.0</td>\n",
       "      <td>223.0</td>\n",
       "      <td>11.5</td>\n",
       "      <td>68</td>\n",
       "      <td>9</td>\n",
       "      <td>30</td>\n",
       "    </tr>\n",
       "  </tbody>\n",
       "</table>\n",
       "<p>111 rows × 6 columns</p>\n",
       "</div>"
      ],
      "text/plain": [
       "     Ozone  Solar.R  Wind  Temp  Month  Day\n",
       "0     41.0    190.0   7.4    67      5    1\n",
       "1     36.0    118.0   8.0    72      5    2\n",
       "2     12.0    149.0  12.6    74      5    3\n",
       "3     18.0    313.0  11.5    62      5    4\n",
       "6     23.0    299.0   8.6    65      5    7\n",
       "..     ...      ...   ...   ...    ...  ...\n",
       "147   14.0     20.0  16.6    63      9   25\n",
       "148   30.0    193.0   6.9    70      9   26\n",
       "150   14.0    191.0  14.3    75      9   28\n",
       "151   18.0    131.0   8.0    76      9   29\n",
       "152   20.0    223.0  11.5    68      9   30\n",
       "\n",
       "[111 rows x 6 columns]"
      ]
     },
     "execution_count": 64,
     "metadata": {},
     "output_type": "execute_result"
    }
   ],
   "source": [
    "# Remove rows containing missing values and save them in df_clean\n",
    "df_clean = df.dropna()\n",
    "df_clean"
   ]
  },
  {
   "cell_type": "code",
   "execution_count": 65,
   "id": "40a38ff1",
   "metadata": {},
   "outputs": [
    {
     "data": {
      "application/vnd.microsoft.datawrangler.viewer.v0+json": {
       "columns": [
        {
         "name": "index",
         "rawType": "int64",
         "type": "integer"
        },
        {
         "name": "Ozone",
         "rawType": "float64",
         "type": "float"
        },
        {
         "name": "Solar.R",
         "rawType": "float64",
         "type": "float"
        },
        {
         "name": "Wind",
         "rawType": "float64",
         "type": "float"
        },
        {
         "name": "Temp",
         "rawType": "int64",
         "type": "integer"
        },
        {
         "name": "Month",
         "rawType": "int64",
         "type": "integer"
        },
        {
         "name": "Day",
         "rawType": "int64",
         "type": "integer"
        }
       ],
       "ref": "03d35d7d-d4a5-4b5c-811d-a64802df6042",
       "rows": [
        [
         "0",
         "41.0",
         "190.0",
         "7.4",
         "67",
         "5",
         "1"
        ],
        [
         "1",
         "36.0",
         "118.0",
         "8.0",
         "72",
         "5",
         "2"
        ],
        [
         "2",
         "12.0",
         "149.0",
         "12.6",
         "74",
         "5",
         "3"
        ],
        [
         "3",
         "18.0",
         "313.0",
         "11.5",
         "62",
         "5",
         "4"
        ],
        [
         "6",
         "23.0",
         "299.0",
         "8.6",
         "65",
         "5",
         "7"
        ],
        [
         "7",
         "19.0",
         "99.0",
         "13.8",
         "59",
         "5",
         "8"
        ],
        [
         "8",
         "8.0",
         "19.0",
         "20.1",
         "61",
         "5",
         "9"
        ],
        [
         "11",
         "16.0",
         "256.0",
         "9.7",
         "69",
         "5",
         "12"
        ],
        [
         "12",
         "11.0",
         "290.0",
         "9.2",
         "66",
         "5",
         "13"
        ],
        [
         "13",
         "14.0",
         "274.0",
         "10.9",
         "68",
         "5",
         "14"
        ],
        [
         "14",
         "18.0",
         "65.0",
         "13.2",
         "58",
         "5",
         "15"
        ],
        [
         "15",
         "14.0",
         "334.0",
         "11.5",
         "64",
         "5",
         "16"
        ],
        [
         "16",
         "34.0",
         "307.0",
         "12.0",
         "66",
         "5",
         "17"
        ],
        [
         "17",
         "6.0",
         "78.0",
         "18.4",
         "57",
         "5",
         "18"
        ],
        [
         "18",
         "30.0",
         "322.0",
         "11.5",
         "68",
         "5",
         "19"
        ],
        [
         "19",
         "11.0",
         "44.0",
         "9.7",
         "62",
         "5",
         "20"
        ],
        [
         "20",
         "1.0",
         "8.0",
         "9.7",
         "59",
         "5",
         "21"
        ],
        [
         "21",
         "11.0",
         "320.0",
         "16.6",
         "73",
         "5",
         "22"
        ],
        [
         "22",
         "4.0",
         "25.0",
         "9.7",
         "61",
         "5",
         "23"
        ],
        [
         "23",
         "32.0",
         "92.0",
         "12.0",
         "61",
         "5",
         "24"
        ],
        [
         "27",
         "23.0",
         "13.0",
         "12.0",
         "67",
         "5",
         "28"
        ],
        [
         "28",
         "45.0",
         "252.0",
         "14.9",
         "81",
         "5",
         "29"
        ],
        [
         "29",
         "115.0",
         "223.0",
         "5.7",
         "79",
         "5",
         "30"
        ],
        [
         "30",
         "37.0",
         "279.0",
         "7.4",
         "76",
         "5",
         "31"
        ],
        [
         "37",
         "29.0",
         "127.0",
         "9.7",
         "82",
         "6",
         "7"
        ],
        [
         "39",
         "71.0",
         "291.0",
         "13.8",
         "90",
         "6",
         "9"
        ],
        [
         "40",
         "39.0",
         "323.0",
         "11.5",
         "87",
         "6",
         "10"
        ],
        [
         "43",
         "23.0",
         "148.0",
         "8.0",
         "82",
         "6",
         "13"
        ],
        [
         "46",
         "21.0",
         "191.0",
         "14.9",
         "77",
         "6",
         "16"
        ],
        [
         "47",
         "37.0",
         "284.0",
         "20.7",
         "72",
         "6",
         "17"
        ],
        [
         "48",
         "20.0",
         "37.0",
         "9.2",
         "65",
         "6",
         "18"
        ],
        [
         "49",
         "12.0",
         "120.0",
         "11.5",
         "73",
         "6",
         "19"
        ],
        [
         "50",
         "13.0",
         "137.0",
         "10.3",
         "76",
         "6",
         "20"
        ],
        [
         "62",
         "49.0",
         "248.0",
         "9.2",
         "85",
         "7",
         "2"
        ],
        [
         "63",
         "32.0",
         "236.0",
         "9.2",
         "81",
         "7",
         "3"
        ],
        [
         "65",
         "64.0",
         "175.0",
         "4.6",
         "83",
         "7",
         "5"
        ],
        [
         "66",
         "40.0",
         "314.0",
         "10.9",
         "83",
         "7",
         "6"
        ],
        [
         "67",
         "77.0",
         "276.0",
         "5.1",
         "88",
         "7",
         "7"
        ],
        [
         "68",
         "97.0",
         "267.0",
         "6.3",
         "92",
         "7",
         "8"
        ],
        [
         "69",
         "97.0",
         "272.0",
         "5.7",
         "92",
         "7",
         "9"
        ],
        [
         "70",
         "85.0",
         "175.0",
         "7.4",
         "89",
         "7",
         "10"
        ],
        [
         "72",
         "10.0",
         "264.0",
         "14.3",
         "73",
         "7",
         "12"
        ],
        [
         "73",
         "27.0",
         "175.0",
         "14.9",
         "81",
         "7",
         "13"
        ],
        [
         "75",
         "7.0",
         "48.0",
         "14.3",
         "80",
         "7",
         "15"
        ],
        [
         "76",
         "48.0",
         "260.0",
         "6.9",
         "81",
         "7",
         "16"
        ],
        [
         "77",
         "35.0",
         "274.0",
         "10.3",
         "82",
         "7",
         "17"
        ],
        [
         "78",
         "61.0",
         "285.0",
         "6.3",
         "84",
         "7",
         "18"
        ],
        [
         "79",
         "79.0",
         "187.0",
         "5.1",
         "87",
         "7",
         "19"
        ],
        [
         "80",
         "63.0",
         "220.0",
         "11.5",
         "85",
         "7",
         "20"
        ],
        [
         "81",
         "16.0",
         "7.0",
         "6.9",
         "74",
         "7",
         "21"
        ]
       ],
       "shape": {
        "columns": 6,
        "rows": 109
       }
      },
      "text/html": [
       "<div>\n",
       "<style scoped>\n",
       "    .dataframe tbody tr th:only-of-type {\n",
       "        vertical-align: middle;\n",
       "    }\n",
       "\n",
       "    .dataframe tbody tr th {\n",
       "        vertical-align: top;\n",
       "    }\n",
       "\n",
       "    .dataframe thead th {\n",
       "        text-align: right;\n",
       "    }\n",
       "</style>\n",
       "<table border=\"1\" class=\"dataframe\">\n",
       "  <thead>\n",
       "    <tr style=\"text-align: right;\">\n",
       "      <th></th>\n",
       "      <th>Ozone</th>\n",
       "      <th>Solar.R</th>\n",
       "      <th>Wind</th>\n",
       "      <th>Temp</th>\n",
       "      <th>Month</th>\n",
       "      <th>Day</th>\n",
       "    </tr>\n",
       "  </thead>\n",
       "  <tbody>\n",
       "    <tr>\n",
       "      <th>0</th>\n",
       "      <td>41.0</td>\n",
       "      <td>190.0</td>\n",
       "      <td>7.4</td>\n",
       "      <td>67</td>\n",
       "      <td>5</td>\n",
       "      <td>1</td>\n",
       "    </tr>\n",
       "    <tr>\n",
       "      <th>1</th>\n",
       "      <td>36.0</td>\n",
       "      <td>118.0</td>\n",
       "      <td>8.0</td>\n",
       "      <td>72</td>\n",
       "      <td>5</td>\n",
       "      <td>2</td>\n",
       "    </tr>\n",
       "    <tr>\n",
       "      <th>2</th>\n",
       "      <td>12.0</td>\n",
       "      <td>149.0</td>\n",
       "      <td>12.6</td>\n",
       "      <td>74</td>\n",
       "      <td>5</td>\n",
       "      <td>3</td>\n",
       "    </tr>\n",
       "    <tr>\n",
       "      <th>3</th>\n",
       "      <td>18.0</td>\n",
       "      <td>313.0</td>\n",
       "      <td>11.5</td>\n",
       "      <td>62</td>\n",
       "      <td>5</td>\n",
       "      <td>4</td>\n",
       "    </tr>\n",
       "    <tr>\n",
       "      <th>6</th>\n",
       "      <td>23.0</td>\n",
       "      <td>299.0</td>\n",
       "      <td>8.6</td>\n",
       "      <td>65</td>\n",
       "      <td>5</td>\n",
       "      <td>7</td>\n",
       "    </tr>\n",
       "    <tr>\n",
       "      <th>...</th>\n",
       "      <td>...</td>\n",
       "      <td>...</td>\n",
       "      <td>...</td>\n",
       "      <td>...</td>\n",
       "      <td>...</td>\n",
       "      <td>...</td>\n",
       "    </tr>\n",
       "    <tr>\n",
       "      <th>147</th>\n",
       "      <td>14.0</td>\n",
       "      <td>20.0</td>\n",
       "      <td>16.6</td>\n",
       "      <td>63</td>\n",
       "      <td>9</td>\n",
       "      <td>25</td>\n",
       "    </tr>\n",
       "    <tr>\n",
       "      <th>148</th>\n",
       "      <td>30.0</td>\n",
       "      <td>193.0</td>\n",
       "      <td>6.9</td>\n",
       "      <td>70</td>\n",
       "      <td>9</td>\n",
       "      <td>26</td>\n",
       "    </tr>\n",
       "    <tr>\n",
       "      <th>150</th>\n",
       "      <td>14.0</td>\n",
       "      <td>191.0</td>\n",
       "      <td>14.3</td>\n",
       "      <td>75</td>\n",
       "      <td>9</td>\n",
       "      <td>28</td>\n",
       "    </tr>\n",
       "    <tr>\n",
       "      <th>151</th>\n",
       "      <td>18.0</td>\n",
       "      <td>131.0</td>\n",
       "      <td>8.0</td>\n",
       "      <td>76</td>\n",
       "      <td>9</td>\n",
       "      <td>29</td>\n",
       "    </tr>\n",
       "    <tr>\n",
       "      <th>152</th>\n",
       "      <td>20.0</td>\n",
       "      <td>223.0</td>\n",
       "      <td>11.5</td>\n",
       "      <td>68</td>\n",
       "      <td>9</td>\n",
       "      <td>30</td>\n",
       "    </tr>\n",
       "  </tbody>\n",
       "</table>\n",
       "<p>109 rows × 6 columns</p>\n",
       "</div>"
      ],
      "text/plain": [
       "     Ozone  Solar.R  Wind  Temp  Month  Day\n",
       "0     41.0    190.0   7.4    67      5    1\n",
       "1     36.0    118.0   8.0    72      5    2\n",
       "2     12.0    149.0  12.6    74      5    3\n",
       "3     18.0    313.0  11.5    62      5    4\n",
       "6     23.0    299.0   8.6    65      5    7\n",
       "..     ...      ...   ...   ...    ...  ...\n",
       "147   14.0     20.0  16.6    63      9   25\n",
       "148   30.0    193.0   6.9    70      9   26\n",
       "150   14.0    191.0  14.3    75      9   28\n",
       "151   18.0    131.0   8.0    76      9   29\n",
       "152   20.0    223.0  11.5    68      9   30\n",
       "\n",
       "[109 rows x 6 columns]"
      ]
     },
     "execution_count": 65,
     "metadata": {},
     "output_type": "execute_result"
    }
   ],
   "source": [
    "# remove outliers in ozone concentration using IQR \n",
    "Q1 = df_clean['Ozone'].quantile(0.25)\n",
    "Q3 = df_clean['Ozone'].quantile(0.75)\n",
    "IQR = Q3 - Q1\n",
    "\n",
    "df_clean = df_clean[(df_clean['Ozone'] >= Q1 - 1.5 * IQR) & (df_clean['Ozone'] <= Q3 + 1.5 * IQR)]\n",
    "\n",
    "df_clean"
   ]
  },
  {
   "cell_type": "code",
   "execution_count": 66,
   "id": "020edb9a",
   "metadata": {},
   "outputs": [
    {
     "data": {
      "image/png": "[encoded data removed]",
      "text/plain": [
       "<Figure size 1200x800 with 1 Axes>"
      ]
     },
     "metadata": {},
     "output_type": "display_data"
    }
   ],
   "source": [
    "# compute monthly averages of ozone concentration, solar radiation, wind speed, and temperature and plot the results on the line graph\n",
    "\n",
    "import matplotlib.pyplot as plt\n",
    "\n",
    "monthly_avg = df_clean.groupby('Month')[['Ozone', 'Solar.R', 'Wind', 'Temp']].mean()\n",
    "\n",
    "\n",
    "plt.figure(figsize=(12, 8))\n",
    "plt.plot(monthly_avg.index, monthly_avg['Ozone'], marker='o', label='Ozone')\n",
    "plt.plot(monthly_avg.index, monthly_avg['Solar.R'], marker='s', label='Solar Radiation')\n",
    "plt.plot(monthly_avg.index, monthly_avg['Wind'], marker='^', label='Wind Speed')\n",
    "plt.plot(monthly_avg.index, monthly_avg['Temp'], marker='d', label='Temperature')\n",
    "\n",
    "plt.title('Monthly Averages of Air Quality Variables')\n",
    "plt.xlabel('Month')\n",
    "plt.ylabel('Average Values')\n",
    "plt.legend()\n",
    "plt.grid(True)\n",
    "plt.xticks(monthly_avg.index)\n",
    "plt.tight_layout()\n",
    "plt.show()"
   ]
  }
 ],
 "metadata": {
  "kernelspec": {
   "display_name": "Python 3",
   "language": "python",
   "name": "python3"
  },
  "language_info": {
   "codemirror_mode": {
    "name": "ipython",
    "version": 3
   },
   "file_extension": ".py",
   "mimetype": "text/x-python",
   "name": "python",
   "nbconvert_exporter": "python",
   "pygments_lexer": "ipython3",
   "version": "3.13.3"
  }
 },
 "nbformat": 4,
 "nbformat_minor": 5
}
