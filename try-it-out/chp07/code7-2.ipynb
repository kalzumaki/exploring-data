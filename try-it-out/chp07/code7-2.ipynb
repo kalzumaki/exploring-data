{
 "cells": [
  {
   "cell_type": "markdown",
   "id": "02fb821c",
   "metadata": {},
   "source": [
    "# Activity 2\n",
    "\n",
    "### The employee (emp) dataset and the department (dept) dataset share a department number (DEPTNO) column. Let's merge and analyze the two datasets"
   ]
  },
  {
   "cell_type": "markdown",
   "id": "e31d8661",
   "metadata": {},
   "source": []
  }
 ],
 "metadata": {
  "language_info": {
   "name": "python"
  }
 },
 "nbformat": 4,
 "nbformat_minor": 5
}
