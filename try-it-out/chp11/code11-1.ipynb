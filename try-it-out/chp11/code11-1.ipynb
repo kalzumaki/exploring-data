{
 "cells": [
  {
   "cell_type": "markdown",
   "id": "29315272",
   "metadata": {},
   "source": [
    "Using the 'prestige' dataset, perform a hypothesis test on the claim that there is an income difference between white-collar (wc, white-collar) and blue-collar workers (bc, blue-collar) at a significance level of 0.05"
   ]
  },
  {
   "cell_type": "code",
   "execution_count": 11,
   "id": "cb806b19",
   "metadata": {},
   "outputs": [
    {
     "data": {
      "application/vnd.microsoft.datawrangler.viewer.v0+json": {
       "columns": [
        {
         "name": "index",
         "rawType": "int64",
         "type": "integer"
        },
        {
         "name": "job",
         "rawType": "object",
         "type": "string"
        },
        {
         "name": "education",
         "rawType": "float64",
         "type": "float"
        },
        {
         "name": "income",
         "rawType": "int64",
         "type": "integer"
        },
        {
         "name": "women",
         "rawType": "float64",
         "type": "float"
        },
        {
         "name": "prestige",
         "rawType": "float64",
         "type": "float"
        },
        {
         "name": "census",
         "rawType": "int64",
         "type": "integer"
        },
        {
         "name": "type",
         "rawType": "object",
         "type": "unknown"
        }
       ],
       "ref": "dd867f91-a0a6-49ad-9d12-58f44ed9d1d4",
       "rows": [
        [
         "0",
         "gov.administrators",
         "13.11",
         "12351",
         "11.16",
         "68.8",
         "1113",
         "prof"
        ],
        [
         "1",
         "general.managers",
         "12.26",
         "25879",
         "4.02",
         "69.1",
         "1130",
         "prof"
        ],
        [
         "2",
         "accountants",
         "12.77",
         "9271",
         "15.7",
         "63.4",
         "1171",
         "prof"
        ],
        [
         "3",
         "purchasing.officers",
         "11.42",
         "8865",
         "9.11",
         "56.8",
         "1175",
         "prof"
        ],
        [
         "4",
         "chemists",
         "14.62",
         "8403",
         "11.68",
         "73.5",
         "2111",
         "prof"
        ],
        [
         "5",
         "physicists",
         "15.64",
         "11030",
         "5.13",
         "77.6",
         "2113",
         "prof"
        ],
        [
         "6",
         "biologists",
         "15.09",
         "8258",
         "25.65",
         "72.6",
         "2133",
         "prof"
        ],
        [
         "7",
         "architects",
         "15.44",
         "14163",
         "2.69",
         "78.1",
         "2141",
         "prof"
        ],
        [
         "8",
         "civil.engineers",
         "14.52",
         "11377",
         "1.03",
         "73.1",
         "2143",
         "prof"
        ],
        [
         "9",
         "mining.engineers",
         "14.64",
         "11023",
         "0.94",
         "68.8",
         "2153",
         "prof"
        ],
        [
         "10",
         "surveyors",
         "12.39",
         "5902",
         "1.91",
         "62.0",
         "2161",
         "prof"
        ],
        [
         "11",
         "draughtsmen",
         "12.3",
         "7059",
         "7.83",
         "60.0",
         "2163",
         "prof"
        ],
        [
         "12",
         "computer.programers",
         "13.83",
         "8425",
         "15.33",
         "53.8",
         "2183",
         "prof"
        ],
        [
         "13",
         "economists",
         "14.44",
         "8049",
         "57.31",
         "62.2",
         "2311",
         "prof"
        ],
        [
         "14",
         "psychologists",
         "14.36",
         "7405",
         "48.28",
         "74.9",
         "2315",
         "prof"
        ],
        [
         "15",
         "social.workers",
         "14.21",
         "6336",
         "54.77",
         "55.1",
         "2331",
         "prof"
        ],
        [
         "16",
         "lawyers",
         "15.77",
         "19263",
         "5.13",
         "82.3",
         "2343",
         "prof"
        ],
        [
         "17",
         "librarians",
         "14.15",
         "6112",
         "77.1",
         "58.1",
         "2351",
         "prof"
        ],
        [
         "18",
         "vocational.counsellors",
         "15.22",
         "9593",
         "34.89",
         "58.3",
         "2391",
         "prof"
        ],
        [
         "19",
         "ministers",
         "14.5",
         "4686",
         "4.14",
         "72.8",
         "2511",
         "prof"
        ],
        [
         "20",
         "university.teachers",
         "15.97",
         "12480",
         "19.59",
         "84.6",
         "2711",
         "prof"
        ],
        [
         "21",
         "primary.school.teachers",
         "13.62",
         "5648",
         "83.78",
         "59.6",
         "2731",
         "prof"
        ],
        [
         "22",
         "secondary.school.teachers",
         "15.08",
         "8034",
         "46.8",
         "66.1",
         "2733",
         "prof"
        ],
        [
         "23",
         "physicians",
         "15.96",
         "25308",
         "10.56",
         "87.2",
         "3111",
         "prof"
        ],
        [
         "24",
         "veterinarians",
         "15.94",
         "14558",
         "4.32",
         "66.7",
         "3115",
         "prof"
        ],
        [
         "25",
         "osteopaths.chiropractors",
         "14.71",
         "17498",
         "6.91",
         "68.4",
         "3117",
         "prof"
        ],
        [
         "26",
         "nurses",
         "12.46",
         "4614",
         "96.12",
         "64.7",
         "3131",
         "prof"
        ],
        [
         "27",
         "nursing.aides",
         "9.45",
         "3485",
         "76.14",
         "34.9",
         "3135",
         "bc"
        ],
        [
         "28",
         "physio.therapsts",
         "13.62",
         "5092",
         "82.66",
         "72.1",
         "3137",
         "prof"
        ],
        [
         "29",
         "pharmacists",
         "15.21",
         "10432",
         "24.71",
         "69.3",
         "3151",
         "prof"
        ],
        [
         "30",
         "medical.technicians",
         "12.79",
         "5180",
         "76.04",
         "67.5",
         "3156",
         "wc"
        ],
        [
         "31",
         "commercial.artists",
         "11.09",
         "6197",
         "21.03",
         "57.2",
         "3314",
         "prof"
        ],
        [
         "32",
         "radio.tv.announcers",
         "12.71",
         "7562",
         "11.15",
         "57.6",
         "3337",
         "wc"
        ],
        [
         "33",
         "athletes",
         "11.44",
         "8206",
         "8.13",
         "54.1",
         "3373",
         null
        ],
        [
         "34",
         "secretaries",
         "11.59",
         "4036",
         "97.51",
         "46.0",
         "4111",
         "wc"
        ],
        [
         "35",
         "typists",
         "11.49",
         "3148",
         "95.97",
         "41.9",
         "4113",
         "wc"
        ],
        [
         "36",
         "bookkeepers",
         "11.32",
         "4348",
         "68.24",
         "49.4",
         "4131",
         "wc"
        ],
        [
         "37",
         "tellers.cashiers",
         "10.64",
         "2448",
         "91.76",
         "42.3",
         "4133",
         "wc"
        ],
        [
         "38",
         "computer.operators",
         "11.36",
         "4330",
         "75.92",
         "47.7",
         "4143",
         "wc"
        ],
        [
         "39",
         "shipping.clerks",
         "9.17",
         "4761",
         "11.37",
         "30.9",
         "4153",
         "wc"
        ],
        [
         "40",
         "file.clerks",
         "12.09",
         "3016",
         "83.19",
         "32.7",
         "4161",
         "wc"
        ],
        [
         "41",
         "receptionsts",
         "11.04",
         "2901",
         "92.86",
         "38.7",
         "4171",
         "wc"
        ],
        [
         "42",
         "mail.carriers",
         "9.22",
         "5511",
         "7.62",
         "36.1",
         "4172",
         "wc"
        ],
        [
         "43",
         "postal.clerks",
         "10.07",
         "3739",
         "52.27",
         "37.2",
         "4173",
         "wc"
        ],
        [
         "44",
         "telephone.operators",
         "10.51",
         "3161",
         "96.14",
         "38.1",
         "4175",
         "wc"
        ],
        [
         "45",
         "collectors",
         "11.2",
         "4741",
         "47.06",
         "29.4",
         "4191",
         "wc"
        ],
        [
         "46",
         "claim.adjustors",
         "11.13",
         "5052",
         "56.1",
         "51.1",
         "4192",
         "wc"
        ],
        [
         "47",
         "travel.clerks",
         "11.43",
         "6259",
         "39.17",
         "35.7",
         "4193",
         "wc"
        ],
        [
         "48",
         "office.clerks",
         "11.0",
         "4075",
         "63.23",
         "35.6",
         "4197",
         "wc"
        ],
        [
         "49",
         "sales.supervisors",
         "9.84",
         "7482",
         "17.04",
         "41.5",
         "5130",
         "wc"
        ]
       ],
       "shape": {
        "columns": 7,
        "rows": 102
       }
      },
      "text/html": [
       "<div>\n",
       "<style scoped>\n",
       "    .dataframe tbody tr th:only-of-type {\n",
       "        vertical-align: middle;\n",
       "    }\n",
       "\n",
       "    .dataframe tbody tr th {\n",
       "        vertical-align: top;\n",
       "    }\n",
       "\n",
       "    .dataframe thead th {\n",
       "        text-align: right;\n",
       "    }\n",
       "</style>\n",
       "<table border=\"1\" class=\"dataframe\">\n",
       "  <thead>\n",
       "    <tr style=\"text-align: right;\">\n",
       "      <th></th>\n",
       "      <th>job</th>\n",
       "      <th>education</th>\n",
       "      <th>income</th>\n",
       "      <th>women</th>\n",
       "      <th>prestige</th>\n",
       "      <th>census</th>\n",
       "      <th>type</th>\n",
       "    </tr>\n",
       "  </thead>\n",
       "  <tbody>\n",
       "    <tr>\n",
       "      <th>0</th>\n",
       "      <td>gov.administrators</td>\n",
       "      <td>13.11</td>\n",
       "      <td>12351</td>\n",
       "      <td>11.16</td>\n",
       "      <td>68.8</td>\n",
       "      <td>1113</td>\n",
       "      <td>prof</td>\n",
       "    </tr>\n",
       "    <tr>\n",
       "      <th>1</th>\n",
       "      <td>general.managers</td>\n",
       "      <td>12.26</td>\n",
       "      <td>25879</td>\n",
       "      <td>4.02</td>\n",
       "      <td>69.1</td>\n",
       "      <td>1130</td>\n",
       "      <td>prof</td>\n",
       "    </tr>\n",
       "    <tr>\n",
       "      <th>2</th>\n",
       "      <td>accountants</td>\n",
       "      <td>12.77</td>\n",
       "      <td>9271</td>\n",
       "      <td>15.70</td>\n",
       "      <td>63.4</td>\n",
       "      <td>1171</td>\n",
       "      <td>prof</td>\n",
       "    </tr>\n",
       "    <tr>\n",
       "      <th>3</th>\n",
       "      <td>purchasing.officers</td>\n",
       "      <td>11.42</td>\n",
       "      <td>8865</td>\n",
       "      <td>9.11</td>\n",
       "      <td>56.8</td>\n",
       "      <td>1175</td>\n",
       "      <td>prof</td>\n",
       "    </tr>\n",
       "    <tr>\n",
       "      <th>4</th>\n",
       "      <td>chemists</td>\n",
       "      <td>14.62</td>\n",
       "      <td>8403</td>\n",
       "      <td>11.68</td>\n",
       "      <td>73.5</td>\n",
       "      <td>2111</td>\n",
       "      <td>prof</td>\n",
       "    </tr>\n",
       "    <tr>\n",
       "      <th>...</th>\n",
       "      <td>...</td>\n",
       "      <td>...</td>\n",
       "      <td>...</td>\n",
       "      <td>...</td>\n",
       "      <td>...</td>\n",
       "      <td>...</td>\n",
       "      <td>...</td>\n",
       "    </tr>\n",
       "    <tr>\n",
       "      <th>97</th>\n",
       "      <td>bus.drivers</td>\n",
       "      <td>7.58</td>\n",
       "      <td>5562</td>\n",
       "      <td>9.47</td>\n",
       "      <td>35.9</td>\n",
       "      <td>9171</td>\n",
       "      <td>bc</td>\n",
       "    </tr>\n",
       "    <tr>\n",
       "      <th>98</th>\n",
       "      <td>taxi.drivers</td>\n",
       "      <td>7.93</td>\n",
       "      <td>4224</td>\n",
       "      <td>3.59</td>\n",
       "      <td>25.1</td>\n",
       "      <td>9173</td>\n",
       "      <td>bc</td>\n",
       "    </tr>\n",
       "    <tr>\n",
       "      <th>99</th>\n",
       "      <td>longshoremen</td>\n",
       "      <td>8.37</td>\n",
       "      <td>4753</td>\n",
       "      <td>0.00</td>\n",
       "      <td>26.1</td>\n",
       "      <td>9313</td>\n",
       "      <td>bc</td>\n",
       "    </tr>\n",
       "    <tr>\n",
       "      <th>100</th>\n",
       "      <td>typesetters</td>\n",
       "      <td>10.00</td>\n",
       "      <td>6462</td>\n",
       "      <td>13.58</td>\n",
       "      <td>42.2</td>\n",
       "      <td>9511</td>\n",
       "      <td>bc</td>\n",
       "    </tr>\n",
       "    <tr>\n",
       "      <th>101</th>\n",
       "      <td>bookbinders</td>\n",
       "      <td>8.55</td>\n",
       "      <td>3617</td>\n",
       "      <td>70.87</td>\n",
       "      <td>35.2</td>\n",
       "      <td>9517</td>\n",
       "      <td>bc</td>\n",
       "    </tr>\n",
       "  </tbody>\n",
       "</table>\n",
       "<p>102 rows × 7 columns</p>\n",
       "</div>"
      ],
      "text/plain": [
       "                     job  education  income  women  prestige  census  type\n",
       "0     gov.administrators      13.11   12351  11.16      68.8    1113  prof\n",
       "1       general.managers      12.26   25879   4.02      69.1    1130  prof\n",
       "2            accountants      12.77    9271  15.70      63.4    1171  prof\n",
       "3    purchasing.officers      11.42    8865   9.11      56.8    1175  prof\n",
       "4               chemists      14.62    8403  11.68      73.5    2111  prof\n",
       "..                   ...        ...     ...    ...       ...     ...   ...\n",
       "97           bus.drivers       7.58    5562   9.47      35.9    9171    bc\n",
       "98          taxi.drivers       7.93    4224   3.59      25.1    9173    bc\n",
       "99          longshoremen       8.37    4753   0.00      26.1    9313    bc\n",
       "100          typesetters      10.00    6462  13.58      42.2    9511    bc\n",
       "101          bookbinders       8.55    3617  70.87      35.2    9517    bc\n",
       "\n",
       "[102 rows x 7 columns]"
      ]
     },
     "execution_count": 11,
     "metadata": {},
     "output_type": "execute_result"
    }
   ],
   "source": [
    "import pandas as pd\n",
    "from scipy import stats\n",
    "import matplotlib.pyplot as plt\n",
    "\n",
    "df = pd.read_csv('../../data/prestige.csv')\n",
    "df"
   ]
  },
  {
   "cell_type": "code",
   "execution_count": 12,
   "id": "7a2d4bf8",
   "metadata": {},
   "outputs": [
    {
     "data": {
      "text/plain": [
       "714"
      ]
     },
     "execution_count": 12,
     "metadata": {},
     "output_type": "execute_result"
    }
   ],
   "source": [
    "df.size"
   ]
  },
  {
   "cell_type": "code",
   "execution_count": 18,
   "id": "4b4e0984",
   "metadata": {},
   "outputs": [
    {
     "data": {
      "application/vnd.microsoft.datawrangler.viewer.v0+json": {
       "columns": [
        {
         "name": "type",
         "rawType": "object",
         "type": "string"
        },
        {
         "name": "count",
         "rawType": "int64",
         "type": "integer"
        },
        {
         "name": "mean",
         "rawType": "float64",
         "type": "float"
        }
       ],
       "ref": "04cdbef5-5177-4a9f-80be-61347b6b5d40",
       "rows": [
        [
         "bc",
         "44",
         "5374.136363636364"
        ],
        [
         "wc",
         "23",
         "5052.304347826087"
        ]
       ],
       "shape": {
        "columns": 2,
        "rows": 2
       }
      },
      "text/html": [
       "<div>\n",
       "<style scoped>\n",
       "    .dataframe tbody tr th:only-of-type {\n",
       "        vertical-align: middle;\n",
       "    }\n",
       "\n",
       "    .dataframe tbody tr th {\n",
       "        vertical-align: top;\n",
       "    }\n",
       "\n",
       "    .dataframe thead th {\n",
       "        text-align: right;\n",
       "    }\n",
       "</style>\n",
       "<table border=\"1\" class=\"dataframe\">\n",
       "  <thead>\n",
       "    <tr style=\"text-align: right;\">\n",
       "      <th></th>\n",
       "      <th>count</th>\n",
       "      <th>mean</th>\n",
       "    </tr>\n",
       "    <tr>\n",
       "      <th>type</th>\n",
       "      <th></th>\n",
       "      <th></th>\n",
       "    </tr>\n",
       "  </thead>\n",
       "  <tbody>\n",
       "    <tr>\n",
       "      <th>bc</th>\n",
       "      <td>44</td>\n",
       "      <td>5374.136364</td>\n",
       "    </tr>\n",
       "    <tr>\n",
       "      <th>wc</th>\n",
       "      <td>23</td>\n",
       "      <td>5052.304348</td>\n",
       "    </tr>\n",
       "  </tbody>\n",
       "</table>\n",
       "</div>"
      ],
      "text/plain": [
       "      count         mean\n",
       "type                    \n",
       "bc       44  5374.136364\n",
       "wc       23  5052.304348"
      ]
     },
     "execution_count": 18,
     "metadata": {},
     "output_type": "execute_result"
    }
   ],
   "source": [
    "# check the sample size and the average income for each group only bc and wc\n",
    "df[df['type'].isin(['bc', 'wc'])].groupby('type')['income'].agg(['count', 'mean'])"
   ]
  },
  {
   "cell_type": "code",
   "execution_count": 23,
   "id": "d80969a9",
   "metadata": {},
   "outputs": [
    {
     "name": "stdout",
     "output_type": "stream",
     "text": [
      "bc: ShapiroResult(statistic=np.float64(0.9662506459293128), pvalue=np.float64(0.22181723139990506))\n",
      "wc: ShapiroResult(statistic=np.float64(0.9260685765517781), pvalue=np.float64(0.08995567654171997))\n"
     ]
    }
   ],
   "source": [
    "# test the normality in each group\n",
    "bc = stats.shapiro(df[df['type'] == 'bc']['income']) \n",
    "wc = stats.shapiro(df[df['type'] == 'wc']['income'])\n",
    "\n",
    "print(\"bc:\",bc)\n",
    "print(\"wc:\",wc)"
   ]
  },
  {
   "cell_type": "code",
   "execution_count": 25,
   "id": "ce1de891",
   "metadata": {},
   "outputs": [
    {
     "data": {
      "text/plain": [
       "LeveneResult(statistic=np.float64(3.409525000868724e+29), pvalue=np.float64(2.932959869029284e-30))"
      ]
     },
     "execution_count": 25,
     "metadata": {},
     "output_type": "execute_result"
    }
   ],
   "source": [
    "stats.levene(bc, wc)"
   ]
  },
  {
   "cell_type": "code",
   "execution_count": 26,
   "id": "2e8c4aae",
   "metadata": {},
   "outputs": [
    {
     "data": {
      "text/plain": [
       "TtestResult(statistic=np.float64(0.6364887967154291), pvalue=np.float64(0.5276144694057663), df=np.float64(45.97230158495311))"
      ]
     },
     "execution_count": 26,
     "metadata": {},
     "output_type": "execute_result"
    }
   ],
   "source": [
    "# test whether there is a difference in the average income of the two groups\n",
    "stats.ttest_ind(df[df['type'] == 'bc']['income'], df[df['type'] == 'wc']['income'], equal_var=False)"
   ]
  }
 ],
 "metadata": {
  "kernelspec": {
   "display_name": "Python 3",
   "language": "python",
   "name": "python3"
  },
  "language_info": {
   "codemirror_mode": {
    "name": "ipython",
    "version": 3
   },
   "file_extension": ".py",
   "mimetype": "text/x-python",
   "name": "python",
   "nbconvert_exporter": "python",
   "pygments_lexer": "ipython3",
   "version": "3.13.6"
  }
 },
 "nbformat": 4,
 "nbformat_minor": 5
}
