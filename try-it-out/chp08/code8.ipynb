{
 "cells": [
  {
   "cell_type": "markdown",
   "id": "0bbc3455",
   "metadata": {},
   "source": [
    "# TRY IT OUT 8\n",
    "## With the titanic dataset provided by seaborn, analyze the survival rate by cabin in the following order:"
   ]
  },
  {
   "cell_type": "code",
   "execution_count": null,
   "id": "47cee752",
   "metadata": {},
   "outputs": [],
   "source": []
  }
 ],
 "metadata": {
  "kernelspec": {
   "display_name": "Python 3",
   "language": "python",
   "name": "python3"
  },
  "language_info": {
   "name": "python",
   "version": "3.13.3"
  }
 },
 "nbformat": 4,
 "nbformat_minor": 5
}
