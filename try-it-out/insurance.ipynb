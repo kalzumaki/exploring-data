{
 "cells": [
  {
   "cell_type": "code",
   "execution_count": 3,
   "id": "476a248e",
   "metadata": {},
   "outputs": [
    {
     "data": {
      "application/vnd.microsoft.datawrangler.viewer.v0+json": {
       "columns": [
        {
         "name": "index",
         "rawType": "object",
         "type": "string"
        },
        {
         "name": "0",
         "rawType": "int64",
         "type": "integer"
        }
       ],
       "ref": "dfdc66cd-edf4-4bf9-b08c-333e5f553d59",
       "rows": [
        [
         "A",
         "781"
        ],
        [
         "B",
         "650"
        ],
        [
         "C",
         "705"
        ],
        [
         "D",
         "406"
        ],
        [
         "E",
         "580"
        ],
        [
         "F",
         "450"
        ],
        [
         "G",
         "550"
        ],
        [
         "H",
         "640"
        ]
       ],
       "shape": {
        "columns": 1,
        "rows": 8
       }
      },
      "text/plain": [
       "A    781\n",
       "B    650\n",
       "C    705\n",
       "D    406\n",
       "E    580\n",
       "F    450\n",
       "G    550\n",
       "H    640\n",
       "dtype: int64"
      ]
     },
     "execution_count": 3,
     "metadata": {},
     "output_type": "execute_result"
    }
   ],
   "source": [
    "import pandas as pd\n",
    "\n",
    "sales = pd.Series([781, 650, 705, 406, 580,450, 550, 640], index = ['A', 'B', 'C', 'D', 'E', 'F', 'G', 'H'])\n",
    "\n",
    "sales\n",
    "\n"
   ]
  },
  {
   "cell_type": "code",
   "execution_count": 10,
   "id": "ea72929c",
   "metadata": {},
   "outputs": [
    {
     "data": {
      "text/plain": [
       "np.int64(450)"
      ]
     },
     "execution_count": 10,
     "metadata": {},
     "output_type": "execute_result"
    }
   ],
   "source": [
    "sales = sales.iloc[5]\n",
    "sales"
   ]
  }
 ],
 "metadata": {
  "kernelspec": {
   "display_name": "Python 3",
   "language": "python",
   "name": "python3"
  },
  "language_info": {
   "codemirror_mode": {
    "name": "ipython",
    "version": 3
   },
   "file_extension": ".py",
   "mimetype": "text/x-python",
   "name": "python",
   "nbconvert_exporter": "python",
   "pygments_lexer": "ipython3",
   "version": "3.13.3"
  }
 },
 "nbformat": 4,
 "nbformat_minor": 5
}
