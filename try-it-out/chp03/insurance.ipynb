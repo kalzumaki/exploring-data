{
 "cells": [
  {
   "cell_type": "code",
   "execution_count": 66,
   "id": "476a248e",
   "metadata": {},
   "outputs": [
    {
     "data": {
      "application/vnd.microsoft.datawrangler.viewer.v0+json": {
       "columns": [
        {
         "name": "index",
         "rawType": "object",
         "type": "string"
        },
        {
         "name": "0",
         "rawType": "int64",
         "type": "integer"
        }
       ],
       "ref": "4fe95afa-fe5c-4257-a486-002fdeecb858",
       "rows": [
        [
         "A",
         "781"
        ],
        [
         "B",
         "650"
        ],
        [
         "C",
         "705"
        ],
        [
         "D",
         "406"
        ],
        [
         "E",
         "580"
        ],
        [
         "F",
         "450"
        ],
        [
         "G",
         "550"
        ],
        [
         "H",
         "640"
        ]
       ],
       "shape": {
        "columns": 1,
        "rows": 8
       }
      },
      "text/plain": [
       "A    781\n",
       "B    650\n",
       "C    705\n",
       "D    406\n",
       "E    580\n",
       "F    450\n",
       "G    550\n",
       "H    640\n",
       "dtype: int64"
      ]
     },
     "execution_count": 66,
     "metadata": {},
     "output_type": "execute_result"
    }
   ],
   "source": [
    "import pandas as pd\n",
    "\n",
    "sales = pd.Series([781, 650, 705, 406, 580,450, 550, 640], index = ['A', 'B', 'C', 'D', 'E', 'F', 'G', 'H'])\n",
    "\n",
    "sales\n",
    "\n"
   ]
  },
  {
   "cell_type": "code",
   "execution_count": 67,
   "id": "ea72929c",
   "metadata": {},
   "outputs": [
    {
     "data": {
      "text/plain": [
       "8"
      ]
     },
     "execution_count": 67,
     "metadata": {},
     "output_type": "execute_result"
    }
   ],
   "source": [
    "len(sales)"
   ]
  },
  {
   "cell_type": "code",
   "execution_count": 68,
   "id": "40e5997f",
   "metadata": {},
   "outputs": [
    {
     "data": {
      "text/plain": [
       "np.int64(650)"
      ]
     },
     "execution_count": 68,
     "metadata": {},
     "output_type": "execute_result"
    }
   ],
   "source": [
    "sales.loc['B']"
   ]
  },
  {
   "cell_type": "code",
   "execution_count": 69,
   "id": "cd95de28",
   "metadata": {},
   "outputs": [
    {
     "data": {
      "text/plain": [
       "np.int64(450)"
      ]
     },
     "execution_count": 69,
     "metadata": {},
     "output_type": "execute_result"
    }
   ],
   "source": [
    "sales.loc['F']"
   ]
  },
  {
   "cell_type": "code",
   "execution_count": 70,
   "id": "8a461b9d",
   "metadata": {},
   "outputs": [
    {
     "data": {
      "application/vnd.microsoft.datawrangler.viewer.v0+json": {
       "columns": [
        {
         "name": "index",
         "rawType": "object",
         "type": "string"
        },
        {
         "name": "0",
         "rawType": "int64",
         "type": "integer"
        }
       ],
       "ref": "9fc43810-c4ee-4cbb-b47b-6e36765d64a9",
       "rows": [
        [
         "C",
         "705"
        ],
        [
         "D",
         "406"
        ],
        [
         "E",
         "580"
        ]
       ],
       "shape": {
        "columns": 1,
        "rows": 3
       }
      },
      "text/plain": [
       "C    705\n",
       "D    406\n",
       "E    580\n",
       "dtype: int64"
      ]
     },
     "execution_count": 70,
     "metadata": {},
     "output_type": "execute_result"
    }
   ],
   "source": [
    "sales.iloc[2:5]"
   ]
  },
  {
   "cell_type": "code",
   "execution_count": 71,
   "id": "423404ec",
   "metadata": {},
   "outputs": [
    {
     "data": {
      "application/vnd.microsoft.datawrangler.viewer.v0+json": {
       "columns": [
        {
         "name": "index",
         "rawType": "object",
         "type": "string"
        },
        {
         "name": "0",
         "rawType": "int64",
         "type": "integer"
        }
       ],
       "ref": "ef658367-05ef-459e-80f3-2f9ff6361fbb",
       "rows": [
        [
         "A",
         "781"
        ],
        [
         "B",
         "650"
        ],
        [
         "D",
         "406"
        ]
       ],
       "shape": {
        "columns": 1,
        "rows": 3
       }
      },
      "text/plain": [
       "A    781\n",
       "B    650\n",
       "D    406\n",
       "dtype: int64"
      ]
     },
     "execution_count": 71,
     "metadata": {},
     "output_type": "execute_result"
    }
   ],
   "source": [
    "sales[['A', 'B', 'D']]"
   ]
  },
  {
   "cell_type": "code",
   "execution_count": 72,
   "id": "d2730b95",
   "metadata": {},
   "outputs": [
    {
     "data": {
      "application/vnd.microsoft.datawrangler.viewer.v0+json": {
       "columns": [
        {
         "name": "index",
         "rawType": "object",
         "type": "string"
        },
        {
         "name": "0",
         "rawType": "int64",
         "type": "integer"
        }
       ],
       "ref": "a284e769-83d1-4ddd-a0a7-ff835eaf3b5b",
       "rows": [
        [
         "A",
         "781"
        ],
        [
         "C",
         "705"
        ]
       ],
       "shape": {
        "columns": 1,
        "rows": 2
       }
      },
      "text/plain": [
       "A    781\n",
       "C    705\n",
       "dtype: int64"
      ]
     },
     "execution_count": 72,
     "metadata": {},
     "output_type": "execute_result"
    }
   ],
   "source": [
    "sales[(sales < 50) | (sales > 700)]"
   ]
  },
  {
   "cell_type": "code",
   "execution_count": 73,
   "id": "dda6acf9",
   "metadata": {},
   "outputs": [
    {
     "data": {
      "application/vnd.microsoft.datawrangler.viewer.v0+json": {
       "columns": [
        {
         "name": "index",
         "rawType": "object",
         "type": "string"
        },
        {
         "name": "0",
         "rawType": "int64",
         "type": "integer"
        }
       ],
       "ref": "1ecd0522-de63-4d38-8541-f432d4fe7beb",
       "rows": [
        [
         "A",
         "781"
        ],
        [
         "C",
         "705"
        ]
       ],
       "shape": {
        "columns": 1,
        "rows": 2
       }
      },
      "text/plain": [
       "A    781\n",
       "C    705\n",
       "dtype: int64"
      ]
     },
     "execution_count": 73,
     "metadata": {},
     "output_type": "execute_result"
    }
   ],
   "source": [
    "sales[sales > sales['B']]"
   ]
  },
  {
   "cell_type": "code",
   "execution_count": 74,
   "id": "84710a6e",
   "metadata": {},
   "outputs": [
    {
     "data": {
      "application/vnd.microsoft.datawrangler.viewer.v0+json": {
       "columns": [
        {
         "name": "index",
         "rawType": "object",
         "type": "string"
        },
        {
         "name": "0",
         "rawType": "int64",
         "type": "integer"
        }
       ],
       "ref": "2bc0815d-fe01-4525-b2c4-3b34a3f38ed8",
       "rows": [
        [
         "D",
         "406"
        ],
        [
         "E",
         "580"
        ],
        [
         "F",
         "450"
        ],
        [
         "G",
         "550"
        ]
       ],
       "shape": {
        "columns": 1,
        "rows": 4
       }
      },
      "text/plain": [
       "D    406\n",
       "E    580\n",
       "F    450\n",
       "G    550\n",
       "dtype: int64"
      ]
     },
     "execution_count": 74,
     "metadata": {},
     "output_type": "execute_result"
    }
   ],
   "source": [
    "sales[sales < 600]"
   ]
  },
  {
   "cell_type": "code",
   "execution_count": 75,
   "id": "caad5c13",
   "metadata": {},
   "outputs": [
    {
     "data": {
      "text/plain": [
       "np.float64(595.25)"
      ]
     },
     "execution_count": 75,
     "metadata": {},
     "output_type": "execute_result"
    }
   ],
   "source": [
    "sales.mean()\n"
   ]
  },
  {
   "cell_type": "code",
   "execution_count": 76,
   "id": "97639fd5",
   "metadata": {},
   "outputs": [
    {
     "data": {
      "text/plain": [
       "np.float64(610.0)"
      ]
     },
     "execution_count": 76,
     "metadata": {},
     "output_type": "execute_result"
    }
   ],
   "source": [
    "sales.median()"
   ]
  },
  {
   "cell_type": "code",
   "execution_count": 77,
   "id": "28f20635",
   "metadata": {},
   "outputs": [
    {
     "data": {
      "text/plain": [
       "np.float64(125.77843330918972)"
      ]
     },
     "execution_count": 77,
     "metadata": {},
     "output_type": "execute_result"
    }
   ],
   "source": [
    "sales.std()"
   ]
  },
  {
   "cell_type": "code",
   "execution_count": 78,
   "id": "66ab816c",
   "metadata": {},
   "outputs": [
    {
     "data": {
      "application/vnd.microsoft.datawrangler.viewer.v0+json": {
       "columns": [
        {
         "name": "index",
         "rawType": "object",
         "type": "string"
        },
        {
         "name": "0",
         "rawType": "int64",
         "type": "integer"
        }
       ],
       "ref": "e13354ac-2a71-4250-a091-d8068cc15cb7",
       "rows": [
        [
         "A",
         "810"
        ],
        [
         "B",
         "820"
        ],
        [
         "C",
         "705"
        ],
        [
         "D",
         "406"
        ],
        [
         "E",
         "580"
        ],
        [
         "F",
         "450"
        ],
        [
         "G",
         "550"
        ],
        [
         "H",
         "640"
        ]
       ],
       "shape": {
        "columns": 1,
        "rows": 8
       }
      },
      "text/plain": [
       "A    810\n",
       "B    820\n",
       "C    705\n",
       "D    406\n",
       "E    580\n",
       "F    450\n",
       "G    550\n",
       "H    640\n",
       "dtype: int64"
      ]
     },
     "execution_count": 78,
     "metadata": {},
     "output_type": "execute_result"
    }
   ],
   "source": [
    "newTeamA= sales.loc['A'] = 810\n",
    "newTeamB= sales.loc['B'] = 820\n",
    "new = newTeamA + newTeamB\n",
    "new = sales\n",
    "new"
   ]
  },
  {
   "cell_type": "code",
   "execution_count": 79,
   "id": "679cbb3f",
   "metadata": {},
   "outputs": [
    {
     "data": {
      "application/vnd.microsoft.datawrangler.viewer.v0+json": {
       "columns": [
        {
         "name": "index",
         "rawType": "object",
         "type": "string"
        },
        {
         "name": "0",
         "rawType": "int64",
         "type": "integer"
        }
       ],
       "ref": "995daa63-8fb3-4ac5-824c-d8afddf1097a",
       "rows": [
        [
         "A",
         "810"
        ],
        [
         "B",
         "820"
        ],
        [
         "C",
         "705"
        ],
        [
         "D",
         "406"
        ],
        [
         "E",
         "580"
        ],
        [
         "F",
         "450"
        ],
        [
         "G",
         "550"
        ],
        [
         "H",
         "640"
        ],
        [
         "J",
         "400"
        ]
       ],
       "shape": {
        "columns": 1,
        "rows": 9
       }
      },
      "text/plain": [
       "A    810\n",
       "B    820\n",
       "C    705\n",
       "D    406\n",
       "E    580\n",
       "F    450\n",
       "G    550\n",
       "H    640\n",
       "J    400\n",
       "dtype: int64"
      ]
     },
     "execution_count": 79,
     "metadata": {},
     "output_type": "execute_result"
    }
   ],
   "source": [
    "sales.loc['J'] = 400\n",
    "sales"
   ]
  },
  {
   "cell_type": "code",
   "execution_count": 82,
   "id": "dae48e36",
   "metadata": {},
   "outputs": [
    {
     "data": {
      "application/vnd.microsoft.datawrangler.viewer.v0+json": {
       "columns": [
        {
         "name": "index",
         "rawType": "object",
         "type": "string"
        },
        {
         "name": "0",
         "rawType": "int64",
         "type": "integer"
        }
       ],
       "ref": "e51bf767-1670-4a2b-af1c-30a36a145dab",
       "rows": [
        [
         "A",
         "810"
        ],
        [
         "B",
         "820"
        ],
        [
         "C",
         "705"
        ],
        [
         "D",
         "406"
        ],
        [
         "E",
         "580"
        ],
        [
         "F",
         "450"
        ],
        [
         "G",
         "550"
        ],
        [
         "H",
         "640"
        ]
       ],
       "shape": {
        "columns": 1,
        "rows": 8
       }
      },
      "text/plain": [
       "A    810\n",
       "B    820\n",
       "C    705\n",
       "D    406\n",
       "E    580\n",
       "F    450\n",
       "G    550\n",
       "H    640\n",
       "dtype: int64"
      ]
     },
     "execution_count": 82,
     "metadata": {},
     "output_type": "execute_result"
    }
   ],
   "source": [
    "sales.drop('J')"
   ]
  },
  {
   "cell_type": "code",
   "execution_count": 86,
   "id": "7e823f3c",
   "metadata": {},
   "outputs": [
    {
     "data": {
      "application/vnd.microsoft.datawrangler.viewer.v0+json": {
       "columns": [
        {
         "name": "index",
         "rawType": "object",
         "type": "string"
        },
        {
         "name": "0",
         "rawType": "int64",
         "type": "integer"
        }
       ],
       "ref": "e599df59-67f4-473b-859d-5d69316513a9",
       "rows": [
        [
         "A",
         "810"
        ],
        [
         "B",
         "820"
        ],
        [
         "C",
         "705"
        ],
        [
         "D",
         "406"
        ],
        [
         "E",
         "580"
        ],
        [
         "F",
         "450"
        ],
        [
         "G",
         "550"
        ],
        [
         "H",
         "640"
        ],
        [
         "J",
         "400"
        ]
       ],
       "shape": {
        "columns": 1,
        "rows": 9
       }
      },
      "text/plain": [
       "A    810\n",
       "B    820\n",
       "C    705\n",
       "D    406\n",
       "E    580\n",
       "F    450\n",
       "G    550\n",
       "H    640\n",
       "J    400\n",
       "dtype: int64"
      ]
     },
     "execution_count": 86,
     "metadata": {},
     "output_type": "execute_result"
    }
   ],
   "source": [
    "sales1 = sales.copy()\n",
    "sales2 = sales + 500\n",
    "\n",
    "sales1"
   ]
  },
  {
   "cell_type": "code",
   "execution_count": 85,
   "id": "c240e0ed",
   "metadata": {},
   "outputs": [
    {
     "data": {
      "application/vnd.microsoft.datawrangler.viewer.v0+json": {
       "columns": [
        {
         "name": "index",
         "rawType": "object",
         "type": "string"
        },
        {
         "name": "0",
         "rawType": "int64",
         "type": "integer"
        }
       ],
       "ref": "54aa2c94-b052-4739-b279-c55b01087fea",
       "rows": [
        [
         "A",
         "1310"
        ],
        [
         "B",
         "1320"
        ],
        [
         "C",
         "1205"
        ],
        [
         "D",
         "906"
        ],
        [
         "E",
         "1080"
        ],
        [
         "F",
         "950"
        ],
        [
         "G",
         "1050"
        ],
        [
         "H",
         "1140"
        ],
        [
         "J",
         "900"
        ]
       ],
       "shape": {
        "columns": 1,
        "rows": 9
       }
      },
      "text/plain": [
       "A    1310\n",
       "B    1320\n",
       "C    1205\n",
       "D     906\n",
       "E    1080\n",
       "F     950\n",
       "G    1050\n",
       "H    1140\n",
       "J     900\n",
       "dtype: int64"
      ]
     },
     "execution_count": 85,
     "metadata": {},
     "output_type": "execute_result"
    }
   ],
   "source": [
    "sales2"
   ]
  }
 ],
 "metadata": {
  "kernelspec": {
   "display_name": "Python 3",
   "language": "python",
   "name": "python3"
  },
  "language_info": {
   "codemirror_mode": {
    "name": "ipython",
    "version": 3
   },
   "file_extension": ".py",
   "mimetype": "text/x-python",
   "name": "python",
   "nbconvert_exporter": "python",
   "pygments_lexer": "ipython3",
   "version": "3.13.5"
  }
 },
 "nbformat": 4,
 "nbformat_minor": 5
}
