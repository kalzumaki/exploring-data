{
 "cells": [
  {
   "cell_type": "markdown",
   "id": "4247e54f",
   "metadata": {},
   "source": [
    "# CHAPTER 6 TRY IT OUT"
   ]
  }
 ],
 "metadata": {
  "kernelspec": {
   "display_name": "Python 3",
   "language": "python",
   "name": "python3"
  },
  "language_info": {
   "name": "python",
   "version": "3.13.3"
  }
 },
 "nbformat": 4,
 "nbformat_minor": 5
}
