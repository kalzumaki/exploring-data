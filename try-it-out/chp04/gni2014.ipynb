{
 "cells": [
  {
   "cell_type": "code",
   "execution_count": 4,
   "id": "ea85b19d",
   "metadata": {},
   "outputs": [
    {
     "data": {
      "application/vnd.microsoft.datawrangler.viewer.v0+json": {
       "columns": [
        {
         "name": "index",
         "rawType": "int64",
         "type": "integer"
        },
        {
         "name": "iso3",
         "rawType": "object",
         "type": "string"
        },
        {
         "name": "country",
         "rawType": "object",
         "type": "string"
        },
        {
         "name": "continent",
         "rawType": "object",
         "type": "string"
        },
        {
         "name": "population",
         "rawType": "int64",
         "type": "integer"
        },
        {
         "name": "GNI",
         "rawType": "int64",
         "type": "integer"
        }
       ],
       "ref": "e556abfa-de11-40df-bb01-a6fb2f0a392c",
       "rows": [
        [
         "0",
         "BMU",
         "Bermuda",
         "North America",
         "67837",
         "106140"
        ],
        [
         "1",
         "NOR",
         "Norway",
         "Europe",
         "4676305",
         "103630"
        ],
        [
         "2",
         "QAT",
         "Qatar",
         "Asia",
         "833285",
         "92200"
        ],
        [
         "3",
         "CHE",
         "Switzerland",
         "Europe",
         "7604467",
         "88120"
        ],
        [
         "4",
         "MAC",
         "Macao SAR, China",
         "Asia",
         "559846",
         "76270"
        ],
        [
         "5",
         "LUX",
         "Luxembourg",
         "Europe",
         "491775",
         "75990"
        ],
        [
         "6",
         "AUS",
         "Australia",
         "Oceania",
         "21262641",
         "64540"
        ],
        [
         "7",
         "SWE",
         "Sweden",
         "Europe",
         "9059651",
         "61610"
        ],
        [
         "8",
         "DNK",
         "Denmark",
         "Europe",
         "5500510",
         "61310"
        ],
        [
         "9",
         "USA",
         "United States",
         "North America",
         "313973000",
         "55200"
        ],
        [
         "10",
         "SGP",
         "Singapore",
         "Asia",
         "4657542",
         "55150"
        ],
        [
         "11",
         "NLD",
         "Netherlands",
         "Europe",
         "16715999",
         "51890"
        ],
        [
         "12",
         "CAN",
         "Canada",
         "North America",
         "33487208",
         "51630"
        ],
        [
         "13",
         "AUT",
         "Austria",
         "Europe",
         "8210281",
         "49670"
        ],
        [
         "14",
         "KWT",
         "Kuwait",
         "Asia",
         "2691158",
         "49300"
        ],
        [
         "15",
         "FIN",
         "Finland",
         "Europe",
         "5250275",
         "48420"
        ],
        [
         "16",
         "DEU",
         "Germany",
         "Europe",
         "82329758",
         "47640"
        ],
        [
         "17",
         "ISL",
         "Iceland",
         "Europe",
         "306694",
         "46350"
        ],
        [
         "18",
         "BEL",
         "Belgium",
         "Europe",
         "10414336",
         "47260"
        ],
        [
         "19",
         "IRL",
         "Ireland",
         "Europe",
         "4203200",
         "46550"
        ],
        [
         "20",
         "ARE",
         "United Arab Emirates",
         "Asia",
         "4798491",
         "44600"
        ],
        [
         "21",
         "GBR",
         "United Kingdom",
         "Europe",
         "62262000",
         "43430"
        ],
        [
         "22",
         "FRA",
         "France",
         "Europe",
         "64057792",
         "42960"
        ],
        [
         "23",
         "JPN",
         "Japan",
         "Asia",
         "127078679",
         "42000"
        ],
        [
         "24",
         "ADO",
         "Andorra",
         "Europe",
         "79218",
         "43270"
        ],
        [
         "25",
         "NZL",
         "New Zealand",
         "Oceania",
         "4213418",
         "41070"
        ],
        [
         "26",
         "HKG",
         "Hong Kong SAR, China",
         "Asia",
         "7061200",
         "40320"
        ],
        [
         "27",
         "BRN",
         "Brunei Darussalam",
         "Asia",
         "388190",
         "37320"
        ],
        [
         "28",
         "ISR",
         "Israel",
         "Asia",
         "7233701",
         "35320"
        ],
        [
         "29",
         "ITA",
         "Italy",
         "Europe",
         "58126212",
         "34270"
        ],
        [
         "30",
         "ESP",
         "Spain",
         "Europe",
         "40525002",
         "29440"
        ],
        [
         "31",
         "KOR",
         "Korea, Rep.",
         "Asia",
         "48508972",
         "27090"
        ],
        [
         "32",
         "CYP",
         "Cyprus",
         "Asia",
         "531640",
         "26370"
        ],
        [
         "33",
         "SAU",
         "Saudi Arabia",
         "Asia",
         "28686633",
         "25140"
        ],
        [
         "34",
         "SVN",
         "Slovenia",
         "Europe",
         "2005692",
         "23580"
        ],
        [
         "35",
         "GRC",
         "Greece",
         "Europe",
         "10737428",
         "22680"
        ],
        [
         "36",
         "PRT",
         "Portugal",
         "Europe",
         "10707924",
         "21360"
        ],
        [
         "37",
         "BHR",
         "Bahrain",
         "Asia",
         "727785",
         "21060"
        ],
        [
         "38",
         "BHS",
         "Bahamas, The",
         "North America",
         "309156",
         "20980"
        ],
        [
         "39",
         "MLT",
         "Malta",
         "Europe",
         "405165",
         "21000"
        ],
        [
         "40",
         "TTO",
         "Trinidad and Tobago",
         "North America",
         "1310000",
         "20070"
        ],
        [
         "41",
         "PRI",
         "Puerto Rico",
         "North America",
         "3971020",
         "19310"
        ],
        [
         "42",
         "EST",
         "Estonia",
         "Europe",
         "1299371",
         "19030"
        ],
        [
         "43",
         "CZE",
         "Czech Republic",
         "Europe",
         "10211904",
         "18370"
        ],
        [
         "44",
         "OMN",
         "Oman",
         "Asia",
         "3418085",
         "16870"
        ],
        [
         "45",
         "SVK",
         "Slovak Republic",
         "Europe",
         "5463046",
         "17750"
        ],
        [
         "46",
         "URY",
         "Uruguay",
         "South America",
         "3494382",
         "16350"
        ],
        [
         "47",
         "LTU",
         "Lithuania",
         "Europe",
         "3555179",
         "15430"
        ],
        [
         "48",
         "LVA",
         "Latvia",
         "Europe",
         "2231503",
         "15280"
        ],
        [
         "49",
         "BRB",
         "Barbados",
         "North America",
         "284589",
         "15310"
        ]
       ],
       "shape": {
        "columns": 5,
        "rows": 188
       }
      },
      "text/html": [
       "<div>\n",
       "<style scoped>\n",
       "    .dataframe tbody tr th:only-of-type {\n",
       "        vertical-align: middle;\n",
       "    }\n",
       "\n",
       "    .dataframe tbody tr th {\n",
       "        vertical-align: top;\n",
       "    }\n",
       "\n",
       "    .dataframe thead th {\n",
       "        text-align: right;\n",
       "    }\n",
       "</style>\n",
       "<table border=\"1\" class=\"dataframe\">\n",
       "  <thead>\n",
       "    <tr style=\"text-align: right;\">\n",
       "      <th></th>\n",
       "      <th>iso3</th>\n",
       "      <th>country</th>\n",
       "      <th>continent</th>\n",
       "      <th>population</th>\n",
       "      <th>GNI</th>\n",
       "    </tr>\n",
       "  </thead>\n",
       "  <tbody>\n",
       "    <tr>\n",
       "      <th>0</th>\n",
       "      <td>BMU</td>\n",
       "      <td>Bermuda</td>\n",
       "      <td>North America</td>\n",
       "      <td>67837</td>\n",
       "      <td>106140</td>\n",
       "    </tr>\n",
       "    <tr>\n",
       "      <th>1</th>\n",
       "      <td>NOR</td>\n",
       "      <td>Norway</td>\n",
       "      <td>Europe</td>\n",
       "      <td>4676305</td>\n",
       "      <td>103630</td>\n",
       "    </tr>\n",
       "    <tr>\n",
       "      <th>2</th>\n",
       "      <td>QAT</td>\n",
       "      <td>Qatar</td>\n",
       "      <td>Asia</td>\n",
       "      <td>833285</td>\n",
       "      <td>92200</td>\n",
       "    </tr>\n",
       "    <tr>\n",
       "      <th>3</th>\n",
       "      <td>CHE</td>\n",
       "      <td>Switzerland</td>\n",
       "      <td>Europe</td>\n",
       "      <td>7604467</td>\n",
       "      <td>88120</td>\n",
       "    </tr>\n",
       "    <tr>\n",
       "      <th>4</th>\n",
       "      <td>MAC</td>\n",
       "      <td>Macao SAR, China</td>\n",
       "      <td>Asia</td>\n",
       "      <td>559846</td>\n",
       "      <td>76270</td>\n",
       "    </tr>\n",
       "    <tr>\n",
       "      <th>...</th>\n",
       "      <td>...</td>\n",
       "      <td>...</td>\n",
       "      <td>...</td>\n",
       "      <td>...</td>\n",
       "      <td>...</td>\n",
       "    </tr>\n",
       "    <tr>\n",
       "      <th>183</th>\n",
       "      <td>COD</td>\n",
       "      <td>Congo, Dem. Rep.</td>\n",
       "      <td>Africa</td>\n",
       "      <td>68692542</td>\n",
       "      <td>380</td>\n",
       "    </tr>\n",
       "    <tr>\n",
       "      <th>184</th>\n",
       "      <td>LBR</td>\n",
       "      <td>Liberia</td>\n",
       "      <td>Africa</td>\n",
       "      <td>3441790</td>\n",
       "      <td>370</td>\n",
       "    </tr>\n",
       "    <tr>\n",
       "      <th>185</th>\n",
       "      <td>CAF</td>\n",
       "      <td>Central African Republic</td>\n",
       "      <td>Africa</td>\n",
       "      <td>4511488</td>\n",
       "      <td>320</td>\n",
       "    </tr>\n",
       "    <tr>\n",
       "      <th>186</th>\n",
       "      <td>BDI</td>\n",
       "      <td>Burundi</td>\n",
       "      <td>Africa</td>\n",
       "      <td>8988091</td>\n",
       "      <td>270</td>\n",
       "    </tr>\n",
       "    <tr>\n",
       "      <th>187</th>\n",
       "      <td>MWI</td>\n",
       "      <td>Malawi</td>\n",
       "      <td>Africa</td>\n",
       "      <td>14268711</td>\n",
       "      <td>250</td>\n",
       "    </tr>\n",
       "  </tbody>\n",
       "</table>\n",
       "<p>188 rows × 5 columns</p>\n",
       "</div>"
      ],
      "text/plain": [
       "    iso3                   country      continent  population     GNI\n",
       "0    BMU                   Bermuda  North America       67837  106140\n",
       "1    NOR                    Norway         Europe     4676305  103630\n",
       "2    QAT                     Qatar           Asia      833285   92200\n",
       "3    CHE               Switzerland         Europe     7604467   88120\n",
       "4    MAC          Macao SAR, China           Asia      559846   76270\n",
       "..   ...                       ...            ...         ...     ...\n",
       "183  COD          Congo, Dem. Rep.         Africa    68692542     380\n",
       "184  LBR                   Liberia         Africa     3441790     370\n",
       "185  CAF  Central African Republic         Africa     4511488     320\n",
       "186  BDI                   Burundi         Africa     8988091     270\n",
       "187  MWI                    Malawi         Africa    14268711     250\n",
       "\n",
       "[188 rows x 5 columns]"
      ]
     },
     "execution_count": 4,
     "metadata": {},
     "output_type": "execute_result"
    }
   ],
   "source": [
    "import pandas as pd\n",
    "\n",
    "df =pd.read_csv('../data/GNI2014.csv')\n",
    "df"
   ]
  },
  {
   "cell_type": "code",
   "execution_count": 5,
   "id": "9e8e499d",
   "metadata": {},
   "outputs": [
    {
     "data": {
      "application/vnd.microsoft.datawrangler.viewer.v0+json": {
       "columns": [
        {
         "name": "index",
         "rawType": "int64",
         "type": "integer"
        },
        {
         "name": "iso3",
         "rawType": "object",
         "type": "string"
        },
        {
         "name": "country",
         "rawType": "object",
         "type": "string"
        },
        {
         "name": "continent",
         "rawType": "object",
         "type": "string"
        },
        {
         "name": "population",
         "rawType": "int64",
         "type": "integer"
        },
        {
         "name": "GNI",
         "rawType": "int64",
         "type": "integer"
        }
       ],
       "ref": "6f6a2559-bc11-4536-9937-6a565acec934",
       "rows": [
        [
         "0",
         "BMU",
         "Bermuda",
         "North America",
         "67837",
         "106140"
        ],
        [
         "1",
         "NOR",
         "Norway",
         "Europe",
         "4676305",
         "103630"
        ],
        [
         "2",
         "QAT",
         "Qatar",
         "Asia",
         "833285",
         "92200"
        ],
        [
         "3",
         "CHE",
         "Switzerland",
         "Europe",
         "7604467",
         "88120"
        ],
        [
         "4",
         "MAC",
         "Macao SAR, China",
         "Asia",
         "559846",
         "76270"
        ]
       ],
       "shape": {
        "columns": 5,
        "rows": 5
       }
      },
      "text/html": [
       "<div>\n",
       "<style scoped>\n",
       "    .dataframe tbody tr th:only-of-type {\n",
       "        vertical-align: middle;\n",
       "    }\n",
       "\n",
       "    .dataframe tbody tr th {\n",
       "        vertical-align: top;\n",
       "    }\n",
       "\n",
       "    .dataframe thead th {\n",
       "        text-align: right;\n",
       "    }\n",
       "</style>\n",
       "<table border=\"1\" class=\"dataframe\">\n",
       "  <thead>\n",
       "    <tr style=\"text-align: right;\">\n",
       "      <th></th>\n",
       "      <th>iso3</th>\n",
       "      <th>country</th>\n",
       "      <th>continent</th>\n",
       "      <th>population</th>\n",
       "      <th>GNI</th>\n",
       "    </tr>\n",
       "  </thead>\n",
       "  <tbody>\n",
       "    <tr>\n",
       "      <th>0</th>\n",
       "      <td>BMU</td>\n",
       "      <td>Bermuda</td>\n",
       "      <td>North America</td>\n",
       "      <td>67837</td>\n",
       "      <td>106140</td>\n",
       "    </tr>\n",
       "    <tr>\n",
       "      <th>1</th>\n",
       "      <td>NOR</td>\n",
       "      <td>Norway</td>\n",
       "      <td>Europe</td>\n",
       "      <td>4676305</td>\n",
       "      <td>103630</td>\n",
       "    </tr>\n",
       "    <tr>\n",
       "      <th>2</th>\n",
       "      <td>QAT</td>\n",
       "      <td>Qatar</td>\n",
       "      <td>Asia</td>\n",
       "      <td>833285</td>\n",
       "      <td>92200</td>\n",
       "    </tr>\n",
       "    <tr>\n",
       "      <th>3</th>\n",
       "      <td>CHE</td>\n",
       "      <td>Switzerland</td>\n",
       "      <td>Europe</td>\n",
       "      <td>7604467</td>\n",
       "      <td>88120</td>\n",
       "    </tr>\n",
       "    <tr>\n",
       "      <th>4</th>\n",
       "      <td>MAC</td>\n",
       "      <td>Macao SAR, China</td>\n",
       "      <td>Asia</td>\n",
       "      <td>559846</td>\n",
       "      <td>76270</td>\n",
       "    </tr>\n",
       "  </tbody>\n",
       "</table>\n",
       "</div>"
      ],
      "text/plain": [
       "  iso3           country      continent  population     GNI\n",
       "0  BMU           Bermuda  North America       67837  106140\n",
       "1  NOR            Norway         Europe     4676305  103630\n",
       "2  QAT             Qatar           Asia      833285   92200\n",
       "3  CHE       Switzerland         Europe     7604467   88120\n",
       "4  MAC  Macao SAR, China           Asia      559846   76270"
      ]
     },
     "execution_count": 5,
     "metadata": {},
     "output_type": "execute_result"
    }
   ],
   "source": [
    "df.iloc[:5]"
   ]
  },
  {
   "cell_type": "code",
   "execution_count": 6,
   "id": "59cb75d2",
   "metadata": {},
   "outputs": [
    {
     "data": {
      "text/plain": [
       "(188, 5)"
      ]
     },
     "execution_count": 6,
     "metadata": {},
     "output_type": "execute_result"
    }
   ],
   "source": [
    "# show the number of columns and rows respectively\n",
    "df.shape"
   ]
  },
  {
   "cell_type": "code",
   "execution_count": 7,
   "id": "f60b6d4f",
   "metadata": {},
   "outputs": [
    {
     "data": {
      "text/plain": [
       "array(['North America', 'Europe', 'Asia', 'Oceania', 'South America',\n",
       "       'Seven seas (open ocean)', 'Africa'], dtype=object)"
      ]
     },
     "execution_count": 7,
     "metadata": {},
     "output_type": "execute_result"
    }
   ],
   "source": [
    "# show the unique content\n",
    "df['continent'].unique()"
   ]
  },
  {
   "cell_type": "code",
   "execution_count": 8,
   "id": "47ef1f3f",
   "metadata": {},
   "outputs": [
    {
     "data": {
      "text/plain": [
       "(1    4676305\n",
       " Name: population, dtype: int64,\n",
       " 1    103630\n",
       " Name: GNI, dtype: int64)"
      ]
     },
     "execution_count": 8,
     "metadata": {},
     "output_type": "execute_result"
    }
   ],
   "source": [
    "#show the population of Norway\n",
    "df[df['country'] == 'Norway']['population'], df[df['country'] == 'Norway']['GNI']\n"
   ]
  },
  {
   "cell_type": "code",
   "execution_count": 9,
   "id": "6419773a",
   "metadata": {},
   "outputs": [
    {
     "data": {
      "application/vnd.microsoft.datawrangler.viewer.v0+json": {
       "columns": [
        {
         "name": "index",
         "rawType": "int64",
         "type": "integer"
        },
        {
         "name": "country",
         "rawType": "object",
         "type": "string"
        }
       ],
       "ref": "c596caae-7429-4803-9ce3-ee0e562b5306",
       "rows": [
        [
         "1",
         "Norway"
        ],
        [
         "3",
         "Switzerland"
        ],
        [
         "5",
         "Luxembourg"
        ],
        [
         "7",
         "Sweden"
        ],
        [
         "8",
         "Denmark"
        ],
        [
         "11",
         "Netherlands"
        ],
        [
         "13",
         "Austria"
        ],
        [
         "15",
         "Finland"
        ],
        [
         "16",
         "Germany"
        ],
        [
         "17",
         "Iceland"
        ],
        [
         "18",
         "Belgium"
        ],
        [
         "19",
         "Ireland"
        ],
        [
         "21",
         "United Kingdom"
        ],
        [
         "22",
         "France"
        ],
        [
         "24",
         "Andorra"
        ],
        [
         "29",
         "Italy"
        ],
        [
         "30",
         "Spain"
        ],
        [
         "34",
         "Slovenia"
        ],
        [
         "35",
         "Greece"
        ],
        [
         "36",
         "Portugal"
        ],
        [
         "39",
         "Malta"
        ],
        [
         "42",
         "Estonia"
        ],
        [
         "43",
         "Czech Republic"
        ],
        [
         "45",
         "Slovak Republic"
        ],
        [
         "47",
         "Lithuania"
        ],
        [
         "48",
         "Latvia"
        ],
        [
         "53",
         "Poland"
        ],
        [
         "55",
         "Hungary"
        ],
        [
         "57",
         "Russian Federation"
        ],
        [
         "58",
         "Croatia"
        ],
        [
         "73",
         "Romania"
        ],
        [
         "78",
         "Bulgaria"
        ],
        [
         "81",
         "Belarus"
        ],
        [
         "82",
         "Montenegro"
        ],
        [
         "94",
         "Serbia"
        ],
        [
         "101",
         "Macedonia, FYR"
        ],
        [
         "103",
         "Bosnia and Herzegovina"
        ],
        [
         "105",
         "Albania"
        ],
        [
         "113",
         "Kosovo"
        ],
        [
         "118",
         "Ukraine"
        ],
        [
         "134",
         "Moldova"
        ]
       ],
       "shape": {
        "columns": 1,
        "rows": 41
       }
      },
      "text/plain": [
       "1                      Norway\n",
       "3                 Switzerland\n",
       "5                  Luxembourg\n",
       "7                      Sweden\n",
       "8                     Denmark\n",
       "11                Netherlands\n",
       "13                    Austria\n",
       "15                    Finland\n",
       "16                    Germany\n",
       "17                    Iceland\n",
       "18                    Belgium\n",
       "19                    Ireland\n",
       "21             United Kingdom\n",
       "22                     France\n",
       "24                    Andorra\n",
       "29                      Italy\n",
       "30                      Spain\n",
       "34                   Slovenia\n",
       "35                     Greece\n",
       "36                   Portugal\n",
       "39                      Malta\n",
       "42                    Estonia\n",
       "43             Czech Republic\n",
       "45            Slovak Republic\n",
       "47                  Lithuania\n",
       "48                     Latvia\n",
       "53                     Poland\n",
       "55                    Hungary\n",
       "57         Russian Federation\n",
       "58                    Croatia\n",
       "73                    Romania\n",
       "78                   Bulgaria\n",
       "81                    Belarus\n",
       "82                 Montenegro\n",
       "94                     Serbia\n",
       "101            Macedonia, FYR\n",
       "103    Bosnia and Herzegovina\n",
       "105                   Albania\n",
       "113                    Kosovo\n",
       "118                   Ukraine\n",
       "134                   Moldova\n",
       "Name: country, dtype: object"
      ]
     },
     "execution_count": 9,
     "metadata": {},
     "output_type": "execute_result"
    }
   ],
   "source": [
    "# show a list of countries belonging to the European continent\n",
    "df[df['continent'] == 'Europe']['country']"
   ]
  },
  {
   "cell_type": "code",
   "execution_count": 10,
   "id": "8985eead",
   "metadata": {},
   "outputs": [
    {
     "data": {
      "application/vnd.microsoft.datawrangler.viewer.v0+json": {
       "columns": [
        {
         "name": "index",
         "rawType": "int64",
         "type": "integer"
        },
        {
         "name": "country",
         "rawType": "object",
         "type": "string"
        }
       ],
       "ref": "3097d0ce-0da9-4acf-8881-921a981524f8",
       "rows": [
        [
         "9",
         "United States"
        ],
        [
         "16",
         "Germany"
        ],
        [
         "21",
         "United Kingdom"
        ],
        [
         "22",
         "France"
        ],
        [
         "23",
         "Japan"
        ],
        [
         "29",
         "Italy"
        ],
        [
         "57",
         "Russian Federation"
        ],
        [
         "61",
         "Brazil"
        ],
        [
         "65",
         "Turkey"
        ],
        [
         "70",
         "Mexico"
        ],
        [
         "80",
         "China"
        ],
        [
         "91",
         "Iran, Islamic Rep."
        ],
        [
         "95",
         "Thailand"
        ],
        [
         "117",
         "Indonesia"
        ],
        [
         "120",
         "Philippines"
        ],
        [
         "128",
         "Egypt, Arab Rep."
        ],
        [
         "129",
         "Nigeria"
        ],
        [
         "139",
         "Vietnam"
        ],
        [
         "147",
         "India"
        ],
        [
         "149",
         "Pakistan"
        ],
        [
         "157",
         "Bangladesh"
        ],
        [
         "177",
         "Ethiopia"
        ],
        [
         "183",
         "Congo, Dem. Rep."
        ]
       ],
       "shape": {
        "columns": 1,
        "rows": 23
       }
      },
      "text/plain": [
       "9           United States\n",
       "16                Germany\n",
       "21         United Kingdom\n",
       "22                 France\n",
       "23                  Japan\n",
       "29                  Italy\n",
       "57     Russian Federation\n",
       "61                 Brazil\n",
       "65                 Turkey\n",
       "70                 Mexico\n",
       "80                  China\n",
       "91     Iran, Islamic Rep.\n",
       "95               Thailand\n",
       "117             Indonesia\n",
       "120           Philippines\n",
       "128      Egypt, Arab Rep.\n",
       "129               Nigeria\n",
       "139               Vietnam\n",
       "147                 India\n",
       "149              Pakistan\n",
       "157            Bangladesh\n",
       "177              Ethiopia\n",
       "183      Congo, Dem. Rep.\n",
       "Name: country, dtype: object"
      ]
     },
     "execution_count": 10,
     "metadata": {},
     "output_type": "execute_result"
    }
   ],
   "source": [
    "# list of countries with a population of more than 50 mil people\n",
    "df[df['population'] > 50000000]['country']"
   ]
  },
  {
   "cell_type": "code",
   "execution_count": 11,
   "id": "7104655b",
   "metadata": {},
   "outputs": [
    {
     "data": {
      "text/plain": [
       "np.float64(17772437.780487806)"
      ]
     },
     "execution_count": 11,
     "metadata": {},
     "output_type": "execute_result"
    }
   ],
   "source": [
    "#show the average population of European Countries\n",
    "df[df['continent'] == 'Europe']['population'].mean()"
   ]
  },
  {
   "cell_type": "code",
   "execution_count": 13,
   "id": "a0cccb71",
   "metadata": {},
   "outputs": [
    {
     "data": {
      "text/plain": [
       "np.float64(74337.5)"
      ]
     },
     "execution_count": 13,
     "metadata": {},
     "output_type": "execute_result"
    }
   ],
   "source": [
    "#show the average GDP of countries with a GDP greater than 'Canada'\n",
    "canada_gdp = df[df['country'] == 'Canada']['GNI'].values[0]\n",
    "avg_gdp_above_canada = df[df['GNI'] > canada_gdp]['GNI'].mean()\n",
    "avg_gdp_above_canada"
   ]
  },
  {
   "cell_type": "code",
   "execution_count": 14,
   "id": "2dd39743",
   "metadata": {},
   "outputs": [
    {
     "data": {
      "application/vnd.microsoft.datawrangler.viewer.v0+json": {
       "columns": [
        {
         "name": "index",
         "rawType": "int64",
         "type": "integer"
        },
        {
         "name": "country",
         "rawType": "object",
         "type": "string"
        },
        {
         "name": "population",
         "rawType": "int64",
         "type": "integer"
        },
        {
         "name": "Increased_Population",
         "rawType": "float64",
         "type": "float"
        }
       ],
       "ref": "23ff0cd8-df68-4381-9732-8410dfa3391a",
       "rows": [
        [
         "0",
         "Bermuda",
         "67837",
         "74620.70000000001"
        ],
        [
         "9",
         "United States",
         "313973000",
         "345370300.0"
        ],
        [
         "12",
         "Canada",
         "33487208",
         "36835928.800000004"
        ],
        [
         "38",
         "Bahamas, The",
         "309156",
         "340071.60000000003"
        ],
        [
         "40",
         "Trinidad and Tobago",
         "1310000",
         "1441000.0"
        ],
        [
         "41",
         "Puerto Rico",
         "3971020",
         "4368122.0"
        ],
        [
         "49",
         "Barbados",
         "284589",
         "313047.9"
        ],
        [
         "50",
         "St. Kitts and Nevis",
         "40131",
         "44144.100000000006"
        ],
        [
         "56",
         "Antigua and Barbuda",
         "85632",
         "94195.20000000001"
        ],
        [
         "62",
         "Panama",
         "3360474",
         "3696521.4000000004"
        ],
        [
         "67",
         "Costa Rica",
         "4253877",
         "4679264.7"
        ],
        [
         "70",
         "Mexico",
         "111211789",
         "122332967.9"
        ],
        [
         "76",
         "Grenada",
         "90739",
         "99812.90000000001"
        ],
        [
         "83",
         "St. Lucia",
         "160267",
         "176293.7"
        ],
        [
         "85",
         "Dominica",
         "72660",
         "79926.0"
        ],
        [
         "87",
         "St. Vincent and the Grenadines",
         "104574",
         "115031.40000000001"
        ],
        [
         "93",
         "Dominican Republic",
         "9650054",
         "10615059.4"
        ],
        [
         "100",
         "Jamaica",
         "2825928",
         "3108520.8000000003"
        ],
        [
         "104",
         "Belize",
         "307899",
         "338688.9"
        ],
        [
         "115",
         "El Salvador",
         "7185218",
         "7903739.800000001"
        ],
        [
         "123",
         "Guatemala",
         "13276517",
         "14604168.700000001"
        ],
        [
         "136",
         "Honduras",
         "7792854",
         "8572139.4"
        ],
        [
         "140",
         "Nicaragua",
         "5891199",
         "6480318.9"
        ],
        [
         "166",
         "Haiti",
         "9035536",
         "9939089.600000001"
        ]
       ],
       "shape": {
        "columns": 3,
        "rows": 24
       }
      },
      "text/html": [
       "<div>\n",
       "<style scoped>\n",
       "    .dataframe tbody tr th:only-of-type {\n",
       "        vertical-align: middle;\n",
       "    }\n",
       "\n",
       "    .dataframe tbody tr th {\n",
       "        vertical-align: top;\n",
       "    }\n",
       "\n",
       "    .dataframe thead th {\n",
       "        text-align: right;\n",
       "    }\n",
       "</style>\n",
       "<table border=\"1\" class=\"dataframe\">\n",
       "  <thead>\n",
       "    <tr style=\"text-align: right;\">\n",
       "      <th></th>\n",
       "      <th>country</th>\n",
       "      <th>population</th>\n",
       "      <th>Increased_Population</th>\n",
       "    </tr>\n",
       "  </thead>\n",
       "  <tbody>\n",
       "    <tr>\n",
       "      <th>0</th>\n",
       "      <td>Bermuda</td>\n",
       "      <td>67837</td>\n",
       "      <td>74620.7</td>\n",
       "    </tr>\n",
       "    <tr>\n",
       "      <th>9</th>\n",
       "      <td>United States</td>\n",
       "      <td>313973000</td>\n",
       "      <td>345370300.0</td>\n",
       "    </tr>\n",
       "    <tr>\n",
       "      <th>12</th>\n",
       "      <td>Canada</td>\n",
       "      <td>33487208</td>\n",
       "      <td>36835928.8</td>\n",
       "    </tr>\n",
       "    <tr>\n",
       "      <th>38</th>\n",
       "      <td>Bahamas, The</td>\n",
       "      <td>309156</td>\n",
       "      <td>340071.6</td>\n",
       "    </tr>\n",
       "    <tr>\n",
       "      <th>40</th>\n",
       "      <td>Trinidad and Tobago</td>\n",
       "      <td>1310000</td>\n",
       "      <td>1441000.0</td>\n",
       "    </tr>\n",
       "    <tr>\n",
       "      <th>41</th>\n",
       "      <td>Puerto Rico</td>\n",
       "      <td>3971020</td>\n",
       "      <td>4368122.0</td>\n",
       "    </tr>\n",
       "    <tr>\n",
       "      <th>49</th>\n",
       "      <td>Barbados</td>\n",
       "      <td>284589</td>\n",
       "      <td>313047.9</td>\n",
       "    </tr>\n",
       "    <tr>\n",
       "      <th>50</th>\n",
       "      <td>St. Kitts and Nevis</td>\n",
       "      <td>40131</td>\n",
       "      <td>44144.1</td>\n",
       "    </tr>\n",
       "    <tr>\n",
       "      <th>56</th>\n",
       "      <td>Antigua and Barbuda</td>\n",
       "      <td>85632</td>\n",
       "      <td>94195.2</td>\n",
       "    </tr>\n",
       "    <tr>\n",
       "      <th>62</th>\n",
       "      <td>Panama</td>\n",
       "      <td>3360474</td>\n",
       "      <td>3696521.4</td>\n",
       "    </tr>\n",
       "    <tr>\n",
       "      <th>67</th>\n",
       "      <td>Costa Rica</td>\n",
       "      <td>4253877</td>\n",
       "      <td>4679264.7</td>\n",
       "    </tr>\n",
       "    <tr>\n",
       "      <th>70</th>\n",
       "      <td>Mexico</td>\n",
       "      <td>111211789</td>\n",
       "      <td>122332967.9</td>\n",
       "    </tr>\n",
       "    <tr>\n",
       "      <th>76</th>\n",
       "      <td>Grenada</td>\n",
       "      <td>90739</td>\n",
       "      <td>99812.9</td>\n",
       "    </tr>\n",
       "    <tr>\n",
       "      <th>83</th>\n",
       "      <td>St. Lucia</td>\n",
       "      <td>160267</td>\n",
       "      <td>176293.7</td>\n",
       "    </tr>\n",
       "    <tr>\n",
       "      <th>85</th>\n",
       "      <td>Dominica</td>\n",
       "      <td>72660</td>\n",
       "      <td>79926.0</td>\n",
       "    </tr>\n",
       "    <tr>\n",
       "      <th>87</th>\n",
       "      <td>St. Vincent and the Grenadines</td>\n",
       "      <td>104574</td>\n",
       "      <td>115031.4</td>\n",
       "    </tr>\n",
       "    <tr>\n",
       "      <th>93</th>\n",
       "      <td>Dominican Republic</td>\n",
       "      <td>9650054</td>\n",
       "      <td>10615059.4</td>\n",
       "    </tr>\n",
       "    <tr>\n",
       "      <th>100</th>\n",
       "      <td>Jamaica</td>\n",
       "      <td>2825928</td>\n",
       "      <td>3108520.8</td>\n",
       "    </tr>\n",
       "    <tr>\n",
       "      <th>104</th>\n",
       "      <td>Belize</td>\n",
       "      <td>307899</td>\n",
       "      <td>338688.9</td>\n",
       "    </tr>\n",
       "    <tr>\n",
       "      <th>115</th>\n",
       "      <td>El Salvador</td>\n",
       "      <td>7185218</td>\n",
       "      <td>7903739.8</td>\n",
       "    </tr>\n",
       "    <tr>\n",
       "      <th>123</th>\n",
       "      <td>Guatemala</td>\n",
       "      <td>13276517</td>\n",
       "      <td>14604168.7</td>\n",
       "    </tr>\n",
       "    <tr>\n",
       "      <th>136</th>\n",
       "      <td>Honduras</td>\n",
       "      <td>7792854</td>\n",
       "      <td>8572139.4</td>\n",
       "    </tr>\n",
       "    <tr>\n",
       "      <th>140</th>\n",
       "      <td>Nicaragua</td>\n",
       "      <td>5891199</td>\n",
       "      <td>6480318.9</td>\n",
       "    </tr>\n",
       "    <tr>\n",
       "      <th>166</th>\n",
       "      <td>Haiti</td>\n",
       "      <td>9035536</td>\n",
       "      <td>9939089.6</td>\n",
       "    </tr>\n",
       "  </tbody>\n",
       "</table>\n",
       "</div>"
      ],
      "text/plain": [
       "                            country  population  Increased_Population\n",
       "0                           Bermuda       67837               74620.7\n",
       "9                     United States   313973000           345370300.0\n",
       "12                           Canada    33487208            36835928.8\n",
       "38                     Bahamas, The      309156              340071.6\n",
       "40              Trinidad and Tobago     1310000             1441000.0\n",
       "41                      Puerto Rico     3971020             4368122.0\n",
       "49                         Barbados      284589              313047.9\n",
       "50              St. Kitts and Nevis       40131               44144.1\n",
       "56              Antigua and Barbuda       85632               94195.2\n",
       "62                           Panama     3360474             3696521.4\n",
       "67                       Costa Rica     4253877             4679264.7\n",
       "70                           Mexico   111211789           122332967.9\n",
       "76                          Grenada       90739               99812.9\n",
       "83                        St. Lucia      160267              176293.7\n",
       "85                         Dominica       72660               79926.0\n",
       "87   St. Vincent and the Grenadines      104574              115031.4\n",
       "93               Dominican Republic     9650054            10615059.4\n",
       "100                         Jamaica     2825928             3108520.8\n",
       "104                          Belize      307899              338688.9\n",
       "115                     El Salvador     7185218             7903739.8\n",
       "123                       Guatemala    13276517            14604168.7\n",
       "136                        Honduras     7792854             8572139.4\n",
       "140                       Nicaragua     5891199             6480318.9\n",
       "166                           Haiti     9035536             9939089.6"
      ]
     },
     "execution_count": 14,
     "metadata": {},
     "output_type": "execute_result"
    }
   ],
   "source": [
    "# 9. how the population of the countries in North America when the population increases by 10%\n",
    "north_america_pop = df[df['continent'] == 'North America'][['country', 'population']]\n",
    "north_america_pop['Increased_Population'] = north_america_pop['population'] * 1.10\n",
    "north_america_pop"
   ]
  },
  {
   "cell_type": "code",
   "execution_count": 15,
   "id": "8084603e",
   "metadata": {},
   "outputs": [
    {
     "data": {
      "application/vnd.microsoft.datawrangler.viewer.v0+json": {
       "columns": [
        {
         "name": "index",
         "rawType": "int64",
         "type": "integer"
        },
        {
         "name": "country",
         "rawType": "object",
         "type": "string"
        },
        {
         "name": "PerCapitaProduction",
         "rawType": "float64",
         "type": "float"
        }
       ],
       "ref": "2050a0db-1e30-41b5-8a4e-d012d65ea675",
       "rows": [
        [
         "1",
         "Norway",
         "0.022160658896286704"
        ],
        [
         "3",
         "Switzerland",
         "0.011587925886192944"
        ],
        [
         "5",
         "Luxembourg",
         "0.15452188500838798"
        ],
        [
         "7",
         "Sweden",
         "0.006800482711751259"
        ],
        [
         "8",
         "Denmark",
         "0.011146239166913614"
        ],
        [
         "11",
         "Netherlands",
         "0.0031042117195627973"
        ],
        [
         "13",
         "Austria",
         "0.00604973203718606"
        ],
        [
         "15",
         "Finland",
         "0.009222374066120346"
        ],
        [
         "16",
         "Germany",
         "0.0005786486096558185"
        ],
        [
         "17",
         "Iceland",
         "0.15112783425825088"
        ],
        [
         "18",
         "Belgium",
         "0.004537975344755537"
        ],
        [
         "19",
         "Ireland",
         "0.011074895317853065"
        ],
        [
         "21",
         "United Kingdom",
         "0.0006975362179178311"
        ],
        [
         "22",
         "France",
         "0.0006706444080994861"
        ],
        [
         "24",
         "Andorra",
         "0.5462142442374208"
        ],
        [
         "29",
         "Italy",
         "0.0005895791041742063"
        ],
        [
         "30",
         "Spain",
         "0.0007264651091195504"
        ],
        [
         "34",
         "Slovenia",
         "0.011756540884642308"
        ],
        [
         "35",
         "Greece",
         "0.0021122376792654628"
        ],
        [
         "36",
         "Portugal",
         "0.001994784423199119"
        ],
        [
         "39",
         "Malta",
         "0.05183073562622635"
        ],
        [
         "42",
         "Estonia",
         "0.014645547730401864"
        ],
        [
         "43",
         "Czech Republic",
         "0.0017988809922224102"
        ],
        [
         "45",
         "Slovak Republic",
         "0.00324910315600491"
        ],
        [
         "47",
         "Lithuania",
         "0.004340147148708968"
        ],
        [
         "48",
         "Latvia",
         "0.006847402849111115"
        ],
        [
         "53",
         "Poland",
         "0.0003557422450204466"
        ],
        [
         "55",
         "Hungary",
         "0.0013467135142600202"
        ],
        [
         "57",
         "Russian Federation",
         "9.440075894211368e-05"
        ],
        [
         "58",
         "Croatia",
         "0.002891249159967381"
        ],
        [
         "73",
         "Romania",
         "0.0004285311541023688"
        ],
        [
         "78",
         "Bulgaria",
         "0.0010576448359241699"
        ],
        [
         "81",
         "Belarus",
         "0.0007607374095108552"
        ],
        [
         "82",
         "Montenegro",
         "0.010889940194590735"
        ],
        [
         "94",
         "Serbia",
         "0.0007886885261674521"
        ],
        [
         "101",
         "Macedonia, FYR",
         "0.002491873588946339"
        ],
        [
         "103",
         "Bosnia and Herzegovina",
         "0.001031773866381816"
        ],
        [
         "105",
         "Albania",
         "0.001222711215119415"
        ],
        [
         "113",
         "Kosovo",
         "0.002146080874439209"
        ],
        [
         "118",
         "Ukraine",
         "7.789867024125284e-05"
        ],
        [
         "134",
         "Moldova",
         "0.0005924900040455958"
        ]
       ],
       "shape": {
        "columns": 2,
        "rows": 41
       }
      },
      "text/html": [
       "<div>\n",
       "<style scoped>\n",
       "    .dataframe tbody tr th:only-of-type {\n",
       "        vertical-align: middle;\n",
       "    }\n",
       "\n",
       "    .dataframe tbody tr th {\n",
       "        vertical-align: top;\n",
       "    }\n",
       "\n",
       "    .dataframe thead th {\n",
       "        text-align: right;\n",
       "    }\n",
       "</style>\n",
       "<table border=\"1\" class=\"dataframe\">\n",
       "  <thead>\n",
       "    <tr style=\"text-align: right;\">\n",
       "      <th></th>\n",
       "      <th>country</th>\n",
       "      <th>PerCapitaProduction</th>\n",
       "    </tr>\n",
       "  </thead>\n",
       "  <tbody>\n",
       "    <tr>\n",
       "      <th>1</th>\n",
       "      <td>Norway</td>\n",
       "      <td>0.022161</td>\n",
       "    </tr>\n",
       "    <tr>\n",
       "      <th>3</th>\n",
       "      <td>Switzerland</td>\n",
       "      <td>0.011588</td>\n",
       "    </tr>\n",
       "    <tr>\n",
       "      <th>5</th>\n",
       "      <td>Luxembourg</td>\n",
       "      <td>0.154522</td>\n",
       "    </tr>\n",
       "    <tr>\n",
       "      <th>7</th>\n",
       "      <td>Sweden</td>\n",
       "      <td>0.006800</td>\n",
       "    </tr>\n",
       "    <tr>\n",
       "      <th>8</th>\n",
       "      <td>Denmark</td>\n",
       "      <td>0.011146</td>\n",
       "    </tr>\n",
       "    <tr>\n",
       "      <th>11</th>\n",
       "      <td>Netherlands</td>\n",
       "      <td>0.003104</td>\n",
       "    </tr>\n",
       "    <tr>\n",
       "      <th>13</th>\n",
       "      <td>Austria</td>\n",
       "      <td>0.006050</td>\n",
       "    </tr>\n",
       "    <tr>\n",
       "      <th>15</th>\n",
       "      <td>Finland</td>\n",
       "      <td>0.009222</td>\n",
       "    </tr>\n",
       "    <tr>\n",
       "      <th>16</th>\n",
       "      <td>Germany</td>\n",
       "      <td>0.000579</td>\n",
       "    </tr>\n",
       "    <tr>\n",
       "      <th>17</th>\n",
       "      <td>Iceland</td>\n",
       "      <td>0.151128</td>\n",
       "    </tr>\n",
       "    <tr>\n",
       "      <th>18</th>\n",
       "      <td>Belgium</td>\n",
       "      <td>0.004538</td>\n",
       "    </tr>\n",
       "    <tr>\n",
       "      <th>19</th>\n",
       "      <td>Ireland</td>\n",
       "      <td>0.011075</td>\n",
       "    </tr>\n",
       "    <tr>\n",
       "      <th>21</th>\n",
       "      <td>United Kingdom</td>\n",
       "      <td>0.000698</td>\n",
       "    </tr>\n",
       "    <tr>\n",
       "      <th>22</th>\n",
       "      <td>France</td>\n",
       "      <td>0.000671</td>\n",
       "    </tr>\n",
       "    <tr>\n",
       "      <th>24</th>\n",
       "      <td>Andorra</td>\n",
       "      <td>0.546214</td>\n",
       "    </tr>\n",
       "    <tr>\n",
       "      <th>29</th>\n",
       "      <td>Italy</td>\n",
       "      <td>0.000590</td>\n",
       "    </tr>\n",
       "    <tr>\n",
       "      <th>30</th>\n",
       "      <td>Spain</td>\n",
       "      <td>0.000726</td>\n",
       "    </tr>\n",
       "    <tr>\n",
       "      <th>34</th>\n",
       "      <td>Slovenia</td>\n",
       "      <td>0.011757</td>\n",
       "    </tr>\n",
       "    <tr>\n",
       "      <th>35</th>\n",
       "      <td>Greece</td>\n",
       "      <td>0.002112</td>\n",
       "    </tr>\n",
       "    <tr>\n",
       "      <th>36</th>\n",
       "      <td>Portugal</td>\n",
       "      <td>0.001995</td>\n",
       "    </tr>\n",
       "    <tr>\n",
       "      <th>39</th>\n",
       "      <td>Malta</td>\n",
       "      <td>0.051831</td>\n",
       "    </tr>\n",
       "    <tr>\n",
       "      <th>42</th>\n",
       "      <td>Estonia</td>\n",
       "      <td>0.014646</td>\n",
       "    </tr>\n",
       "    <tr>\n",
       "      <th>43</th>\n",
       "      <td>Czech Republic</td>\n",
       "      <td>0.001799</td>\n",
       "    </tr>\n",
       "    <tr>\n",
       "      <th>45</th>\n",
       "      <td>Slovak Republic</td>\n",
       "      <td>0.003249</td>\n",
       "    </tr>\n",
       "    <tr>\n",
       "      <th>47</th>\n",
       "      <td>Lithuania</td>\n",
       "      <td>0.004340</td>\n",
       "    </tr>\n",
       "    <tr>\n",
       "      <th>48</th>\n",
       "      <td>Latvia</td>\n",
       "      <td>0.006847</td>\n",
       "    </tr>\n",
       "    <tr>\n",
       "      <th>53</th>\n",
       "      <td>Poland</td>\n",
       "      <td>0.000356</td>\n",
       "    </tr>\n",
       "    <tr>\n",
       "      <th>55</th>\n",
       "      <td>Hungary</td>\n",
       "      <td>0.001347</td>\n",
       "    </tr>\n",
       "    <tr>\n",
       "      <th>57</th>\n",
       "      <td>Russian Federation</td>\n",
       "      <td>0.000094</td>\n",
       "    </tr>\n",
       "    <tr>\n",
       "      <th>58</th>\n",
       "      <td>Croatia</td>\n",
       "      <td>0.002891</td>\n",
       "    </tr>\n",
       "    <tr>\n",
       "      <th>73</th>\n",
       "      <td>Romania</td>\n",
       "      <td>0.000429</td>\n",
       "    </tr>\n",
       "    <tr>\n",
       "      <th>78</th>\n",
       "      <td>Bulgaria</td>\n",
       "      <td>0.001058</td>\n",
       "    </tr>\n",
       "    <tr>\n",
       "      <th>81</th>\n",
       "      <td>Belarus</td>\n",
       "      <td>0.000761</td>\n",
       "    </tr>\n",
       "    <tr>\n",
       "      <th>82</th>\n",
       "      <td>Montenegro</td>\n",
       "      <td>0.010890</td>\n",
       "    </tr>\n",
       "    <tr>\n",
       "      <th>94</th>\n",
       "      <td>Serbia</td>\n",
       "      <td>0.000789</td>\n",
       "    </tr>\n",
       "    <tr>\n",
       "      <th>101</th>\n",
       "      <td>Macedonia, FYR</td>\n",
       "      <td>0.002492</td>\n",
       "    </tr>\n",
       "    <tr>\n",
       "      <th>103</th>\n",
       "      <td>Bosnia and Herzegovina</td>\n",
       "      <td>0.001032</td>\n",
       "    </tr>\n",
       "    <tr>\n",
       "      <th>105</th>\n",
       "      <td>Albania</td>\n",
       "      <td>0.001223</td>\n",
       "    </tr>\n",
       "    <tr>\n",
       "      <th>113</th>\n",
       "      <td>Kosovo</td>\n",
       "      <td>0.002146</td>\n",
       "    </tr>\n",
       "    <tr>\n",
       "      <th>118</th>\n",
       "      <td>Ukraine</td>\n",
       "      <td>0.000078</td>\n",
       "    </tr>\n",
       "    <tr>\n",
       "      <th>134</th>\n",
       "      <td>Moldova</td>\n",
       "      <td>0.000592</td>\n",
       "    </tr>\n",
       "  </tbody>\n",
       "</table>\n",
       "</div>"
      ],
      "text/plain": [
       "                    country  PerCapitaProduction\n",
       "1                    Norway             0.022161\n",
       "3               Switzerland             0.011588\n",
       "5                Luxembourg             0.154522\n",
       "7                    Sweden             0.006800\n",
       "8                   Denmark             0.011146\n",
       "11              Netherlands             0.003104\n",
       "13                  Austria             0.006050\n",
       "15                  Finland             0.009222\n",
       "16                  Germany             0.000579\n",
       "17                  Iceland             0.151128\n",
       "18                  Belgium             0.004538\n",
       "19                  Ireland             0.011075\n",
       "21           United Kingdom             0.000698\n",
       "22                   France             0.000671\n",
       "24                  Andorra             0.546214\n",
       "29                    Italy             0.000590\n",
       "30                    Spain             0.000726\n",
       "34                 Slovenia             0.011757\n",
       "35                   Greece             0.002112\n",
       "36                 Portugal             0.001995\n",
       "39                    Malta             0.051831\n",
       "42                  Estonia             0.014646\n",
       "43           Czech Republic             0.001799\n",
       "45          Slovak Republic             0.003249\n",
       "47                Lithuania             0.004340\n",
       "48                   Latvia             0.006847\n",
       "53                   Poland             0.000356\n",
       "55                  Hungary             0.001347\n",
       "57       Russian Federation             0.000094\n",
       "58                  Croatia             0.002891\n",
       "73                  Romania             0.000429\n",
       "78                 Bulgaria             0.001058\n",
       "81                  Belarus             0.000761\n",
       "82               Montenegro             0.010890\n",
       "94                   Serbia             0.000789\n",
       "101          Macedonia, FYR             0.002492\n",
       "103  Bosnia and Herzegovina             0.001032\n",
       "105                 Albania             0.001223\n",
       "113                  Kosovo             0.002146\n",
       "118                 Ukraine             0.000078\n",
       "134                 Moldova             0.000592"
      ]
     },
     "execution_count": 15,
     "metadata": {},
     "output_type": "execute_result"
    }
   ],
   "source": [
    "# 10. Show the per capita production (total production / population) for European countries\n",
    "european_per_capita = df[df['continent'] == 'Europe'].copy()\n",
    "european_per_capita['PerCapitaProduction'] = european_per_capita['GNI'] / european_per_capita['population']\n",
    "european_per_capita[['country', 'PerCapitaProduction']]"
   ]
  },
  {
   "cell_type": "code",
   "execution_count": 16,
   "id": "2bb73c18",
   "metadata": {},
   "outputs": [
    {
     "data": {
      "application/vnd.microsoft.datawrangler.viewer.v0+json": {
       "columns": [
        {
         "name": "index",
         "rawType": "int64",
         "type": "integer"
        },
        {
         "name": "iso3",
         "rawType": "object",
         "type": "string"
        },
        {
         "name": "country",
         "rawType": "object",
         "type": "string"
        },
        {
         "name": "continent",
         "rawType": "object",
         "type": "string"
        },
        {
         "name": "population",
         "rawType": "int64",
         "type": "integer"
        },
        {
         "name": "GNI",
         "rawType": "int64",
         "type": "integer"
        },
        {
         "name": "PNP",
         "rawType": "object",
         "type": "unknown"
        }
       ],
       "ref": "1c029b06-ca82-4488-857a-3c819e67f4aa",
       "rows": [
        [
         "0",
         "BMU",
         "Bermuda",
         "North America",
         "67837",
         "106140",
         null
        ],
        [
         "1",
         "NOR",
         "Norway",
         "Europe",
         "4676305",
         "103630",
         "0.022160658896286704"
        ],
        [
         "2",
         "QAT",
         "Qatar",
         "Asia",
         "833285",
         "92200",
         null
        ],
        [
         "3",
         "CHE",
         "Switzerland",
         "Europe",
         "7604467",
         "88120",
         "0.011587925886192944"
        ],
        [
         "4",
         "MAC",
         "Macao SAR, China",
         "Asia",
         "559846",
         "76270",
         null
        ]
       ],
       "shape": {
        "columns": 6,
        "rows": 5
       }
      },
      "text/html": [
       "<div>\n",
       "<style scoped>\n",
       "    .dataframe tbody tr th:only-of-type {\n",
       "        vertical-align: middle;\n",
       "    }\n",
       "\n",
       "    .dataframe tbody tr th {\n",
       "        vertical-align: top;\n",
       "    }\n",
       "\n",
       "    .dataframe thead th {\n",
       "        text-align: right;\n",
       "    }\n",
       "</style>\n",
       "<table border=\"1\" class=\"dataframe\">\n",
       "  <thead>\n",
       "    <tr style=\"text-align: right;\">\n",
       "      <th></th>\n",
       "      <th>iso3</th>\n",
       "      <th>country</th>\n",
       "      <th>continent</th>\n",
       "      <th>population</th>\n",
       "      <th>GNI</th>\n",
       "      <th>PNP</th>\n",
       "    </tr>\n",
       "  </thead>\n",
       "  <tbody>\n",
       "    <tr>\n",
       "      <th>0</th>\n",
       "      <td>BMU</td>\n",
       "      <td>Bermuda</td>\n",
       "      <td>North America</td>\n",
       "      <td>67837</td>\n",
       "      <td>106140</td>\n",
       "      <td>None</td>\n",
       "    </tr>\n",
       "    <tr>\n",
       "      <th>1</th>\n",
       "      <td>NOR</td>\n",
       "      <td>Norway</td>\n",
       "      <td>Europe</td>\n",
       "      <td>4676305</td>\n",
       "      <td>103630</td>\n",
       "      <td>0.022161</td>\n",
       "    </tr>\n",
       "    <tr>\n",
       "      <th>2</th>\n",
       "      <td>QAT</td>\n",
       "      <td>Qatar</td>\n",
       "      <td>Asia</td>\n",
       "      <td>833285</td>\n",
       "      <td>92200</td>\n",
       "      <td>None</td>\n",
       "    </tr>\n",
       "    <tr>\n",
       "      <th>3</th>\n",
       "      <td>CHE</td>\n",
       "      <td>Switzerland</td>\n",
       "      <td>Europe</td>\n",
       "      <td>7604467</td>\n",
       "      <td>88120</td>\n",
       "      <td>0.011588</td>\n",
       "    </tr>\n",
       "    <tr>\n",
       "      <th>4</th>\n",
       "      <td>MAC</td>\n",
       "      <td>Macao SAR, China</td>\n",
       "      <td>Asia</td>\n",
       "      <td>559846</td>\n",
       "      <td>76270</td>\n",
       "      <td>None</td>\n",
       "    </tr>\n",
       "  </tbody>\n",
       "</table>\n",
       "</div>"
      ],
      "text/plain": [
       "  iso3           country      continent  population     GNI       PNP\n",
       "0  BMU           Bermuda  North America       67837  106140      None\n",
       "1  NOR            Norway         Europe     4676305  103630  0.022161\n",
       "2  QAT             Qatar           Asia      833285   92200      None\n",
       "3  CHE       Switzerland         Europe     7604467   88120  0.011588\n",
       "4  MAC  Macao SAR, China           Asia      559846   76270      None"
      ]
     },
     "execution_count": 16,
     "metadata": {},
     "output_type": "execute_result"
    }
   ],
   "source": [
    "# 11. Add the per capita production for each European country to df as 'PNP'\n",
    "df['PNP'] = None\n",
    "df.loc[df['continent'] == 'Europe', 'PNP'] = df.loc[df['continent'] == 'Europe', 'GNI'] / df.loc[df['continent'] == 'Europe', 'population']\n",
    "df.head()"
   ]
  }
 ],
 "metadata": {
  "kernelspec": {
   "display_name": "Python 3",
   "language": "python",
   "name": "python3"
  },
  "language_info": {
   "codemirror_mode": {
    "name": "ipython",
    "version": 3
   },
   "file_extension": ".py",
   "mimetype": "text/x-python",
   "name": "python",
   "nbconvert_exporter": "python",
   "pygments_lexer": "ipython3",
   "version": "3.13.3"
  }
 },
 "nbformat": 4,
 "nbformat_minor": 5
}
