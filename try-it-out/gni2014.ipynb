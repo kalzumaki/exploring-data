{
 "cells": [
  {
   "cell_type": "code",
   "execution_count": 2,
   "id": "ea85b19d",
   "metadata": {},
   "outputs": [
    {
     "data": {
      "application/vnd.microsoft.datawrangler.viewer.v0+json": {
       "columns": [
        {
         "name": "index",
         "rawType": "int64",
         "type": "integer"
        },
        {
         "name": "iso3",
         "rawType": "object",
         "type": "string"
        },
        {
         "name": "country",
         "rawType": "object",
         "type": "string"
        },
        {
         "name": "continent",
         "rawType": "object",
         "type": "string"
        },
        {
         "name": "population",
         "rawType": "int64",
         "type": "integer"
        },
        {
         "name": "GNI",
         "rawType": "int64",
         "type": "integer"
        }
       ],
       "ref": "093e53a3-03d1-4172-85b2-163052827a23",
       "rows": [
        [
         "0",
         "BMU",
         "Bermuda",
         "North America",
         "67837",
         "106140"
        ],
        [
         "1",
         "NOR",
         "Norway",
         "Europe",
         "4676305",
         "103630"
        ],
        [
         "2",
         "QAT",
         "Qatar",
         "Asia",
         "833285",
         "92200"
        ],
        [
         "3",
         "CHE",
         "Switzerland",
         "Europe",
         "7604467",
         "88120"
        ],
        [
         "4",
         "MAC",
         "Macao SAR, China",
         "Asia",
         "559846",
         "76270"
        ],
        [
         "5",
         "LUX",
         "Luxembourg",
         "Europe",
         "491775",
         "75990"
        ],
        [
         "6",
         "AUS",
         "Australia",
         "Oceania",
         "21262641",
         "64540"
        ],
        [
         "7",
         "SWE",
         "Sweden",
         "Europe",
         "9059651",
         "61610"
        ],
        [
         "8",
         "DNK",
         "Denmark",
         "Europe",
         "5500510",
         "61310"
        ],
        [
         "9",
         "USA",
         "United States",
         "North America",
         "313973000",
         "55200"
        ],
        [
         "10",
         "SGP",
         "Singapore",
         "Asia",
         "4657542",
         "55150"
        ],
        [
         "11",
         "NLD",
         "Netherlands",
         "Europe",
         "16715999",
         "51890"
        ],
        [
         "12",
         "CAN",
         "Canada",
         "North America",
         "33487208",
         "51630"
        ],
        [
         "13",
         "AUT",
         "Austria",
         "Europe",
         "8210281",
         "49670"
        ],
        [
         "14",
         "KWT",
         "Kuwait",
         "Asia",
         "2691158",
         "49300"
        ],
        [
         "15",
         "FIN",
         "Finland",
         "Europe",
         "5250275",
         "48420"
        ],
        [
         "16",
         "DEU",
         "Germany",
         "Europe",
         "82329758",
         "47640"
        ],
        [
         "17",
         "ISL",
         "Iceland",
         "Europe",
         "306694",
         "46350"
        ],
        [
         "18",
         "BEL",
         "Belgium",
         "Europe",
         "10414336",
         "47260"
        ],
        [
         "19",
         "IRL",
         "Ireland",
         "Europe",
         "4203200",
         "46550"
        ],
        [
         "20",
         "ARE",
         "United Arab Emirates",
         "Asia",
         "4798491",
         "44600"
        ],
        [
         "21",
         "GBR",
         "United Kingdom",
         "Europe",
         "62262000",
         "43430"
        ],
        [
         "22",
         "FRA",
         "France",
         "Europe",
         "64057792",
         "42960"
        ],
        [
         "23",
         "JPN",
         "Japan",
         "Asia",
         "127078679",
         "42000"
        ],
        [
         "24",
         "ADO",
         "Andorra",
         "Europe",
         "79218",
         "43270"
        ],
        [
         "25",
         "NZL",
         "New Zealand",
         "Oceania",
         "4213418",
         "41070"
        ],
        [
         "26",
         "HKG",
         "Hong Kong SAR, China",
         "Asia",
         "7061200",
         "40320"
        ],
        [
         "27",
         "BRN",
         "Brunei Darussalam",
         "Asia",
         "388190",
         "37320"
        ],
        [
         "28",
         "ISR",
         "Israel",
         "Asia",
         "7233701",
         "35320"
        ],
        [
         "29",
         "ITA",
         "Italy",
         "Europe",
         "58126212",
         "34270"
        ],
        [
         "30",
         "ESP",
         "Spain",
         "Europe",
         "40525002",
         "29440"
        ],
        [
         "31",
         "KOR",
         "Korea, Rep.",
         "Asia",
         "48508972",
         "27090"
        ],
        [
         "32",
         "CYP",
         "Cyprus",
         "Asia",
         "531640",
         "26370"
        ],
        [
         "33",
         "SAU",
         "Saudi Arabia",
         "Asia",
         "28686633",
         "25140"
        ],
        [
         "34",
         "SVN",
         "Slovenia",
         "Europe",
         "2005692",
         "23580"
        ],
        [
         "35",
         "GRC",
         "Greece",
         "Europe",
         "10737428",
         "22680"
        ],
        [
         "36",
         "PRT",
         "Portugal",
         "Europe",
         "10707924",
         "21360"
        ],
        [
         "37",
         "BHR",
         "Bahrain",
         "Asia",
         "727785",
         "21060"
        ],
        [
         "38",
         "BHS",
         "Bahamas, The",
         "North America",
         "309156",
         "20980"
        ],
        [
         "39",
         "MLT",
         "Malta",
         "Europe",
         "405165",
         "21000"
        ],
        [
         "40",
         "TTO",
         "Trinidad and Tobago",
         "North America",
         "1310000",
         "20070"
        ],
        [
         "41",
         "PRI",
         "Puerto Rico",
         "North America",
         "3971020",
         "19310"
        ],
        [
         "42",
         "EST",
         "Estonia",
         "Europe",
         "1299371",
         "19030"
        ],
        [
         "43",
         "CZE",
         "Czech Republic",
         "Europe",
         "10211904",
         "18370"
        ],
        [
         "44",
         "OMN",
         "Oman",
         "Asia",
         "3418085",
         "16870"
        ],
        [
         "45",
         "SVK",
         "Slovak Republic",
         "Europe",
         "5463046",
         "17750"
        ],
        [
         "46",
         "URY",
         "Uruguay",
         "South America",
         "3494382",
         "16350"
        ],
        [
         "47",
         "LTU",
         "Lithuania",
         "Europe",
         "3555179",
         "15430"
        ],
        [
         "48",
         "LVA",
         "Latvia",
         "Europe",
         "2231503",
         "15280"
        ],
        [
         "49",
         "BRB",
         "Barbados",
         "North America",
         "284589",
         "15310"
        ]
       ],
       "shape": {
        "columns": 5,
        "rows": 188
       }
      },
      "text/html": [
       "<div>\n",
       "<style scoped>\n",
       "    .dataframe tbody tr th:only-of-type {\n",
       "        vertical-align: middle;\n",
       "    }\n",
       "\n",
       "    .dataframe tbody tr th {\n",
       "        vertical-align: top;\n",
       "    }\n",
       "\n",
       "    .dataframe thead th {\n",
       "        text-align: right;\n",
       "    }\n",
       "</style>\n",
       "<table border=\"1\" class=\"dataframe\">\n",
       "  <thead>\n",
       "    <tr style=\"text-align: right;\">\n",
       "      <th></th>\n",
       "      <th>iso3</th>\n",
       "      <th>country</th>\n",
       "      <th>continent</th>\n",
       "      <th>population</th>\n",
       "      <th>GNI</th>\n",
       "    </tr>\n",
       "  </thead>\n",
       "  <tbody>\n",
       "    <tr>\n",
       "      <th>0</th>\n",
       "      <td>BMU</td>\n",
       "      <td>Bermuda</td>\n",
       "      <td>North America</td>\n",
       "      <td>67837</td>\n",
       "      <td>106140</td>\n",
       "    </tr>\n",
       "    <tr>\n",
       "      <th>1</th>\n",
       "      <td>NOR</td>\n",
       "      <td>Norway</td>\n",
       "      <td>Europe</td>\n",
       "      <td>4676305</td>\n",
       "      <td>103630</td>\n",
       "    </tr>\n",
       "    <tr>\n",
       "      <th>2</th>\n",
       "      <td>QAT</td>\n",
       "      <td>Qatar</td>\n",
       "      <td>Asia</td>\n",
       "      <td>833285</td>\n",
       "      <td>92200</td>\n",
       "    </tr>\n",
       "    <tr>\n",
       "      <th>3</th>\n",
       "      <td>CHE</td>\n",
       "      <td>Switzerland</td>\n",
       "      <td>Europe</td>\n",
       "      <td>7604467</td>\n",
       "      <td>88120</td>\n",
       "    </tr>\n",
       "    <tr>\n",
       "      <th>4</th>\n",
       "      <td>MAC</td>\n",
       "      <td>Macao SAR, China</td>\n",
       "      <td>Asia</td>\n",
       "      <td>559846</td>\n",
       "      <td>76270</td>\n",
       "    </tr>\n",
       "    <tr>\n",
       "      <th>...</th>\n",
       "      <td>...</td>\n",
       "      <td>...</td>\n",
       "      <td>...</td>\n",
       "      <td>...</td>\n",
       "      <td>...</td>\n",
       "    </tr>\n",
       "    <tr>\n",
       "      <th>183</th>\n",
       "      <td>COD</td>\n",
       "      <td>Congo, Dem. Rep.</td>\n",
       "      <td>Africa</td>\n",
       "      <td>68692542</td>\n",
       "      <td>380</td>\n",
       "    </tr>\n",
       "    <tr>\n",
       "      <th>184</th>\n",
       "      <td>LBR</td>\n",
       "      <td>Liberia</td>\n",
       "      <td>Africa</td>\n",
       "      <td>3441790</td>\n",
       "      <td>370</td>\n",
       "    </tr>\n",
       "    <tr>\n",
       "      <th>185</th>\n",
       "      <td>CAF</td>\n",
       "      <td>Central African Republic</td>\n",
       "      <td>Africa</td>\n",
       "      <td>4511488</td>\n",
       "      <td>320</td>\n",
       "    </tr>\n",
       "    <tr>\n",
       "      <th>186</th>\n",
       "      <td>BDI</td>\n",
       "      <td>Burundi</td>\n",
       "      <td>Africa</td>\n",
       "      <td>8988091</td>\n",
       "      <td>270</td>\n",
       "    </tr>\n",
       "    <tr>\n",
       "      <th>187</th>\n",
       "      <td>MWI</td>\n",
       "      <td>Malawi</td>\n",
       "      <td>Africa</td>\n",
       "      <td>14268711</td>\n",
       "      <td>250</td>\n",
       "    </tr>\n",
       "  </tbody>\n",
       "</table>\n",
       "<p>188 rows × 5 columns</p>\n",
       "</div>"
      ],
      "text/plain": [
       "    iso3                   country      continent  population     GNI\n",
       "0    BMU                   Bermuda  North America       67837  106140\n",
       "1    NOR                    Norway         Europe     4676305  103630\n",
       "2    QAT                     Qatar           Asia      833285   92200\n",
       "3    CHE               Switzerland         Europe     7604467   88120\n",
       "4    MAC          Macao SAR, China           Asia      559846   76270\n",
       "..   ...                       ...            ...         ...     ...\n",
       "183  COD          Congo, Dem. Rep.         Africa    68692542     380\n",
       "184  LBR                   Liberia         Africa     3441790     370\n",
       "185  CAF  Central African Republic         Africa     4511488     320\n",
       "186  BDI                   Burundi         Africa     8988091     270\n",
       "187  MWI                    Malawi         Africa    14268711     250\n",
       "\n",
       "[188 rows x 5 columns]"
      ]
     },
     "execution_count": 2,
     "metadata": {},
     "output_type": "execute_result"
    }
   ],
   "source": [
    "import pandas as pd\n",
    "\n",
    "df =pd.read_csv('../data/GNI2014.csv')\n",
    "df"
   ]
  },
  {
   "cell_type": "code",
   "execution_count": 4,
   "id": "9e8e499d",
   "metadata": {},
   "outputs": [
    {
     "data": {
      "application/vnd.microsoft.datawrangler.viewer.v0+json": {
       "columns": [
        {
         "name": "index",
         "rawType": "int64",
         "type": "integer"
        },
        {
         "name": "iso3",
         "rawType": "object",
         "type": "string"
        },
        {
         "name": "country",
         "rawType": "object",
         "type": "string"
        },
        {
         "name": "continent",
         "rawType": "object",
         "type": "string"
        },
        {
         "name": "population",
         "rawType": "int64",
         "type": "integer"
        },
        {
         "name": "GNI",
         "rawType": "int64",
         "type": "integer"
        }
       ],
       "ref": "395cd9c7-cc9f-4585-8ea7-16134f833550",
       "rows": [
        [
         "0",
         "BMU",
         "Bermuda",
         "North America",
         "67837",
         "106140"
        ],
        [
         "1",
         "NOR",
         "Norway",
         "Europe",
         "4676305",
         "103630"
        ],
        [
         "2",
         "QAT",
         "Qatar",
         "Asia",
         "833285",
         "92200"
        ],
        [
         "3",
         "CHE",
         "Switzerland",
         "Europe",
         "7604467",
         "88120"
        ],
        [
         "4",
         "MAC",
         "Macao SAR, China",
         "Asia",
         "559846",
         "76270"
        ]
       ],
       "shape": {
        "columns": 5,
        "rows": 5
       }
      },
      "text/html": [
       "<div>\n",
       "<style scoped>\n",
       "    .dataframe tbody tr th:only-of-type {\n",
       "        vertical-align: middle;\n",
       "    }\n",
       "\n",
       "    .dataframe tbody tr th {\n",
       "        vertical-align: top;\n",
       "    }\n",
       "\n",
       "    .dataframe thead th {\n",
       "        text-align: right;\n",
       "    }\n",
       "</style>\n",
       "<table border=\"1\" class=\"dataframe\">\n",
       "  <thead>\n",
       "    <tr style=\"text-align: right;\">\n",
       "      <th></th>\n",
       "      <th>iso3</th>\n",
       "      <th>country</th>\n",
       "      <th>continent</th>\n",
       "      <th>population</th>\n",
       "      <th>GNI</th>\n",
       "    </tr>\n",
       "  </thead>\n",
       "  <tbody>\n",
       "    <tr>\n",
       "      <th>0</th>\n",
       "      <td>BMU</td>\n",
       "      <td>Bermuda</td>\n",
       "      <td>North America</td>\n",
       "      <td>67837</td>\n",
       "      <td>106140</td>\n",
       "    </tr>\n",
       "    <tr>\n",
       "      <th>1</th>\n",
       "      <td>NOR</td>\n",
       "      <td>Norway</td>\n",
       "      <td>Europe</td>\n",
       "      <td>4676305</td>\n",
       "      <td>103630</td>\n",
       "    </tr>\n",
       "    <tr>\n",
       "      <th>2</th>\n",
       "      <td>QAT</td>\n",
       "      <td>Qatar</td>\n",
       "      <td>Asia</td>\n",
       "      <td>833285</td>\n",
       "      <td>92200</td>\n",
       "    </tr>\n",
       "    <tr>\n",
       "      <th>3</th>\n",
       "      <td>CHE</td>\n",
       "      <td>Switzerland</td>\n",
       "      <td>Europe</td>\n",
       "      <td>7604467</td>\n",
       "      <td>88120</td>\n",
       "    </tr>\n",
       "    <tr>\n",
       "      <th>4</th>\n",
       "      <td>MAC</td>\n",
       "      <td>Macao SAR, China</td>\n",
       "      <td>Asia</td>\n",
       "      <td>559846</td>\n",
       "      <td>76270</td>\n",
       "    </tr>\n",
       "  </tbody>\n",
       "</table>\n",
       "</div>"
      ],
      "text/plain": [
       "  iso3           country      continent  population     GNI\n",
       "0  BMU           Bermuda  North America       67837  106140\n",
       "1  NOR            Norway         Europe     4676305  103630\n",
       "2  QAT             Qatar           Asia      833285   92200\n",
       "3  CHE       Switzerland         Europe     7604467   88120\n",
       "4  MAC  Macao SAR, China           Asia      559846   76270"
      ]
     },
     "execution_count": 4,
     "metadata": {},
     "output_type": "execute_result"
    }
   ],
   "source": [
    "df.iloc[:5]"
   ]
  },
  {
   "cell_type": "code",
   "execution_count": 6,
   "id": "59cb75d2",
   "metadata": {},
   "outputs": [
    {
     "data": {
      "text/plain": [
       "(188, 5)"
      ]
     },
     "execution_count": 6,
     "metadata": {},
     "output_type": "execute_result"
    }
   ],
   "source": [
    "# show the number of columns and rows respectively\n",
    "df.shape"
   ]
  },
  {
   "cell_type": "code",
   "execution_count": 9,
   "id": "f60b6d4f",
   "metadata": {},
   "outputs": [
    {
     "data": {
      "application/vnd.microsoft.datawrangler.viewer.v0+json": {
       "columns": [
        {
         "name": "index",
         "rawType": "object",
         "type": "string"
        },
        {
         "name": "0",
         "rawType": "int64",
         "type": "integer"
        }
       ],
       "ref": "d4eac905-9d52-4ac7-bf0c-2ab709e7688d",
       "rows": [
        [
         "iso3",
         "188"
        ],
        [
         "country",
         "188"
        ],
        [
         "continent",
         "7"
        ],
        [
         "population",
         "188"
        ],
        [
         "GNI",
         "182"
        ]
       ],
       "shape": {
        "columns": 1,
        "rows": 5
       }
      },
      "text/plain": [
       "iso3          188\n",
       "country       188\n",
       "continent       7\n",
       "population    188\n",
       "GNI           182\n",
       "dtype: int64"
      ]
     },
     "execution_count": 9,
     "metadata": {},
     "output_type": "execute_result"
    }
   ],
   "source": [
    "# show the unique content\n",
    "df.nunique()"
   ]
  },
  {
   "cell_type": "code",
   "execution_count": 15,
   "id": "47ef1f3f",
   "metadata": {},
   "outputs": [
    {
     "data": {
      "application/vnd.microsoft.datawrangler.viewer.v0+json": {
       "columns": [
        {
         "name": "index",
         "rawType": "int64",
         "type": "integer"
        },
        {
         "name": "population",
         "rawType": "int64",
         "type": "integer"
        }
       ],
       "ref": "81ef33a4-6cea-4f77-b931-d2bc4723238f",
       "rows": [
        [
         "1",
         "4676305"
        ]
       ],
       "shape": {
        "columns": 1,
        "rows": 1
       }
      },
      "text/plain": [
       "1    4676305\n",
       "Name: population, dtype: int64"
      ]
     },
     "execution_count": 15,
     "metadata": {},
     "output_type": "execute_result"
    }
   ],
   "source": [
    "#show the population of Norway\n",
    "df[df['country'] == 'Norway']['population']\n"
   ]
  },
  {
   "cell_type": "code",
   "execution_count": 16,
   "id": "6419773a",
   "metadata": {},
   "outputs": [
    {
     "data": {
      "application/vnd.microsoft.datawrangler.viewer.v0+json": {
       "columns": [
        {
         "name": "index",
         "rawType": "int64",
         "type": "integer"
        },
        {
         "name": "country",
         "rawType": "object",
         "type": "string"
        }
       ],
       "ref": "a8a190f1-4860-4fec-b6cf-b190db1f356b",
       "rows": [
        [
         "1",
         "Norway"
        ],
        [
         "3",
         "Switzerland"
        ],
        [
         "5",
         "Luxembourg"
        ],
        [
         "7",
         "Sweden"
        ],
        [
         "8",
         "Denmark"
        ],
        [
         "11",
         "Netherlands"
        ],
        [
         "13",
         "Austria"
        ],
        [
         "15",
         "Finland"
        ],
        [
         "16",
         "Germany"
        ],
        [
         "17",
         "Iceland"
        ],
        [
         "18",
         "Belgium"
        ],
        [
         "19",
         "Ireland"
        ],
        [
         "21",
         "United Kingdom"
        ],
        [
         "22",
         "France"
        ],
        [
         "24",
         "Andorra"
        ],
        [
         "29",
         "Italy"
        ],
        [
         "30",
         "Spain"
        ],
        [
         "34",
         "Slovenia"
        ],
        [
         "35",
         "Greece"
        ],
        [
         "36",
         "Portugal"
        ],
        [
         "39",
         "Malta"
        ],
        [
         "42",
         "Estonia"
        ],
        [
         "43",
         "Czech Republic"
        ],
        [
         "45",
         "Slovak Republic"
        ],
        [
         "47",
         "Lithuania"
        ],
        [
         "48",
         "Latvia"
        ],
        [
         "53",
         "Poland"
        ],
        [
         "55",
         "Hungary"
        ],
        [
         "57",
         "Russian Federation"
        ],
        [
         "58",
         "Croatia"
        ],
        [
         "73",
         "Romania"
        ],
        [
         "78",
         "Bulgaria"
        ],
        [
         "81",
         "Belarus"
        ],
        [
         "82",
         "Montenegro"
        ],
        [
         "94",
         "Serbia"
        ],
        [
         "101",
         "Macedonia, FYR"
        ],
        [
         "103",
         "Bosnia and Herzegovina"
        ],
        [
         "105",
         "Albania"
        ],
        [
         "113",
         "Kosovo"
        ],
        [
         "118",
         "Ukraine"
        ],
        [
         "134",
         "Moldova"
        ]
       ],
       "shape": {
        "columns": 1,
        "rows": 41
       }
      },
      "text/plain": [
       "1                      Norway\n",
       "3                 Switzerland\n",
       "5                  Luxembourg\n",
       "7                      Sweden\n",
       "8                     Denmark\n",
       "11                Netherlands\n",
       "13                    Austria\n",
       "15                    Finland\n",
       "16                    Germany\n",
       "17                    Iceland\n",
       "18                    Belgium\n",
       "19                    Ireland\n",
       "21             United Kingdom\n",
       "22                     France\n",
       "24                    Andorra\n",
       "29                      Italy\n",
       "30                      Spain\n",
       "34                   Slovenia\n",
       "35                     Greece\n",
       "36                   Portugal\n",
       "39                      Malta\n",
       "42                    Estonia\n",
       "43             Czech Republic\n",
       "45            Slovak Republic\n",
       "47                  Lithuania\n",
       "48                     Latvia\n",
       "53                     Poland\n",
       "55                    Hungary\n",
       "57         Russian Federation\n",
       "58                    Croatia\n",
       "73                    Romania\n",
       "78                   Bulgaria\n",
       "81                    Belarus\n",
       "82                 Montenegro\n",
       "94                     Serbia\n",
       "101            Macedonia, FYR\n",
       "103    Bosnia and Herzegovina\n",
       "105                   Albania\n",
       "113                    Kosovo\n",
       "118                   Ukraine\n",
       "134                   Moldova\n",
       "Name: country, dtype: object"
      ]
     },
     "execution_count": 16,
     "metadata": {},
     "output_type": "execute_result"
    }
   ],
   "source": [
    "# show a list of countries belonging to the European continent\n",
    "df[df['continent'] == 'Europe']['country']"
   ]
  },
  {
   "cell_type": "code",
   "execution_count": null,
   "id": "8985eead",
   "metadata": {},
   "outputs": [],
   "source": []
  }
 ],
 "metadata": {
  "kernelspec": {
   "display_name": "Python 3",
   "language": "python",
   "name": "python3"
  },
  "language_info": {
   "codemirror_mode": {
    "name": "ipython",
    "version": 3
   },
   "file_extension": ".py",
   "mimetype": "text/x-python",
   "name": "python",
   "nbconvert_exporter": "python",
   "pygments_lexer": "ipython3",
   "version": "3.13.5"
  }
 },
 "nbformat": 4,
 "nbformat_minor": 5
}
